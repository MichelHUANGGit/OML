{
 "cells": [
  {
   "cell_type": "markdown",
   "metadata": {},
   "source": [
    "# 3. Binary Classification on real-world data"
   ]
  },
  {
   "cell_type": "markdown",
   "metadata": {},
   "source": [
    "# 3.1 Dataset"
   ]
  },
  {
   "cell_type": "code",
   "execution_count": 1,
   "metadata": {},
   "outputs": [],
   "source": [
    "import numpy as np\n",
    "import matplotlib.pyplot as plt\n",
    "from scipy.linalg import norm\n",
    "\n",
    "import gc\n",
    "from tqdm import tqdm\n",
    "from sklearn.datasets import load_svmlight_file"
   ]
  },
  {
   "cell_type": "markdown",
   "metadata": {},
   "source": [
    "### Implementation 3.1\n",
    "\n",
    "Select a dataset from the libsvm repository. The dataset should have at least 20 features\n",
    "and 1,000 training samples."
   ]
  },
  {
   "cell_type": "markdown",
   "metadata": {},
   "source": [
    "**Downloading**"
   ]
  },
  {
   "cell_type": "code",
   "execution_count": 2,
   "metadata": {},
   "outputs": [
    {
     "data": {
      "text/plain": [
       "('mushrooms', <http.client.HTTPMessage at 0x16da29955b0>)"
      ]
     },
     "execution_count": 2,
     "metadata": {},
     "output_type": "execute_result"
    }
   ],
   "source": [
    "# from urllib.request import urlretrieve\n",
    "# urlretrieve(\"https://www.csie.ntu.edu.tw/~cjlin/libsvmtools/datasets/binary/mushrooms\", \"mushrooms\")\n",
    "# urlretrieve(\"https://www.csie.ntu.edu.tw/~cjlin/libsvmtools/datasets/binary/a9a\", \"a9a\")\n",
    "# urlretrieve(\"https://www.csie.ntu.edu.tw/~cjlin/libsvmtools/datasets/binary/a9a.t\",\"a9a.t\")"
   ]
  },
  {
   "cell_type": "markdown",
   "metadata": {},
   "source": [
    "**Loading the a9a dataset**\n",
    "\n",
    "It has :\n",
    "- 32 561 samples (train) / 16 281 samples (test)\n",
    "- 123 features"
   ]
  },
  {
   "cell_type": "code",
   "execution_count": 2,
   "metadata": {},
   "outputs": [],
   "source": [
    "file = \"mushrooms\"\n",
    "X, y = load_svmlight_file(file)"
   ]
  },
  {
   "cell_type": "code",
   "execution_count": 3,
   "metadata": {},
   "outputs": [
    {
     "data": {
      "text/plain": [
       "(8124, 112)"
      ]
     },
     "execution_count": 3,
     "metadata": {},
     "output_type": "execute_result"
    }
   ],
   "source": [
    "X.shape"
   ]
  },
  {
   "cell_type": "code",
   "execution_count": 4,
   "metadata": {},
   "outputs": [],
   "source": [
    "X_train, y_train = X.toarray(), y"
   ]
  },
  {
   "cell_type": "code",
   "execution_count": 77,
   "metadata": {},
   "outputs": [
    {
     "data": {
      "text/plain": [
       "array([0., 0., 0., 0., 0., 1., 0., 1., 0., 0., 0., 0., 0., 0., 1., 0., 0.,\n",
       "       0., 0., 0., 1., 0., 0., 0., 0., 0., 0., 0., 1., 0., 0., 0., 1., 1.,\n",
       "       0., 0., 1., 0., 0., 0., 0., 1., 0., 0., 0., 0., 0., 0., 0., 1., 0.,\n",
       "       0., 1., 0., 0., 0., 1., 0., 0., 0., 0., 0., 0., 0., 0., 0., 1., 0.,\n",
       "       0., 0., 0., 0., 0., 0., 0., 1., 0., 0., 0., 1., 0., 0., 1., 0., 1.,\n",
       "       0., 0., 0., 0., 0., 0., 1., 0., 0., 0., 0., 0., 0., 0., 0., 0., 1.,\n",
       "       0., 0., 0., 0., 0., 0., 0., 1., 0.])"
      ]
     },
     "execution_count": 77,
     "metadata": {},
     "output_type": "execute_result"
    }
   ],
   "source": [
    "X_train[0]"
   ]
  },
  {
   "cell_type": "code",
   "execution_count": 82,
   "metadata": {},
   "outputs": [
    {
     "name": "stdout",
     "output_type": "stream",
     "text": [
      "The frequency of the first 10 features : [0.00049237 0.05563762 0.38798621 0.10192024 0.00393895 0.45002462\n",
      " 0.39931068 0.31462334 0.00049237 0.28557361]\n"
     ]
    }
   ],
   "source": [
    "print(\"The frequency of the first 10 features :\", X_train.mean(axis=0)[:10])"
   ]
  },
  {
   "cell_type": "markdown",
   "metadata": {},
   "source": [
    "**The features seem very sparse, a lot are often empty**"
   ]
  },
  {
   "cell_type": "markdown",
   "metadata": {},
   "source": [
    "Converting label 2 to -1"
   ]
  },
  {
   "cell_type": "code",
   "execution_count": 6,
   "metadata": {},
   "outputs": [
    {
     "data": {
      "text/plain": [
       "array([1., 2.])"
      ]
     },
     "execution_count": 6,
     "metadata": {},
     "output_type": "execute_result"
    }
   ],
   "source": [
    "np.unique(y_train)"
   ]
  },
  {
   "cell_type": "code",
   "execution_count": 7,
   "metadata": {},
   "outputs": [],
   "source": [
    "y_train = np.where(y_train == 2, -1, y_train)"
   ]
  },
  {
   "cell_type": "markdown",
   "metadata": {},
   "source": [
    "Checking if X's feature are normalized"
   ]
  },
  {
   "cell_type": "code",
   "execution_count": 8,
   "metadata": {},
   "outputs": [
    {
     "data": {
      "text/plain": [
       "(0.1875, 0.3903123748998999)"
      ]
     },
     "execution_count": 8,
     "metadata": {},
     "output_type": "execute_result"
    }
   ],
   "source": [
    "X_train.mean(), X_train.std()"
   ]
  },
  {
   "cell_type": "markdown",
   "metadata": {},
   "source": [
    "X train has a constant feature"
   ]
  },
  {
   "cell_type": "code",
   "execution_count": 9,
   "metadata": {},
   "outputs": [
    {
     "data": {
      "text/plain": [
       "array([1.])"
      ]
     },
     "execution_count": 9,
     "metadata": {},
     "output_type": "execute_result"
    }
   ],
   "source": [
    "np.unique(X_train[:,77])"
   ]
  },
  {
   "cell_type": "code",
   "execution_count": 10,
   "metadata": {},
   "outputs": [],
   "source": [
    "X_train = np.delete(X_train, 77, axis=1)"
   ]
  },
  {
   "cell_type": "code",
   "execution_count": 11,
   "metadata": {},
   "outputs": [
    {
     "data": {
      "text/plain": [
       "array([0., 1.])"
      ]
     },
     "execution_count": 11,
     "metadata": {},
     "output_type": "execute_result"
    }
   ],
   "source": [
    "np.unique(X_train[:,77])"
   ]
  },
  {
   "cell_type": "markdown",
   "metadata": {},
   "source": [
    "**Creating a scaler class**"
   ]
  },
  {
   "cell_type": "code",
   "execution_count": 12,
   "metadata": {},
   "outputs": [],
   "source": [
    "class Scaler():\n",
    "\n",
    "    def __init__(self) -> None:\n",
    "        pass\n",
    "\n",
    "    def fit(self, X):\n",
    "        # Computing the mean and std along the features\n",
    "        mean = np.mean(X, axis=0)\n",
    "        std = np.std(X, axis=0)\n",
    "        self.mean = mean\n",
    "        self.std = std\n",
    "\n",
    "    def transform(self, X):\n",
    "        return (X-self.mean)/self.std"
   ]
  },
  {
   "cell_type": "code",
   "execution_count": 13,
   "metadata": {},
   "outputs": [],
   "source": [
    "scaler = Scaler()"
   ]
  },
  {
   "cell_type": "code",
   "execution_count": 14,
   "metadata": {},
   "outputs": [],
   "source": [
    "scaler.fit(X_train)\n",
    "scaled_X_train = scaler.transform(X_train)"
   ]
  },
  {
   "cell_type": "code",
   "execution_count": 15,
   "metadata": {},
   "outputs": [
    {
     "data": {
      "text/plain": [
       "(4.727685308529284e-19, 1.000000000000008)"
      ]
     },
     "execution_count": 15,
     "metadata": {},
     "output_type": "execute_result"
    }
   ],
   "source": [
    "scaled_X_train.mean(), scaled_X_train.std()"
   ]
  },
  {
   "cell_type": "code",
   "execution_count": 16,
   "metadata": {},
   "outputs": [
    {
     "name": "stdout",
     "output_type": "stream",
     "text": [
      "8124 111\n"
     ]
    }
   ],
   "source": [
    "N, d = X_train.shape\n",
    "print(N, d)"
   ]
  },
  {
   "cell_type": "markdown",
   "metadata": {},
   "source": [
    "### Implementation 3.2\n",
    "\n",
    "Given your dataset, implement the associated codes for $g_S$ , $\\nabla g_S$ and $\\nabla^2 g_S$ , where S\n",
    "is a set of random indices in {1, . . . , n}"
   ]
  },
  {
   "cell_type": "code",
   "execution_count": 17,
   "metadata": {},
   "outputs": [],
   "source": [
    "class Loss():\n",
    "\n",
    "    def __init__(\n",
    "        self,\n",
    "        X, \n",
    "        y, \n",
    "        lbda=None,\n",
    "        regul=None,\n",
    "        batch_size=None,\n",
    "        grad_batch_size=None, \n",
    "        grad2_batch_size=None\n",
    "    ) -> None:\n",
    "\n",
    "        self.X = X\n",
    "        self.y = y\n",
    "        self.N, self.d = self.X.shape\n",
    "        # we add a regularization term if needed\n",
    "        self.lbda = lbda\n",
    "        self.regul = regul\n",
    "        # Initialize a default batch size\n",
    "        self.batch_size = batch_size\n",
    "        self.grad_batch_size = grad_batch_size\n",
    "        self.grad2_batch_size = grad2_batch_size\n",
    "        # tracking number of evaluations\n",
    "        self.func_evals = 0\n",
    "        self.grad_evals = 0\n",
    "    \n",
    "    def g_i(self, w, i):\n",
    "        self.func_evals += 1\n",
    "        return ( self.y[i] - (1 / (1 + np.exp(-self.X[i].dot(w)))) )**2\n",
    "    \n",
    "    def __call__(self, w, indexes=None):\n",
    "        # Default batch size if indexes isn't given\n",
    "        indexes = self.batch_size if indexes is None else indexes\n",
    "        # We add the regularization term directly here and not in g_i\n",
    "        # (because it would be a redundant calculation to compute the mean of a term that doesn't depend on the batch chosen)\n",
    "        # This is ok bc we never actually call g_i directly outside of the class\n",
    "        if self.regul == 'l1':\n",
    "            regul = (self.lbda/2) * norm(w,1)\n",
    "        elif self.regul == 'l2' :\n",
    "            regul = (self.lbda/2) * (norm(w,2)**2)\n",
    "        else :\n",
    "            regul = 0\n",
    "        return np.mean(self.g_i(w, indexes)) + regul\n",
    "    \n",
    "    def grad_i(self, w, i):\n",
    "        self.grad_evals += 1\n",
    "        exp_xiw = np.exp(self.X[i].dot(w))\n",
    "        return (-2 * exp_xiw * (exp_xiw * (self.y[i]-1) + self.y[i]) * self.X[i]) / (1 + exp_xiw)**3\n",
    "    \n",
    "    def grad(self, w, indexes=None):\n",
    "        indexes = self.grad_batch_size if indexes is None else indexes\n",
    "        grad = np.zeros(self.d)\n",
    "        for idx in indexes:\n",
    "            grad += self.grad_i(w, idx)\n",
    "        # regularization term\n",
    "        if self.regul == 'l1':\n",
    "            regul = (self.lbda/2) * np.sign(w)\n",
    "        elif self.regul == 'l2' :\n",
    "            regul = self.lbda*w\n",
    "        else :\n",
    "            regul = 0\n",
    "        return grad/len(indexes) + regul\n",
    "    \n",
    "    def grad2_i(self, w, i):\n",
    "        # Returns a (d,d) shape array\n",
    "        self.grad_evals += self.d\n",
    "        exp_xiw = np.exp(self.X[i].dot(w))\n",
    "        scalar = 2 * exp_xiw * ( (exp_xiw**2 * (self.y[i]-1)) + (2 * exp_xiw - self.y[i]) ) / (1 + exp_xiw)**4\n",
    "        return scalar * self.X[i].reshape(self.d, 1) @ self.X[i].reshape(1, self.d)\n",
    "    \n",
    "    def grad2(self, w, indexes=None):\n",
    "        indexes = self.grad2_batch_size if indexes is None else indexes\n",
    "        grad2 = np.zeros(shape=(self.d, self.d))\n",
    "        for idx in indexes:\n",
    "            grad2 += self.grad2_i(w, idx)\n",
    "        # regularization term\n",
    "        if self.regul == 'l1':\n",
    "            regul = 0\n",
    "        elif self.regul == 'l2' :\n",
    "            regul = self.lbda*np.identity(self.d)\n",
    "        else :\n",
    "            regul = 0\n",
    "        return grad2/len(indexes) + regul\n",
    "    \n",
    "    def get_L():\n",
    "        pass\n",
    "\n",
    "    def get_batch_L():\n",
    "        pass"
   ]
  },
  {
   "cell_type": "code",
   "execution_count": 84,
   "metadata": {},
   "outputs": [],
   "source": [
    "g = Loss(\n",
    "    X=X_train,\n",
    "    y=y_train,\n",
    "    regul=\"l1\",\n",
    "    lbda=1./np.sqrt(N)\n",
    ")"
   ]
  },
  {
   "cell_type": "markdown",
   "metadata": {},
   "source": [
    "it makes sense to use l1 regularization here because the features are very sparse"
   ]
  },
  {
   "cell_type": "markdown",
   "metadata": {},
   "source": [
    "Checking if my gradients implementation are correct :"
   ]
  },
  {
   "cell_type": "code",
   "execution_count": 85,
   "metadata": {},
   "outputs": [
    {
     "name": "stdout",
     "output_type": "stream",
     "text": [
      "gradient error : 1.2588132595400352e-07\n",
      "Hessian error : 1.873825697209649e-09\n"
     ]
    }
   ],
   "source": [
    "# <30 seconds\n",
    "from scipy.optimize import check_grad\n",
    "\n",
    "# computing func/grad on a random point\n",
    "some_w = np.random.rand(d)\n",
    "\n",
    "print(\"gradient error :\", check_grad(g.__call__, g.grad, some_w, np.arange(N)))\n",
    "\n",
    "print(\"Hessian error :\", check_grad(g.grad, g.grad2, some_w, np.arange(N)))"
   ]
  },
  {
   "cell_type": "markdown",
   "metadata": {},
   "source": [
    "## 3.3 Comparison of the algorithms"
   ]
  },
  {
   "cell_type": "markdown",
   "metadata": {},
   "source": [
    "### Question 10\n",
    "Compare the performance of the subsampling Newton method from Section 2.1 and that of the\n",
    "stochastic quasi-Newton method of Section 2.2 with a (batch) stochastic gradient approach. You may reuse\n",
    "the stochastic gradient implementation from the course notebooks"
   ]
  },
  {
   "cell_type": "code",
   "execution_count": 86,
   "metadata": {},
   "outputs": [],
   "source": [
    "from algorithms2 import SubNewton, BatchArmijoLineSearch, BatchBFGS, BatchLBFGS"
   ]
  },
  {
   "cell_type": "code",
   "execution_count": 87,
   "metadata": {},
   "outputs": [
    {
     "name": "stdout",
     "output_type": "stream",
     "text": [
      "Initial loss : 1.8903447298689455\n"
     ]
    }
   ],
   "source": [
    "np.random.seed(5)\n",
    "w0 = np.random.randn(d)\n",
    "print(\"Initial loss :\",g(w0, np.arange(N)))"
   ]
  },
  {
   "cell_type": "code",
   "execution_count": 88,
   "metadata": {},
   "outputs": [
    {
     "name": "stdout",
     "output_type": "stream",
     "text": [
      " epoch   |   loss   |   norm  \n"
     ]
    },
    {
     "name": "stderr",
     "output_type": "stream",
     "text": [
      "       0 | 1.89e+00 | 6.16e-01:   0%|          | 0/10 [00:00<?, ?it/s]\n"
     ]
    },
    {
     "ename": "LinAlgError",
     "evalue": "Singular matrix",
     "output_type": "error",
     "traceback": [
      "\u001b[1;31m---------------------------------------------------------------------------\u001b[0m",
      "\u001b[1;31mLinAlgError\u001b[0m                               Traceback (most recent call last)",
      "Cell \u001b[1;32mIn[88], line 1\u001b[0m\n\u001b[1;32m----> 1\u001b[0m w, loss_logs, norm_logs \u001b[38;5;241m=\u001b[39m \u001b[43mSubNewton\u001b[49m\u001b[43m(\u001b[49m\n\u001b[0;32m      2\u001b[0m \u001b[43m    \u001b[49m\u001b[43minitial_w\u001b[49m\u001b[38;5;241;43m=\u001b[39;49m\u001b[43mw0\u001b[49m\u001b[43m,\u001b[49m\n\u001b[0;32m      3\u001b[0m \u001b[43m    \u001b[49m\u001b[43mloss_class\u001b[49m\u001b[38;5;241;43m=\u001b[39;49m\u001b[43mg\u001b[49m\u001b[43m,\u001b[49m\n\u001b[0;32m      4\u001b[0m \u001b[43m    \u001b[49m\u001b[43mgrad_batch_size\u001b[49m\u001b[38;5;241;43m=\u001b[39;49m\u001b[43mN\u001b[49m\u001b[38;5;241;43m/\u001b[39;49m\u001b[38;5;241;43m/\u001b[39;49m\u001b[38;5;241;43m10\u001b[39;49m\u001b[43m,\u001b[49m\n\u001b[0;32m      5\u001b[0m \u001b[43m    \u001b[49m\u001b[43mgrad2_batch_size\u001b[49m\u001b[38;5;241;43m=\u001b[39;49m\u001b[43mN\u001b[49m\u001b[38;5;241;43m/\u001b[39;49m\u001b[38;5;241;43m/\u001b[39;49m\u001b[38;5;241;43m10\u001b[39;49m\u001b[43m,\u001b[49m\n\u001b[0;32m      6\u001b[0m \u001b[43m    \u001b[49m\u001b[43mmax_epochs\u001b[49m\u001b[38;5;241;43m=\u001b[39;49m\u001b[38;5;241;43m20\u001b[39;49m\u001b[43m,\u001b[49m\n\u001b[0;32m      7\u001b[0m \u001b[43m    \u001b[49m\u001b[43muse_line_search\u001b[49m\u001b[38;5;241;43m=\u001b[39;49m\u001b[38;5;28;43;01mTrue\u001b[39;49;00m\u001b[43m,\u001b[49m\n\u001b[0;32m      8\u001b[0m \u001b[43m)\u001b[49m\n",
      "File \u001b[1;32mc:\\Users\\huang\\Desktop\\Optimisation\\Project\\algorithms2.py:83\u001b[0m, in \u001b[0;36mSubNewton\u001b[1;34m(initial_w, loss_class, grad_batch_size, grad2_batch_size, max_epochs, ground_truth, tolerance, verbose, seed, with_remplacement, use_line_search, step_size, alpha_batch_L, **Armijo_kwargs)\u001b[0m\n\u001b[0;32m     80\u001b[0m batch_grad2 \u001b[38;5;241m=\u001b[39m loss_class\u001b[38;5;241m.\u001b[39mgrad2(w, grad2_idx)\n\u001b[0;32m     82\u001b[0m \u001b[38;5;66;03m# Direction\u001b[39;00m\n\u001b[1;32m---> 83\u001b[0m direction \u001b[38;5;241m=\u001b[39m \u001b[38;5;241m-\u001b[39m(\u001b[43mnp\u001b[49m\u001b[38;5;241;43m.\u001b[39;49m\u001b[43mlinalg\u001b[49m\u001b[38;5;241;43m.\u001b[39;49m\u001b[43minv\u001b[49m\u001b[43m(\u001b[49m\u001b[43mbatch_grad2\u001b[49m\u001b[43m)\u001b[49m \u001b[38;5;241m@\u001b[39m batch_grad)\n\u001b[0;32m     85\u001b[0m \u001b[38;5;66;03m# Computing the batch loss (used in line search to avoid redundant recomputation)\u001b[39;00m\n\u001b[0;32m     86\u001b[0m batch_loss \u001b[38;5;241m=\u001b[39m loss_class(w, grad_idx)\n",
      "File \u001b[1;32mc:\\Users\\huang\\Desktop\\Optimisation\\Project\\venv\\Lib\\site-packages\\numpy\\linalg\\linalg.py:561\u001b[0m, in \u001b[0;36minv\u001b[1;34m(a)\u001b[0m\n\u001b[0;32m    559\u001b[0m signature \u001b[38;5;241m=\u001b[39m \u001b[38;5;124m'\u001b[39m\u001b[38;5;124mD->D\u001b[39m\u001b[38;5;124m'\u001b[39m \u001b[38;5;28;01mif\u001b[39;00m isComplexType(t) \u001b[38;5;28;01melse\u001b[39;00m \u001b[38;5;124m'\u001b[39m\u001b[38;5;124md->d\u001b[39m\u001b[38;5;124m'\u001b[39m\n\u001b[0;32m    560\u001b[0m extobj \u001b[38;5;241m=\u001b[39m get_linalg_error_extobj(_raise_linalgerror_singular)\n\u001b[1;32m--> 561\u001b[0m ainv \u001b[38;5;241m=\u001b[39m \u001b[43m_umath_linalg\u001b[49m\u001b[38;5;241;43m.\u001b[39;49m\u001b[43minv\u001b[49m\u001b[43m(\u001b[49m\u001b[43ma\u001b[49m\u001b[43m,\u001b[49m\u001b[43m \u001b[49m\u001b[43msignature\u001b[49m\u001b[38;5;241;43m=\u001b[39;49m\u001b[43msignature\u001b[49m\u001b[43m,\u001b[49m\u001b[43m \u001b[49m\u001b[43mextobj\u001b[49m\u001b[38;5;241;43m=\u001b[39;49m\u001b[43mextobj\u001b[49m\u001b[43m)\u001b[49m\n\u001b[0;32m    562\u001b[0m \u001b[38;5;28;01mreturn\u001b[39;00m wrap(ainv\u001b[38;5;241m.\u001b[39mastype(result_t, copy\u001b[38;5;241m=\u001b[39m\u001b[38;5;28;01mFalse\u001b[39;00m))\n",
      "File \u001b[1;32mc:\\Users\\huang\\Desktop\\Optimisation\\Project\\venv\\Lib\\site-packages\\numpy\\linalg\\linalg.py:112\u001b[0m, in \u001b[0;36m_raise_linalgerror_singular\u001b[1;34m(err, flag)\u001b[0m\n\u001b[0;32m    111\u001b[0m \u001b[38;5;28;01mdef\u001b[39;00m \u001b[38;5;21m_raise_linalgerror_singular\u001b[39m(err, flag):\n\u001b[1;32m--> 112\u001b[0m     \u001b[38;5;28;01mraise\u001b[39;00m LinAlgError(\u001b[38;5;124m\"\u001b[39m\u001b[38;5;124mSingular matrix\u001b[39m\u001b[38;5;124m\"\u001b[39m)\n",
      "\u001b[1;31mLinAlgError\u001b[0m: Singular matrix"
     ]
    }
   ],
   "source": [
    "w, loss_logs, norm_logs = SubNewton(\n",
    "    initial_w=w0,\n",
    "    loss_class=g,\n",
    "    grad_batch_size=N//10,\n",
    "    grad2_batch_size=N//10,\n",
    "    max_epochs=20,\n",
    "    use_line_search=True,\n",
    ")"
   ]
  },
  {
   "cell_type": "markdown",
   "metadata": {},
   "source": [
    "The Subsampling Newton method has a singular Hessian matrix for small batch sizes"
   ]
  },
  {
   "cell_type": "code",
   "execution_count": 89,
   "metadata": {},
   "outputs": [
    {
     "name": "stdout",
     "output_type": "stream",
     "text": [
      "Singular matrix\n",
      "Singular matrix\n",
      "Singular matrix\n",
      "Singular matrix\n",
      "Singular matrix\n",
      "Singular matrix\n",
      "Singular matrix\n",
      "Singular matrix\n",
      "Singular matrix\n",
      "Singular matrix\n"
     ]
    }
   ],
   "source": [
    "for batch_size in 2**np.arange(10):\n",
    "    batch_idx = np.random.choice(N, size=batch_size)\n",
    "    try :\n",
    "        np.linalg.inv(g.grad2(w0, batch_idx))\n",
    "    except:\n",
    "        print(\"Singular matrix\")"
   ]
  },
  {
   "cell_type": "markdown",
   "metadata": {},
   "source": [
    "However for batch_size = N (normal Newton), it is invertible"
   ]
  },
  {
   "cell_type": "code",
   "execution_count": 90,
   "metadata": {},
   "outputs": [],
   "source": [
    "try :\n",
    "    np.linalg.inv(g.grad2(w0, np.arange(N)))\n",
    "except:\n",
    "    print(\"Singular matrix\")"
   ]
  },
  {
   "cell_type": "markdown",
   "metadata": {},
   "source": [
    "Let's try with grad2_batch_size = N"
   ]
  },
  {
   "cell_type": "code",
   "execution_count": 91,
   "metadata": {},
   "outputs": [
    {
     "name": "stdout",
     "output_type": "stream",
     "text": [
      " epoch   |   loss   |   norm  \n"
     ]
    },
    {
     "name": "stderr",
     "output_type": "stream",
     "text": [
      "       0 | 1.89e+00 | 6.16e-01:   0%|          | 0/1 [00:00<?, ?it/s]C:\\Users\\huang\\AppData\\Local\\Temp\\ipykernel_90488\\3396397676.py:30: RuntimeWarning: overflow encountered in exp\n",
      "  return ( self.y[i] - (1 / (1 + np.exp(-self.X[i].dot(w)))) )**2\n",
      "       0 | 1.89e+00 | 6.16e-01: 100%|██████████| 1/1 [00:01<00:00,  1.24s/it]"
     ]
    },
    {
     "name": "stdout",
     "output_type": "stream",
     "text": [
      "alpha too low using 1\n"
     ]
    },
    {
     "name": "stderr",
     "output_type": "stream",
     "text": [
      "\n",
      "C:\\Users\\huang\\AppData\\Local\\Temp\\ipykernel_90488\\3396397676.py:47: RuntimeWarning: overflow encountered in exp\n",
      "  exp_xiw = np.exp(self.X[i].dot(w))\n",
      "C:\\Users\\huang\\AppData\\Local\\Temp\\ipykernel_90488\\3396397676.py:48: RuntimeWarning: invalid value encountered in multiply\n",
      "  return (-2 * exp_xiw * (exp_xiw * (self.y[i]-1) + self.y[i]) * self.X[i]) / (1 + exp_xiw)**3\n",
      "C:\\Users\\huang\\AppData\\Local\\Temp\\ipykernel_90488\\3396397676.py:48: RuntimeWarning: invalid value encountered in divide\n",
      "  return (-2 * exp_xiw * (exp_xiw * (self.y[i]-1) + self.y[i]) * self.X[i]) / (1 + exp_xiw)**3\n",
      "C:\\Users\\huang\\AppData\\Local\\Temp\\ipykernel_90488\\3396397676.py:48: RuntimeWarning: invalid value encountered in scalar multiply\n",
      "  return (-2 * exp_xiw * (exp_xiw * (self.y[i]-1) + self.y[i]) * self.X[i]) / (1 + exp_xiw)**3\n"
     ]
    },
    {
     "ename": "ValueError",
     "evalue": "array must not contain infs or NaNs",
     "output_type": "error",
     "traceback": [
      "\u001b[1;31m---------------------------------------------------------------------------\u001b[0m",
      "\u001b[1;31mValueError\u001b[0m                                Traceback (most recent call last)",
      "Cell \u001b[1;32mIn[91], line 1\u001b[0m\n\u001b[1;32m----> 1\u001b[0m w, loss_logs, norm_logs \u001b[38;5;241m=\u001b[39m \u001b[43mSubNewton\u001b[49m\u001b[43m(\u001b[49m\n\u001b[0;32m      2\u001b[0m \u001b[43m    \u001b[49m\u001b[43minitial_w\u001b[49m\u001b[38;5;241;43m=\u001b[39;49m\u001b[43mw0\u001b[49m\u001b[43m,\u001b[49m\n\u001b[0;32m      3\u001b[0m \u001b[43m    \u001b[49m\u001b[43mloss_class\u001b[49m\u001b[38;5;241;43m=\u001b[39;49m\u001b[43mg\u001b[49m\u001b[43m,\u001b[49m\n\u001b[0;32m      4\u001b[0m \u001b[43m    \u001b[49m\u001b[43mgrad_batch_size\u001b[49m\u001b[38;5;241;43m=\u001b[39;49m\u001b[43mN\u001b[49m\u001b[43m,\u001b[49m\n\u001b[0;32m      5\u001b[0m \u001b[43m    \u001b[49m\u001b[43mgrad2_batch_size\u001b[49m\u001b[38;5;241;43m=\u001b[39;49m\u001b[43mN\u001b[49m\u001b[43m,\u001b[49m\n\u001b[0;32m      6\u001b[0m \u001b[43m    \u001b[49m\u001b[43mmax_epochs\u001b[49m\u001b[38;5;241;43m=\u001b[39;49m\u001b[38;5;241;43m50\u001b[39;49m\u001b[43m,\u001b[49m\n\u001b[0;32m      7\u001b[0m \u001b[43m    \u001b[49m\u001b[43mverbose\u001b[49m\u001b[38;5;241;43m=\u001b[39;49m\u001b[38;5;28;43;01mTrue\u001b[39;49;00m\u001b[43m,\u001b[49m\n\u001b[0;32m      8\u001b[0m \u001b[43m    \u001b[49m\u001b[43muse_line_search\u001b[49m\u001b[38;5;241;43m=\u001b[39;49m\u001b[38;5;28;43;01mTrue\u001b[39;49;00m\n\u001b[0;32m      9\u001b[0m \u001b[43m)\u001b[49m\n",
      "File \u001b[1;32mc:\\Users\\huang\\Desktop\\Optimisation\\Project\\algorithms2.py:116\u001b[0m, in \u001b[0;36mSubNewton\u001b[1;34m(initial_w, loss_class, grad_batch_size, grad2_batch_size, max_epochs, ground_truth, tolerance, verbose, seed, with_remplacement, use_line_search, step_size, alpha_batch_L, **Armijo_kwargs)\u001b[0m\n\u001b[0;32m    114\u001b[0m     norm_logs\u001b[38;5;241m.\u001b[39mappend(norm(w\u001b[38;5;241m-\u001b[39mground_truth, \u001b[38;5;241m2\u001b[39m))\n\u001b[0;32m    115\u001b[0m \u001b[38;5;28;01melse\u001b[39;00m :\n\u001b[1;32m--> 116\u001b[0m     norm_logs\u001b[38;5;241m.\u001b[39mappend(\u001b[43mnorm\u001b[49m\u001b[43m(\u001b[49m\u001b[43mloss_class\u001b[49m\u001b[38;5;241;43m.\u001b[39;49m\u001b[43mgrad\u001b[49m\u001b[43m(\u001b[49m\u001b[43mw\u001b[49m\u001b[43m,\u001b[49m\u001b[43m \u001b[49m\u001b[43mnp\u001b[49m\u001b[38;5;241;43m.\u001b[39;49m\u001b[43marange\u001b[49m\u001b[43m(\u001b[49m\u001b[43mN\u001b[49m\u001b[43m)\u001b[49m\u001b[43m)\u001b[49m\u001b[43m,\u001b[49m\u001b[38;5;241;43m2\u001b[39;49m\u001b[43m)\u001b[49m)\n\u001b[0;32m    117\u001b[0m loss_logs\u001b[38;5;241m.\u001b[39mappend(loss_class(w, np\u001b[38;5;241m.\u001b[39marange(N)))\n\u001b[0;32m    118\u001b[0m epoch \u001b[38;5;241m+\u001b[39m\u001b[38;5;241m=\u001b[39m \u001b[38;5;241m1\u001b[39m\n",
      "File \u001b[1;32mc:\\Users\\huang\\Desktop\\Optimisation\\Project\\venv\\Lib\\site-packages\\scipy\\linalg\\_misc.py:146\u001b[0m, in \u001b[0;36mnorm\u001b[1;34m(a, ord, axis, keepdims, check_finite)\u001b[0m\n\u001b[0;32m    144\u001b[0m \u001b[38;5;66;03m# Differs from numpy only in non-finite handling and the use of blas.\u001b[39;00m\n\u001b[0;32m    145\u001b[0m \u001b[38;5;28;01mif\u001b[39;00m check_finite:\n\u001b[1;32m--> 146\u001b[0m     a \u001b[38;5;241m=\u001b[39m \u001b[43mnp\u001b[49m\u001b[38;5;241;43m.\u001b[39;49m\u001b[43masarray_chkfinite\u001b[49m\u001b[43m(\u001b[49m\u001b[43ma\u001b[49m\u001b[43m)\u001b[49m\n\u001b[0;32m    147\u001b[0m \u001b[38;5;28;01melse\u001b[39;00m:\n\u001b[0;32m    148\u001b[0m     a \u001b[38;5;241m=\u001b[39m np\u001b[38;5;241m.\u001b[39masarray(a)\n",
      "File \u001b[1;32mc:\\Users\\huang\\Desktop\\Optimisation\\Project\\venv\\Lib\\site-packages\\numpy\\lib\\function_base.py:630\u001b[0m, in \u001b[0;36masarray_chkfinite\u001b[1;34m(a, dtype, order)\u001b[0m\n\u001b[0;32m    628\u001b[0m a \u001b[38;5;241m=\u001b[39m asarray(a, dtype\u001b[38;5;241m=\u001b[39mdtype, order\u001b[38;5;241m=\u001b[39morder)\n\u001b[0;32m    629\u001b[0m \u001b[38;5;28;01mif\u001b[39;00m a\u001b[38;5;241m.\u001b[39mdtype\u001b[38;5;241m.\u001b[39mchar \u001b[38;5;129;01min\u001b[39;00m typecodes[\u001b[38;5;124m'\u001b[39m\u001b[38;5;124mAllFloat\u001b[39m\u001b[38;5;124m'\u001b[39m] \u001b[38;5;129;01mand\u001b[39;00m \u001b[38;5;129;01mnot\u001b[39;00m np\u001b[38;5;241m.\u001b[39misfinite(a)\u001b[38;5;241m.\u001b[39mall():\n\u001b[1;32m--> 630\u001b[0m     \u001b[38;5;28;01mraise\u001b[39;00m \u001b[38;5;167;01mValueError\u001b[39;00m(\n\u001b[0;32m    631\u001b[0m         \u001b[38;5;124m\"\u001b[39m\u001b[38;5;124marray must not contain infs or NaNs\u001b[39m\u001b[38;5;124m\"\u001b[39m)\n\u001b[0;32m    632\u001b[0m \u001b[38;5;28;01mreturn\u001b[39;00m a\n",
      "\u001b[1;31mValueError\u001b[0m: array must not contain infs or NaNs"
     ]
    }
   ],
   "source": [
    "w, loss_logs, norm_logs = SubNewton(\n",
    "    initial_w=w0,\n",
    "    loss_class=g,\n",
    "    grad_batch_size=N,\n",
    "    grad2_batch_size=N,\n",
    "    max_epochs=50,\n",
    "    verbose=True,\n",
    "    use_line_search=True\n",
    ")"
   ]
  },
  {
   "cell_type": "markdown",
   "metadata": {},
   "source": [
    "Even with a full Hessian, the algorithm is still very unstable (infs or NaNs), displaying the local property of this method on non-convex problems."
   ]
  },
  {
   "cell_type": "markdown",
   "metadata": {},
   "source": [
    "**Let's try again with a normalized X train :**"
   ]
  },
  {
   "cell_type": "code",
   "execution_count": 93,
   "metadata": {},
   "outputs": [],
   "source": [
    "g = Loss(\n",
    "    X=scaled_X_train,\n",
    "    y=y_train,\n",
    "    lbda=1/np.sqrt(N),\n",
    "    regul=\"l1\"\n",
    ")"
   ]
  },
  {
   "cell_type": "code",
   "execution_count": 94,
   "metadata": {},
   "outputs": [
    {
     "name": "stdout",
     "output_type": "stream",
     "text": [
      "Initial loss : 1.775617512538282\n"
     ]
    }
   ],
   "source": [
    "np.random.seed(5)\n",
    "w0 = np.random.randn(d)\n",
    "print(\"Initial loss :\",g(w0, np.arange(N)))"
   ]
  },
  {
   "cell_type": "code",
   "execution_count": 95,
   "metadata": {},
   "outputs": [
    {
     "name": "stdout",
     "output_type": "stream",
     "text": [
      " epoch   |   loss   |   norm  \n"
     ]
    },
    {
     "name": "stderr",
     "output_type": "stream",
     "text": [
      "       0 | 1.78e+00 | 2.99e-01:   0%|          | 0/1 [00:00<?, ?it/s]C:\\Users\\huang\\AppData\\Local\\Temp\\ipykernel_90488\\3396397676.py:30: RuntimeWarning: overflow encountered in exp\n",
      "  return ( self.y[i] - (1 / (1 + np.exp(-self.X[i].dot(w)))) )**2\n",
      "       0 | 1.78e+00 | 2.99e-01: 100%|██████████| 1/1 [00:03<00:00,  3.56s/it]"
     ]
    },
    {
     "name": "stdout",
     "output_type": "stream",
     "text": [
      "alpha too low using 0.01\n"
     ]
    },
    {
     "name": "stderr",
     "output_type": "stream",
     "text": [
      "\n",
      "C:\\Users\\huang\\AppData\\Local\\Temp\\ipykernel_90488\\3396397676.py:47: RuntimeWarning: overflow encountered in exp\n",
      "  exp_xiw = np.exp(self.X[i].dot(w))\n",
      "C:\\Users\\huang\\AppData\\Local\\Temp\\ipykernel_90488\\3396397676.py:48: RuntimeWarning: invalid value encountered in divide\n",
      "  return (-2 * exp_xiw * (exp_xiw * (self.y[i]-1) + self.y[i]) * self.X[i]) / (1 + exp_xiw)**3\n",
      "C:\\Users\\huang\\AppData\\Local\\Temp\\ipykernel_90488\\3396397676.py:48: RuntimeWarning: invalid value encountered in scalar multiply\n",
      "  return (-2 * exp_xiw * (exp_xiw * (self.y[i]-1) + self.y[i]) * self.X[i]) / (1 + exp_xiw)**3\n"
     ]
    },
    {
     "ename": "ValueError",
     "evalue": "array must not contain infs or NaNs",
     "output_type": "error",
     "traceback": [
      "\u001b[1;31m---------------------------------------------------------------------------\u001b[0m",
      "\u001b[1;31mValueError\u001b[0m                                Traceback (most recent call last)",
      "Cell \u001b[1;32mIn[95], line 1\u001b[0m\n\u001b[1;32m----> 1\u001b[0m w, loss_logs, norm_logs \u001b[38;5;241m=\u001b[39m \u001b[43mSubNewton\u001b[49m\u001b[43m(\u001b[49m\n\u001b[0;32m      2\u001b[0m \u001b[43m    \u001b[49m\u001b[43minitial_w\u001b[49m\u001b[38;5;241;43m=\u001b[39;49m\u001b[43mw0\u001b[49m\u001b[43m,\u001b[49m\n\u001b[0;32m      3\u001b[0m \u001b[43m    \u001b[49m\u001b[43mloss_class\u001b[49m\u001b[38;5;241;43m=\u001b[39;49m\u001b[43mg\u001b[49m\u001b[43m,\u001b[49m\n\u001b[0;32m      4\u001b[0m \u001b[43m    \u001b[49m\u001b[43mgrad_batch_size\u001b[49m\u001b[38;5;241;43m=\u001b[39;49m\u001b[43mN\u001b[49m\u001b[43m,\u001b[49m\n\u001b[0;32m      5\u001b[0m \u001b[43m    \u001b[49m\u001b[43mgrad2_batch_size\u001b[49m\u001b[38;5;241;43m=\u001b[39;49m\u001b[43mN\u001b[49m\u001b[43m,\u001b[49m\n\u001b[0;32m      6\u001b[0m \u001b[43m    \u001b[49m\u001b[43mmax_epochs\u001b[49m\u001b[38;5;241;43m=\u001b[39;49m\u001b[38;5;241;43m50\u001b[39;49m\u001b[43m,\u001b[49m\n\u001b[0;32m      7\u001b[0m \u001b[43m    \u001b[49m\u001b[43mverbose\u001b[49m\u001b[38;5;241;43m=\u001b[39;49m\u001b[38;5;28;43;01mTrue\u001b[39;49;00m\u001b[43m,\u001b[49m\n\u001b[0;32m      8\u001b[0m \u001b[43m    \u001b[49m\u001b[43muse_line_search\u001b[49m\u001b[38;5;241;43m=\u001b[39;49m\u001b[38;5;28;43;01mTrue\u001b[39;49;00m\u001b[43m,\u001b[49m\n\u001b[0;32m      9\u001b[0m \u001b[43m    \u001b[49m\u001b[43minitial_alpha\u001b[49m\u001b[38;5;241;43m=\u001b[39;49m\u001b[38;5;241;43m0.01\u001b[39;49m\u001b[43m,\u001b[49m\n\u001b[0;32m     10\u001b[0m \u001b[43m    \u001b[49m\u001b[43mtheta\u001b[49m\u001b[38;5;241;43m=\u001b[39;49m\u001b[38;5;241;43m0.9\u001b[39;49m\n\u001b[0;32m     11\u001b[0m \u001b[43m)\u001b[49m\n",
      "File \u001b[1;32mc:\\Users\\huang\\Desktop\\Optimisation\\Project\\algorithms2.py:116\u001b[0m, in \u001b[0;36mSubNewton\u001b[1;34m(initial_w, loss_class, grad_batch_size, grad2_batch_size, max_epochs, ground_truth, tolerance, verbose, seed, with_remplacement, use_line_search, step_size, alpha_batch_L, **Armijo_kwargs)\u001b[0m\n\u001b[0;32m    114\u001b[0m     norm_logs\u001b[38;5;241m.\u001b[39mappend(norm(w\u001b[38;5;241m-\u001b[39mground_truth, \u001b[38;5;241m2\u001b[39m))\n\u001b[0;32m    115\u001b[0m \u001b[38;5;28;01melse\u001b[39;00m :\n\u001b[1;32m--> 116\u001b[0m     norm_logs\u001b[38;5;241m.\u001b[39mappend(\u001b[43mnorm\u001b[49m\u001b[43m(\u001b[49m\u001b[43mloss_class\u001b[49m\u001b[38;5;241;43m.\u001b[39;49m\u001b[43mgrad\u001b[49m\u001b[43m(\u001b[49m\u001b[43mw\u001b[49m\u001b[43m,\u001b[49m\u001b[43m \u001b[49m\u001b[43mnp\u001b[49m\u001b[38;5;241;43m.\u001b[39;49m\u001b[43marange\u001b[49m\u001b[43m(\u001b[49m\u001b[43mN\u001b[49m\u001b[43m)\u001b[49m\u001b[43m)\u001b[49m\u001b[43m,\u001b[49m\u001b[38;5;241;43m2\u001b[39;49m\u001b[43m)\u001b[49m)\n\u001b[0;32m    117\u001b[0m loss_logs\u001b[38;5;241m.\u001b[39mappend(loss_class(w, np\u001b[38;5;241m.\u001b[39marange(N)))\n\u001b[0;32m    118\u001b[0m epoch \u001b[38;5;241m+\u001b[39m\u001b[38;5;241m=\u001b[39m \u001b[38;5;241m1\u001b[39m\n",
      "File \u001b[1;32mc:\\Users\\huang\\Desktop\\Optimisation\\Project\\venv\\Lib\\site-packages\\scipy\\linalg\\_misc.py:146\u001b[0m, in \u001b[0;36mnorm\u001b[1;34m(a, ord, axis, keepdims, check_finite)\u001b[0m\n\u001b[0;32m    144\u001b[0m \u001b[38;5;66;03m# Differs from numpy only in non-finite handling and the use of blas.\u001b[39;00m\n\u001b[0;32m    145\u001b[0m \u001b[38;5;28;01mif\u001b[39;00m check_finite:\n\u001b[1;32m--> 146\u001b[0m     a \u001b[38;5;241m=\u001b[39m \u001b[43mnp\u001b[49m\u001b[38;5;241;43m.\u001b[39;49m\u001b[43masarray_chkfinite\u001b[49m\u001b[43m(\u001b[49m\u001b[43ma\u001b[49m\u001b[43m)\u001b[49m\n\u001b[0;32m    147\u001b[0m \u001b[38;5;28;01melse\u001b[39;00m:\n\u001b[0;32m    148\u001b[0m     a \u001b[38;5;241m=\u001b[39m np\u001b[38;5;241m.\u001b[39masarray(a)\n",
      "File \u001b[1;32mc:\\Users\\huang\\Desktop\\Optimisation\\Project\\venv\\Lib\\site-packages\\numpy\\lib\\function_base.py:630\u001b[0m, in \u001b[0;36masarray_chkfinite\u001b[1;34m(a, dtype, order)\u001b[0m\n\u001b[0;32m    628\u001b[0m a \u001b[38;5;241m=\u001b[39m asarray(a, dtype\u001b[38;5;241m=\u001b[39mdtype, order\u001b[38;5;241m=\u001b[39morder)\n\u001b[0;32m    629\u001b[0m \u001b[38;5;28;01mif\u001b[39;00m a\u001b[38;5;241m.\u001b[39mdtype\u001b[38;5;241m.\u001b[39mchar \u001b[38;5;129;01min\u001b[39;00m typecodes[\u001b[38;5;124m'\u001b[39m\u001b[38;5;124mAllFloat\u001b[39m\u001b[38;5;124m'\u001b[39m] \u001b[38;5;129;01mand\u001b[39;00m \u001b[38;5;129;01mnot\u001b[39;00m np\u001b[38;5;241m.\u001b[39misfinite(a)\u001b[38;5;241m.\u001b[39mall():\n\u001b[1;32m--> 630\u001b[0m     \u001b[38;5;28;01mraise\u001b[39;00m \u001b[38;5;167;01mValueError\u001b[39;00m(\n\u001b[0;32m    631\u001b[0m         \u001b[38;5;124m\"\u001b[39m\u001b[38;5;124marray must not contain infs or NaNs\u001b[39m\u001b[38;5;124m\"\u001b[39m)\n\u001b[0;32m    632\u001b[0m \u001b[38;5;28;01mreturn\u001b[39;00m a\n",
      "\u001b[1;31mValueError\u001b[0m: array must not contain infs or NaNs"
     ]
    }
   ],
   "source": [
    "w, loss_logs, norm_logs = SubNewton(\n",
    "    initial_w=w0,\n",
    "    loss_class=g,\n",
    "    grad_batch_size=N,\n",
    "    grad2_batch_size=N,\n",
    "    max_epochs=50,\n",
    "    verbose=True,\n",
    "    use_line_search=True,\n",
    "    initial_alpha=0.01,\n",
    "    theta=0.9\n",
    ")"
   ]
  },
  {
   "cell_type": "markdown",
   "metadata": {},
   "source": [
    "Not much better..."
   ]
  },
  {
   "cell_type": "markdown",
   "metadata": {},
   "source": [
    "We could redefine the method with a safety layer when the hessian is not invertible, by replacing the hessian by the identity matrix. <br>\n",
    "But that wouldn't solve the issue of having inf and NaNs, and that would be equivalent to batch stochastic gradient descent anyway. <br>\n",
    "Let's try to use l2 regularization (it might help making the Hessian invertible):"
   ]
  },
  {
   "cell_type": "code",
   "execution_count": 96,
   "metadata": {},
   "outputs": [],
   "source": [
    "g = Loss(\n",
    "    X=scaled_X_train,\n",
    "    y=y_train,\n",
    "    lbda=2./np.sqrt(N),\n",
    "    regul='l2'\n",
    ")"
   ]
  },
  {
   "cell_type": "code",
   "execution_count": 97,
   "metadata": {},
   "outputs": [
    {
     "name": "stdout",
     "output_type": "stream",
     "text": [
      "Initial loss : 2.445538117384306\n"
     ]
    }
   ],
   "source": [
    "np.random.seed(5)\n",
    "w0 = np.random.randn(d)\n",
    "print(\"Initial loss :\",g(w0, np.arange(N)))"
   ]
  },
  {
   "cell_type": "markdown",
   "metadata": {},
   "source": [
    "Notice that the initial loss was 1.3 without the regularization, meaning with regularization half of the loss is due to the penalization"
   ]
  },
  {
   "cell_type": "code",
   "execution_count": 98,
   "metadata": {},
   "outputs": [
    {
     "name": "stdout",
     "output_type": "stream",
     "text": [
      " epoch   |   loss   |   norm  \n"
     ]
    },
    {
     "name": "stderr",
     "output_type": "stream",
     "text": [
      "       0 | 2.45e+00 | 3.68e-01: 100%|██████████| 1/1 [00:01<00:00,  1.09s/it]\n",
      "       1 | 2.46e+00 | 3.58e-01: 100%|██████████| 1/1 [00:03<00:00,  3.39s/it]\n"
     ]
    },
    {
     "name": "stdout",
     "output_type": "stream",
     "text": [
      "alpha too low using 0.5\n"
     ]
    },
    {
     "name": "stderr",
     "output_type": "stream",
     "text": [
      "       2 | 6.40e+00 | 4.64e-01:   0%|          | 0/1 [00:00<?, ?it/s]C:\\Users\\huang\\AppData\\Local\\Temp\\ipykernel_90488\\3396397676.py:30: RuntimeWarning: overflow encountered in exp\n",
      "  return ( self.y[i] - (1 / (1 + np.exp(-self.X[i].dot(w)))) )**2\n",
      "       2 | 6.40e+00 | 4.64e-01: 100%|██████████| 1/1 [00:00<00:00,  1.05it/s]\n",
      "       3 | 6.37e+00 | 4.82e-01: 100%|██████████| 1/1 [00:00<00:00,  1.39it/s]\n",
      "       4 | 6.25e+00 | 4.74e-01: 100%|██████████| 1/1 [00:00<00:00,  1.55it/s]\n",
      "       5 | 2.91e+00 | 3.03e-01: 100%|██████████| 1/1 [00:00<00:00,  1.08it/s]\n",
      "       6 | 1.59e+00 | 1.83e-01: 100%|██████████| 1/1 [00:00<00:00,  1.16it/s]\n",
      "       7 | 1.59e+00 | 1.80e-01: 100%|██████████| 1/1 [00:00<00:00,  1.41it/s]\n",
      "       8 | 1.35e+00 | 1.63e-01: 100%|██████████| 1/1 [00:00<00:00,  1.35it/s]\n",
      "       9 | 1.13e+00 | 1.02e-01: 100%|██████████| 1/1 [00:00<00:00,  1.33it/s]\n",
      "      10 | 1.13e+00 | 1.35e-01: 100%|██████████| 1/1 [00:00<00:00,  1.50it/s]\n",
      "      11 | 1.02e+00 | 9.52e-02: 100%|██████████| 1/1 [00:03<00:00,  3.59s/it]\n"
     ]
    },
    {
     "name": "stdout",
     "output_type": "stream",
     "text": [
      "alpha too low using 0.5\n"
     ]
    },
    {
     "name": "stderr",
     "output_type": "stream",
     "text": [
      "      12 | 4.76e+00 | 4.74e-01:   0%|          | 0/1 [00:00<?, ?it/s]C:\\Users\\huang\\AppData\\Local\\Temp\\ipykernel_90488\\3396397676.py:68: RuntimeWarning: overflow encountered in scalar power\n",
      "  scalar = 2 * exp_xiw * ( (exp_xiw**2 * (self.y[i]-1)) + (2 * exp_xiw - self.y[i]) ) / (1 + exp_xiw)**4\n",
      "      12 | 4.76e+00 | 4.74e-01: 100%|██████████| 1/1 [00:00<00:00,  1.49it/s]\n",
      "      13 | 4.66e+00 | 5.70e-01: 100%|██████████| 1/1 [00:00<00:00,  1.60it/s]\n",
      "      14 | 3.86e+00 | 3.72e-01: 100%|██████████| 1/1 [00:00<00:00,  1.11it/s]\n",
      "      15 | 3.76e+00 | 3.61e-01: 100%|██████████| 1/1 [00:00<00:00,  1.19it/s]\n",
      "      16 | 3.75e+00 | 3.67e-01: 100%|██████████| 1/1 [00:00<00:00,  1.23it/s]\n",
      "      17 | 3.54e+00 | 3.86e-01: 100%|██████████| 1/1 [00:00<00:00,  1.55it/s]\n",
      "      18 | 2.43e+00 | 3.34e-01: 100%|██████████| 1/1 [00:00<00:00,  1.12it/s]\n",
      "      19 | 2.43e+00 | 3.21e-01: 100%|██████████| 1/1 [00:01<00:00,  1.10s/it]\n",
      "      20 | 2.42e+00 | 3.30e-01: 100%|██████████| 1/1 [00:00<00:00,  1.27it/s]\n",
      "      21 | 2.41e+00 | 3.29e-01: 100%|██████████| 1/1 [00:00<00:00,  1.45it/s]\n",
      "      22 | 2.40e+00 | 2.67e-01: 100%|██████████| 1/1 [00:03<00:00,  3.35s/it]"
     ]
    },
    {
     "name": "stdout",
     "output_type": "stream",
     "text": [
      "alpha too low using 0.5\n"
     ]
    },
    {
     "name": "stderr",
     "output_type": "stream",
     "text": [
      "\n",
      "C:\\Users\\huang\\AppData\\Local\\Temp\\ipykernel_90488\\3396397676.py:48: RuntimeWarning: overflow encountered in scalar multiply\n",
      "  return (-2 * exp_xiw * (exp_xiw * (self.y[i]-1) + self.y[i]) * self.X[i]) / (1 + exp_xiw)**3\n",
      "C:\\Users\\huang\\AppData\\Local\\Temp\\ipykernel_90488\\3396397676.py:48: RuntimeWarning: overflow encountered in scalar power\n",
      "  return (-2 * exp_xiw * (exp_xiw * (self.y[i]-1) + self.y[i]) * self.X[i]) / (1 + exp_xiw)**3\n",
      "C:\\Users\\huang\\AppData\\Local\\Temp\\ipykernel_90488\\3396397676.py:48: RuntimeWarning: invalid value encountered in divide\n",
      "  return (-2 * exp_xiw * (exp_xiw * (self.y[i]-1) + self.y[i]) * self.X[i]) / (1 + exp_xiw)**3\n",
      "C:\\Users\\huang\\AppData\\Local\\Temp\\ipykernel_90488\\3396397676.py:47: RuntimeWarning: overflow encountered in exp\n",
      "  exp_xiw = np.exp(self.X[i].dot(w))\n",
      "C:\\Users\\huang\\AppData\\Local\\Temp\\ipykernel_90488\\3396397676.py:48: RuntimeWarning: invalid value encountered in scalar multiply\n",
      "  return (-2 * exp_xiw * (exp_xiw * (self.y[i]-1) + self.y[i]) * self.X[i]) / (1 + exp_xiw)**3\n",
      "C:\\Users\\huang\\AppData\\Local\\Temp\\ipykernel_90488\\3396397676.py:48: RuntimeWarning: overflow encountered in multiply\n",
      "  return (-2 * exp_xiw * (exp_xiw * (self.y[i]-1) + self.y[i]) * self.X[i]) / (1 + exp_xiw)**3\n"
     ]
    },
    {
     "ename": "ValueError",
     "evalue": "array must not contain infs or NaNs",
     "output_type": "error",
     "traceback": [
      "\u001b[1;31m---------------------------------------------------------------------------\u001b[0m",
      "\u001b[1;31mValueError\u001b[0m                                Traceback (most recent call last)",
      "Cell \u001b[1;32mIn[98], line 1\u001b[0m\n\u001b[1;32m----> 1\u001b[0m w, loss_logs, norm_logs \u001b[38;5;241m=\u001b[39m \u001b[43mSubNewton\u001b[49m\u001b[43m(\u001b[49m\n\u001b[0;32m      2\u001b[0m \u001b[43m    \u001b[49m\u001b[43minitial_w\u001b[49m\u001b[38;5;241;43m=\u001b[39;49m\u001b[43mw0\u001b[49m\u001b[43m,\u001b[49m\n\u001b[0;32m      3\u001b[0m \u001b[43m    \u001b[49m\u001b[43mloss_class\u001b[49m\u001b[38;5;241;43m=\u001b[39;49m\u001b[43mg\u001b[49m\u001b[43m,\u001b[49m\n\u001b[0;32m      4\u001b[0m \u001b[43m    \u001b[49m\u001b[43mgrad_batch_size\u001b[49m\u001b[38;5;241;43m=\u001b[39;49m\u001b[43mN\u001b[49m\u001b[43m,\u001b[49m\n\u001b[0;32m      5\u001b[0m \u001b[43m    \u001b[49m\u001b[43mgrad2_batch_size\u001b[49m\u001b[38;5;241;43m=\u001b[39;49m\u001b[43mN\u001b[49m\u001b[43m,\u001b[49m\n\u001b[0;32m      6\u001b[0m \u001b[43m    \u001b[49m\u001b[43mmax_epochs\u001b[49m\u001b[38;5;241;43m=\u001b[39;49m\u001b[38;5;241;43m50\u001b[39;49m\u001b[43m,\u001b[49m\n\u001b[0;32m      7\u001b[0m \u001b[43m    \u001b[49m\u001b[43muse_line_search\u001b[49m\u001b[38;5;241;43m=\u001b[39;49m\u001b[38;5;28;43;01mTrue\u001b[39;49;00m\u001b[43m,\u001b[49m\n\u001b[0;32m      8\u001b[0m \u001b[43m    \u001b[49m\u001b[43mseed\u001b[49m\u001b[38;5;241;43m=\u001b[39;49m\u001b[38;5;241;43m1\u001b[39;49m\u001b[43m,\u001b[49m\n\u001b[0;32m      9\u001b[0m \u001b[43m    \u001b[49m\u001b[43mtheta\u001b[49m\u001b[38;5;241;43m=\u001b[39;49m\u001b[38;5;241;43m0.9\u001b[39;49m\u001b[43m,\u001b[49m\n\u001b[0;32m     10\u001b[0m \u001b[43m    \u001b[49m\u001b[43minitial_alpha\u001b[49m\u001b[38;5;241;43m=\u001b[39;49m\u001b[38;5;241;43m0.5\u001b[39;49m\u001b[43m,\u001b[49m\n\u001b[0;32m     11\u001b[0m \u001b[43m)\u001b[49m\n",
      "File \u001b[1;32mc:\\Users\\huang\\Desktop\\Optimisation\\Project\\algorithms2.py:116\u001b[0m, in \u001b[0;36mSubNewton\u001b[1;34m(initial_w, loss_class, grad_batch_size, grad2_batch_size, max_epochs, ground_truth, tolerance, verbose, seed, with_remplacement, use_line_search, step_size, alpha_batch_L, **Armijo_kwargs)\u001b[0m\n\u001b[0;32m    114\u001b[0m     norm_logs\u001b[38;5;241m.\u001b[39mappend(norm(w\u001b[38;5;241m-\u001b[39mground_truth, \u001b[38;5;241m2\u001b[39m))\n\u001b[0;32m    115\u001b[0m \u001b[38;5;28;01melse\u001b[39;00m :\n\u001b[1;32m--> 116\u001b[0m     norm_logs\u001b[38;5;241m.\u001b[39mappend(\u001b[43mnorm\u001b[49m\u001b[43m(\u001b[49m\u001b[43mloss_class\u001b[49m\u001b[38;5;241;43m.\u001b[39;49m\u001b[43mgrad\u001b[49m\u001b[43m(\u001b[49m\u001b[43mw\u001b[49m\u001b[43m,\u001b[49m\u001b[43m \u001b[49m\u001b[43mnp\u001b[49m\u001b[38;5;241;43m.\u001b[39;49m\u001b[43marange\u001b[49m\u001b[43m(\u001b[49m\u001b[43mN\u001b[49m\u001b[43m)\u001b[49m\u001b[43m)\u001b[49m\u001b[43m,\u001b[49m\u001b[38;5;241;43m2\u001b[39;49m\u001b[43m)\u001b[49m)\n\u001b[0;32m    117\u001b[0m loss_logs\u001b[38;5;241m.\u001b[39mappend(loss_class(w, np\u001b[38;5;241m.\u001b[39marange(N)))\n\u001b[0;32m    118\u001b[0m epoch \u001b[38;5;241m+\u001b[39m\u001b[38;5;241m=\u001b[39m \u001b[38;5;241m1\u001b[39m\n",
      "File \u001b[1;32mc:\\Users\\huang\\Desktop\\Optimisation\\Project\\venv\\Lib\\site-packages\\scipy\\linalg\\_misc.py:146\u001b[0m, in \u001b[0;36mnorm\u001b[1;34m(a, ord, axis, keepdims, check_finite)\u001b[0m\n\u001b[0;32m    144\u001b[0m \u001b[38;5;66;03m# Differs from numpy only in non-finite handling and the use of blas.\u001b[39;00m\n\u001b[0;32m    145\u001b[0m \u001b[38;5;28;01mif\u001b[39;00m check_finite:\n\u001b[1;32m--> 146\u001b[0m     a \u001b[38;5;241m=\u001b[39m \u001b[43mnp\u001b[49m\u001b[38;5;241;43m.\u001b[39;49m\u001b[43masarray_chkfinite\u001b[49m\u001b[43m(\u001b[49m\u001b[43ma\u001b[49m\u001b[43m)\u001b[49m\n\u001b[0;32m    147\u001b[0m \u001b[38;5;28;01melse\u001b[39;00m:\n\u001b[0;32m    148\u001b[0m     a \u001b[38;5;241m=\u001b[39m np\u001b[38;5;241m.\u001b[39masarray(a)\n",
      "File \u001b[1;32mc:\\Users\\huang\\Desktop\\Optimisation\\Project\\venv\\Lib\\site-packages\\numpy\\lib\\function_base.py:630\u001b[0m, in \u001b[0;36masarray_chkfinite\u001b[1;34m(a, dtype, order)\u001b[0m\n\u001b[0;32m    628\u001b[0m a \u001b[38;5;241m=\u001b[39m asarray(a, dtype\u001b[38;5;241m=\u001b[39mdtype, order\u001b[38;5;241m=\u001b[39morder)\n\u001b[0;32m    629\u001b[0m \u001b[38;5;28;01mif\u001b[39;00m a\u001b[38;5;241m.\u001b[39mdtype\u001b[38;5;241m.\u001b[39mchar \u001b[38;5;129;01min\u001b[39;00m typecodes[\u001b[38;5;124m'\u001b[39m\u001b[38;5;124mAllFloat\u001b[39m\u001b[38;5;124m'\u001b[39m] \u001b[38;5;129;01mand\u001b[39;00m \u001b[38;5;129;01mnot\u001b[39;00m np\u001b[38;5;241m.\u001b[39misfinite(a)\u001b[38;5;241m.\u001b[39mall():\n\u001b[1;32m--> 630\u001b[0m     \u001b[38;5;28;01mraise\u001b[39;00m \u001b[38;5;167;01mValueError\u001b[39;00m(\n\u001b[0;32m    631\u001b[0m         \u001b[38;5;124m\"\u001b[39m\u001b[38;5;124marray must not contain infs or NaNs\u001b[39m\u001b[38;5;124m\"\u001b[39m)\n\u001b[0;32m    632\u001b[0m \u001b[38;5;28;01mreturn\u001b[39;00m a\n",
      "\u001b[1;31mValueError\u001b[0m: array must not contain infs or NaNs"
     ]
    }
   ],
   "source": [
    "w, loss_logs, norm_logs = SubNewton(\n",
    "    initial_w=w0,\n",
    "    loss_class=g,\n",
    "    grad_batch_size=N,\n",
    "    grad2_batch_size=N,\n",
    "    max_epochs=100,\n",
    "    use_line_search=True,\n",
    "    seed=1,\n",
    "    theta=0.9,\n",
    "    initial_alpha=0.5,\n",
    ")"
   ]
  },
  {
   "cell_type": "markdown",
   "metadata": {},
   "source": [
    "I'm giving up on the Newton method..."
   ]
  },
  {
   "cell_type": "code",
   "execution_count": 100,
   "metadata": {},
   "outputs": [],
   "source": [
    "g = Loss(\n",
    "    X=scaled_X_train,\n",
    "    y=y_train,\n",
    "    lbda=1/np.sqrt(N),\n",
    "    regul=\"l1\"\n",
    ")"
   ]
  },
  {
   "cell_type": "markdown",
   "metadata": {},
   "source": [
    "**Let's try Quasi-Newton BFGS**"
   ]
  },
  {
   "cell_type": "code",
   "execution_count": 101,
   "metadata": {},
   "outputs": [
    {
     "name": "stdout",
     "output_type": "stream",
     "text": [
      " epoch   |   loss   |   norm  \n"
     ]
    },
    {
     "name": "stderr",
     "output_type": "stream",
     "text": [
      "       0 | 1.78e+00 | 2.99e-01: 100%|██████████| 10/10 [00:00<00:00, 67.28it/s]\n",
      "       1 | 9.94e-01 | 6.37e-02: 100%|██████████| 10/10 [00:00<00:00, 58.71it/s]\n",
      "       2 | 8.23e-01 | 1.60e-01: 100%|██████████| 10/10 [00:00<00:00, 38.75it/s]\n",
      "       3 | 6.96e-01 | 6.63e-02: 100%|██████████| 10/10 [00:00<00:00, 71.50it/s]\n",
      "       4 | 6.36e-01 | 5.46e-02: 100%|██████████| 10/10 [00:00<00:00, 33.90it/s]\n",
      "       5 | 6.14e-01 | 4.71e-02: 100%|██████████| 10/10 [00:00<00:00, 70.64it/s]\n",
      "       6 | 6.05e-01 | 4.36e-02: 100%|██████████| 10/10 [00:00<00:00, 72.01it/s]\n",
      "       7 | 6.00e-01 | 5.07e-02: 100%|██████████| 10/10 [00:00<00:00, 74.11it/s]\n",
      "       8 | 5.98e-01 | 4.66e-02: 100%|██████████| 10/10 [00:00<00:00, 68.61it/s]\n",
      "       9 | 5.97e-01 | 4.74e-02: 100%|██████████| 10/10 [00:00<00:00, 70.07it/s]\n",
      "      10 | 5.96e-01 | 4.72e-02: 100%|██████████| 10/10 [00:00<00:00, 69.60it/s]\n",
      "      11 | 5.96e-01 | 4.91e-02: 100%|██████████| 10/10 [00:00<00:00, 69.39it/s]\n",
      "      12 | 5.95e-01 | 5.10e-02: 100%|██████████| 10/10 [00:00<00:00, 65.34it/s]\n",
      "      13 | 5.95e-01 | 4.59e-02: 100%|██████████| 10/10 [00:00<00:00, 72.27it/s]\n",
      "      14 | 5.94e-01 | 4.83e-02: 100%|██████████| 10/10 [00:00<00:00, 71.46it/s]\n",
      "      15 | 5.94e-01 | 4.67e-02: 100%|██████████| 10/10 [00:00<00:00, 72.79it/s]\n",
      "      16 | 5.92e-01 | 5.13e-02: 100%|██████████| 10/10 [00:00<00:00, 72.26it/s]\n",
      "      17 | 5.92e-01 | 4.66e-02: 100%|██████████| 10/10 [00:00<00:00, 67.42it/s]\n",
      "      18 | 5.91e-01 | 4.64e-02: 100%|██████████| 10/10 [00:00<00:00, 72.05it/s]\n",
      "      19 | 5.91e-01 | 4.41e-02: 100%|██████████| 10/10 [00:00<00:00, 73.50it/s]\n",
      "      20 | 5.91e-01 | 4.88e-02: 100%|██████████| 10/10 [00:00<00:00, 70.69it/s]\n",
      "      21 | 5.91e-01 | 4.79e-02: 100%|██████████| 10/10 [00:00<00:00, 71.21it/s]\n",
      "      22 | 5.91e-01 | 4.52e-02: 100%|██████████| 10/10 [00:00<00:00, 69.33it/s]\n",
      "      23 | 5.91e-01 | 4.88e-02: 100%|██████████| 10/10 [00:00<00:00, 62.26it/s]\n",
      "      24 | 5.90e-01 | 5.04e-02: 100%|██████████| 10/10 [00:00<00:00, 61.08it/s]\n",
      "      25 | 5.90e-01 | 4.52e-02: 100%|██████████| 10/10 [00:00<00:00, 62.57it/s]\n",
      "      26 | 5.90e-01 | 4.83e-02: 100%|██████████| 10/10 [00:00<00:00, 62.07it/s]\n",
      "      27 | 5.90e-01 | 5.10e-02: 100%|██████████| 10/10 [00:00<00:00, 62.24it/s]\n",
      "      28 | 5.90e-01 | 5.48e-02: 100%|██████████| 10/10 [00:00<00:00, 62.57it/s]\n",
      "      29 | 5.90e-01 | 4.87e-02: 100%|██████████| 10/10 [00:00<00:00, 66.84it/s]\n",
      "      30 | 5.90e-01 | 4.97e-02: 100%|██████████| 10/10 [00:00<00:00, 63.23it/s]\n",
      "      31 | 5.90e-01 | 4.85e-02: 100%|██████████| 10/10 [00:00<00:00, 63.68it/s]\n",
      "      32 | 5.89e-01 | 4.83e-02: 100%|██████████| 10/10 [00:00<00:00, 64.12it/s]\n",
      "      33 | 5.89e-01 | 4.96e-02: 100%|██████████| 10/10 [00:00<00:00, 55.86it/s]\n",
      "      34 | 5.89e-01 | 5.12e-02: 100%|██████████| 10/10 [00:00<00:00, 58.55it/s]\n",
      "      35 | 5.89e-01 | 4.76e-02: 100%|██████████| 10/10 [00:00<00:00, 58.67it/s]\n",
      "      36 | 5.89e-01 | 4.63e-02: 100%|██████████| 10/10 [00:00<00:00, 57.16it/s]\n",
      "      37 | 5.89e-01 | 5.05e-02: 100%|██████████| 10/10 [00:00<00:00, 57.80it/s]\n",
      "      38 | 5.89e-01 | 4.72e-02: 100%|██████████| 10/10 [00:00<00:00, 56.27it/s]\n",
      "      39 | 5.89e-01 | 4.79e-02: 100%|██████████| 10/10 [00:00<00:00, 59.25it/s]\n",
      "      40 | 5.89e-01 | 4.93e-02: 100%|██████████| 10/10 [00:00<00:00, 57.34it/s]\n",
      "      41 | 5.89e-01 | 4.69e-02: 100%|██████████| 10/10 [00:00<00:00, 63.98it/s]\n",
      "      42 | 5.89e-01 | 5.11e-02: 100%|██████████| 10/10 [00:00<00:00, 70.84it/s]\n",
      "      43 | 5.89e-01 | 4.92e-02: 100%|██████████| 10/10 [00:00<00:00, 56.59it/s]\n",
      "      44 | 5.89e-01 | 4.92e-02: 100%|██████████| 10/10 [00:00<00:00, 59.13it/s]\n",
      "      45 | 5.89e-01 | 4.98e-02: 100%|██████████| 10/10 [00:00<00:00, 69.28it/s]\n",
      "      46 | 5.89e-01 | 4.83e-02: 100%|██████████| 10/10 [00:00<00:00, 63.02it/s]\n",
      "      47 | 5.89e-01 | 5.13e-02: 100%|██████████| 10/10 [00:00<00:00, 58.04it/s]\n",
      "      48 | 5.89e-01 | 5.00e-02: 100%|██████████| 10/10 [00:00<00:00, 62.14it/s]\n",
      "      49 | 5.89e-01 | 4.91e-02: 100%|██████████| 10/10 [00:00<00:00, 71.28it/s]\n",
      "      50 | 5.89e-01 | 4.67e-02: 100%|██████████| 10/10 [00:00<00:00, 73.95it/s]\n",
      "      51 | 5.89e-01 | 4.70e-02: 100%|██████████| 10/10 [00:00<00:00, 73.70it/s]\n",
      "      52 | 5.89e-01 | 5.14e-02: 100%|██████████| 10/10 [00:00<00:00, 74.10it/s]\n",
      "      53 | 5.89e-01 | 5.02e-02: 100%|██████████| 10/10 [00:00<00:00, 77.10it/s]\n",
      "      54 | 5.89e-01 | 4.87e-02: 100%|██████████| 10/10 [00:00<00:00, 78.43it/s]\n",
      "      55 | 5.89e-01 | 5.38e-02: 100%|██████████| 10/10 [00:00<00:00, 76.05it/s]\n",
      "      56 | 5.89e-01 | 5.05e-02: 100%|██████████| 10/10 [00:00<00:00, 76.25it/s]\n",
      "      57 | 5.89e-01 | 5.04e-02: 100%|██████████| 10/10 [00:00<00:00, 71.50it/s]\n",
      "      58 | 5.89e-01 | 5.36e-02: 100%|██████████| 10/10 [00:00<00:00, 72.11it/s]\n",
      "      59 | 5.89e-01 | 5.01e-02: 100%|██████████| 10/10 [00:00<00:00, 76.22it/s]\n",
      "      60 | 5.89e-01 | 4.93e-02: 100%|██████████| 10/10 [00:00<00:00, 70.70it/s]\n",
      "      61 | 5.89e-01 | 4.90e-02: 100%|██████████| 10/10 [00:00<00:00, 75.55it/s]\n",
      "      62 | 5.89e-01 | 4.76e-02: 100%|██████████| 10/10 [00:00<00:00, 73.61it/s]\n",
      "      63 | 5.89e-01 | 5.04e-02: 100%|██████████| 10/10 [00:00<00:00, 73.97it/s]\n",
      "      64 | 5.89e-01 | 4.85e-02: 100%|██████████| 10/10 [00:00<00:00, 72.65it/s]\n",
      "      65 | 5.89e-01 | 4.60e-02: 100%|██████████| 10/10 [00:00<00:00, 76.81it/s]\n",
      "      66 | 5.89e-01 | 4.76e-02: 100%|██████████| 10/10 [00:00<00:00, 72.11it/s]\n",
      "      67 | 5.89e-01 | 4.79e-02: 100%|██████████| 10/10 [00:00<00:00, 66.87it/s]\n",
      "      68 | 5.89e-01 | 4.76e-02: 100%|██████████| 10/10 [00:00<00:00, 72.55it/s]\n",
      "      69 | 5.89e-01 | 4.67e-02: 100%|██████████| 10/10 [00:00<00:00, 73.01it/s]\n",
      "      70 | 5.89e-01 | 4.89e-02: 100%|██████████| 10/10 [00:00<00:00, 68.88it/s]\n",
      "      71 | 5.89e-01 | 5.20e-02: 100%|██████████| 10/10 [00:00<00:00, 77.64it/s]\n",
      "      72 | 5.89e-01 | 4.73e-02: 100%|██████████| 10/10 [00:00<00:00, 37.88it/s]\n",
      "      73 | 5.89e-01 | 4.89e-02: 100%|██████████| 10/10 [00:00<00:00, 79.90it/s]\n",
      "      74 | 5.89e-01 | 4.95e-02: 100%|██████████| 10/10 [00:00<00:00, 76.64it/s]\n",
      "      75 | 5.89e-01 | 4.92e-02: 100%|██████████| 10/10 [00:00<00:00, 79.53it/s]\n",
      "      76 | 5.89e-01 | 4.74e-02: 100%|██████████| 10/10 [00:00<00:00, 74.47it/s]\n",
      "      77 | 5.89e-01 | 5.05e-02: 100%|██████████| 10/10 [00:00<00:00, 66.83it/s]\n",
      "      78 | 5.89e-01 | 4.85e-02: 100%|██████████| 10/10 [00:00<00:00, 73.20it/s]\n",
      "      79 | 5.89e-01 | 5.15e-02: 100%|██████████| 10/10 [00:00<00:00, 63.79it/s]\n",
      "      80 | 5.89e-01 | 4.66e-02: 100%|██████████| 10/10 [00:00<00:00, 77.46it/s]\n",
      "      81 | 5.89e-01 | 4.98e-02: 100%|██████████| 10/10 [00:00<00:00, 77.34it/s]\n",
      "      82 | 5.89e-01 | 5.11e-02: 100%|██████████| 10/10 [00:00<00:00, 73.98it/s]\n",
      "      83 | 5.89e-01 | 5.06e-02: 100%|██████████| 10/10 [00:00<00:00, 73.84it/s]\n",
      "      84 | 5.89e-01 | 5.18e-02: 100%|██████████| 10/10 [00:00<00:00, 74.11it/s]\n",
      "      85 | 5.89e-01 | 5.15e-02: 100%|██████████| 10/10 [00:00<00:00, 74.16it/s]\n",
      "      86 | 5.89e-01 | 5.01e-02: 100%|██████████| 10/10 [00:00<00:00, 77.25it/s]\n",
      "      87 | 5.89e-01 | 4.89e-02: 100%|██████████| 10/10 [00:00<00:00, 72.88it/s]\n",
      "      88 | 5.89e-01 | 5.16e-02: 100%|██████████| 10/10 [00:00<00:00, 76.62it/s]\n",
      "      89 | 5.89e-01 | 5.04e-02: 100%|██████████| 10/10 [00:00<00:00, 68.16it/s]\n",
      "      90 | 5.89e-01 | 4.86e-02: 100%|██████████| 10/10 [00:00<00:00, 68.86it/s]\n",
      "      91 | 5.89e-01 | 5.38e-02: 100%|██████████| 10/10 [00:00<00:00, 72.16it/s]\n",
      "      92 | 5.89e-01 | 4.74e-02: 100%|██████████| 10/10 [00:00<00:00, 71.72it/s]\n",
      "      93 | 5.89e-01 | 5.19e-02: 100%|██████████| 10/10 [00:00<00:00, 73.21it/s]\n",
      "      94 | 5.89e-01 | 5.26e-02: 100%|██████████| 10/10 [00:00<00:00, 69.12it/s]\n",
      "      95 | 5.89e-01 | 4.67e-02: 100%|██████████| 10/10 [00:00<00:00, 69.05it/s]\n",
      "      96 | 5.89e-01 | 5.04e-02: 100%|██████████| 10/10 [00:00<00:00, 73.97it/s]\n",
      "      97 | 5.89e-01 | 4.79e-02: 100%|██████████| 10/10 [00:00<00:00, 73.21it/s]\n",
      "      98 | 5.89e-01 | 4.58e-02: 100%|██████████| 10/10 [00:00<00:00, 73.89it/s]\n",
      "      99 | 5.89e-01 | 4.66e-02: 100%|██████████| 10/10 [00:00<00:00, 70.07it/s]\n"
     ]
    }
   ],
   "source": [
    "#<1 min\n",
    "w1, loss_logs1, norm_logs1 = BatchBFGS(\n",
    "    initial_w=w0,\n",
    "    loss_class=g,\n",
    "    grad_batch_size=N//10,\n",
    "    max_epochs=100,\n",
    "    tolerance=1e-3,\n",
    "    ground_truth=None,\n",
    "    verbose=True,\n",
    "    seed=6,\n",
    "    use_line_search=True,\n",
    "    theta=0.9,\n",
    "    initial_alpha=0.5,\n",
    ")"
   ]
  },
  {
   "cell_type": "code",
   "execution_count": 119,
   "metadata": {},
   "outputs": [
    {
     "name": "stdout",
     "output_type": "stream",
     "text": [
      " epoch   |   loss   |   norm  \n"
     ]
    },
    {
     "name": "stderr",
     "output_type": "stream",
     "text": [
      "       0 | 1.78e+00 | 2.99e-01: 100%|██████████| 20/20 [00:00<00:00, 282.34it/s]\n",
      "       1 | 8.94e-01 | 9.99e-02: 100%|██████████| 20/20 [00:00<00:00, 291.35it/s]\n",
      "       2 | 6.57e-01 | 5.82e-02: 100%|██████████| 20/20 [00:00<00:00, 291.92it/s]\n",
      "       3 | 6.03e-01 | 5.84e-02: 100%|██████████| 20/20 [00:00<00:00, 313.44it/s]\n",
      "       4 | 5.94e-01 | 5.05e-02: 100%|██████████| 20/20 [00:00<00:00, 322.34it/s]\n",
      "       5 | 5.92e-01 | 4.89e-02: 100%|██████████| 20/20 [00:00<00:00, 323.30it/s]\n",
      "       6 | 5.91e-01 | 4.62e-02: 100%|██████████| 20/20 [00:00<00:00, 313.17it/s]\n",
      "       7 | 5.90e-01 | 5.07e-02: 100%|██████████| 20/20 [00:00<00:00, 292.98it/s]\n",
      "       8 | 5.88e-01 | 4.72e-02: 100%|██████████| 20/20 [00:00<00:00, 292.28it/s]\n",
      "       9 | 5.87e-01 | 4.92e-02: 100%|██████████| 20/20 [00:00<00:00, 311.43it/s]\n",
      "      10 | 5.87e-01 | 4.87e-02: 100%|██████████| 20/20 [00:00<00:00, 304.68it/s]\n",
      "      11 | 5.86e-01 | 5.31e-02: 100%|██████████| 20/20 [00:00<00:00, 312.37it/s]\n",
      "      12 | 5.86e-01 | 5.42e-02: 100%|██████████| 20/20 [00:00<00:00, 294.88it/s]\n",
      "      13 | 5.86e-01 | 4.69e-02: 100%|██████████| 20/20 [00:00<00:00, 285.56it/s]\n",
      "      14 | 5.86e-01 | 4.75e-02: 100%|██████████| 20/20 [00:00<00:00, 305.00it/s]\n",
      "      15 | 5.85e-01 | 5.04e-02: 100%|██████████| 20/20 [00:00<00:00, 311.83it/s]\n",
      "      16 | 5.85e-01 | 4.93e-02: 100%|██████████| 20/20 [00:00<00:00, 303.28it/s]\n",
      "      17 | 5.85e-01 | 4.88e-02: 100%|██████████| 20/20 [00:00<00:00, 308.32it/s]\n",
      "      18 | 5.85e-01 | 5.21e-02: 100%|██████████| 20/20 [00:00<00:00, 313.94it/s]\n",
      "      19 | 5.85e-01 | 4.78e-02: 100%|██████████| 20/20 [00:00<00:00, 314.61it/s]\n",
      "      20 | 5.84e-01 | 5.53e-02: 100%|██████████| 20/20 [00:00<00:00, 295.06it/s]\n",
      "      21 | 5.84e-01 | 4.86e-02: 100%|██████████| 20/20 [00:00<00:00, 317.20it/s]\n",
      "      22 | 5.84e-01 | 4.68e-02: 100%|██████████| 20/20 [00:00<00:00, 309.66it/s]\n",
      "      23 | 5.84e-01 | 4.89e-02: 100%|██████████| 20/20 [00:00<00:00, 311.07it/s]\n",
      "      24 | 5.84e-01 | 4.91e-02: 100%|██████████| 20/20 [00:00<00:00, 306.95it/s]\n",
      "      25 | 5.84e-01 | 5.03e-02: 100%|██████████| 20/20 [00:00<00:00, 308.76it/s]\n",
      "      26 | 5.84e-01 | 4.88e-02: 100%|██████████| 20/20 [00:00<00:00, 303.31it/s]\n",
      "      27 | 5.84e-01 | 5.00e-02: 100%|██████████| 20/20 [00:00<00:00, 310.22it/s]\n",
      "      28 | 5.84e-01 | 4.79e-02: 100%|██████████| 20/20 [00:00<00:00, 320.80it/s]\n",
      "      29 | 5.84e-01 | 4.98e-02: 100%|██████████| 20/20 [00:00<00:00, 309.97it/s]\n",
      "      30 | 5.84e-01 | 5.05e-02: 100%|██████████| 20/20 [00:00<00:00, 302.80it/s]\n",
      "      31 | 5.84e-01 | 5.04e-02: 100%|██████████| 20/20 [00:00<00:00, 309.02it/s]\n",
      "      32 | 5.84e-01 | 5.15e-02: 100%|██████████| 20/20 [00:00<00:00, 308.97it/s]\n",
      "      33 | 5.84e-01 | 5.41e-02: 100%|██████████| 20/20 [00:00<00:00, 326.56it/s]\n",
      "      34 | 5.84e-01 | 5.07e-02: 100%|██████████| 20/20 [00:00<00:00, 309.31it/s]\n",
      "      35 | 5.84e-01 | 4.66e-02: 100%|██████████| 20/20 [00:00<00:00, 313.17it/s]\n",
      "      36 | 5.84e-01 | 4.54e-02: 100%|██████████| 20/20 [00:00<00:00, 312.22it/s]\n",
      "      37 | 5.84e-01 | 4.51e-02: 100%|██████████| 20/20 [00:00<00:00, 315.99it/s]\n",
      "      38 | 5.84e-01 | 5.45e-02: 100%|██████████| 20/20 [00:00<00:00, 181.60it/s]\n",
      "      39 | 5.84e-01 | 4.98e-02: 100%|██████████| 20/20 [00:00<00:00, 298.31it/s]\n",
      "      40 | 5.84e-01 | 5.01e-02: 100%|██████████| 20/20 [00:00<00:00, 319.79it/s]\n",
      "      41 | 5.84e-01 | 5.28e-02: 100%|██████████| 20/20 [00:00<00:00, 302.83it/s]\n",
      "      42 | 5.84e-01 | 5.00e-02: 100%|██████████| 20/20 [00:00<00:00, 309.29it/s]\n",
      "      43 | 5.84e-01 | 4.74e-02: 100%|██████████| 20/20 [00:00<00:00, 317.98it/s]\n",
      "      44 | 5.84e-01 | 4.84e-02: 100%|██████████| 20/20 [00:00<00:00, 314.39it/s]\n",
      "      45 | 5.84e-01 | 5.30e-02: 100%|██████████| 20/20 [00:00<00:00, 310.36it/s]\n",
      "      46 | 5.84e-01 | 5.39e-02: 100%|██████████| 20/20 [00:00<00:00, 310.12it/s]\n",
      "      47 | 5.84e-01 | 4.60e-02: 100%|██████████| 20/20 [00:00<00:00, 313.96it/s]\n",
      "      48 | 5.84e-01 | 4.87e-02: 100%|██████████| 20/20 [00:00<00:00, 313.56it/s]\n",
      "      49 | 5.84e-01 | 4.89e-02: 100%|██████████| 20/20 [00:00<00:00, 319.22it/s]\n",
      "      50 | 5.84e-01 | 4.92e-02: 100%|██████████| 20/20 [00:00<00:00, 291.04it/s]\n",
      "      51 | 5.84e-01 | 4.84e-02: 100%|██████████| 20/20 [00:00<00:00, 297.97it/s]\n",
      "      52 | 5.84e-01 | 5.15e-02: 100%|██████████| 20/20 [00:00<00:00, 312.08it/s]\n",
      "      53 | 5.84e-01 | 5.02e-02: 100%|██████████| 20/20 [00:00<00:00, 303.52it/s]\n",
      "      54 | 5.84e-01 | 4.63e-02: 100%|██████████| 20/20 [00:00<00:00, 317.70it/s]\n",
      "      55 | 5.84e-01 | 5.40e-02: 100%|██████████| 20/20 [00:00<00:00, 303.55it/s]\n",
      "      56 | 5.84e-01 | 5.52e-02: 100%|██████████| 20/20 [00:00<00:00, 304.87it/s]\n",
      "      57 | 5.84e-01 | 4.72e-02: 100%|██████████| 20/20 [00:00<00:00, 313.52it/s]\n",
      "      58 | 5.84e-01 | 4.91e-02: 100%|██████████| 20/20 [00:00<00:00, 308.69it/s]\n",
      "      59 | 5.84e-01 | 4.74e-02: 100%|██████████| 20/20 [00:00<00:00, 306.45it/s]\n",
      "      60 | 5.84e-01 | 5.17e-02: 100%|██████████| 20/20 [00:00<00:00, 308.76it/s]\n",
      "      61 | 5.84e-01 | 5.05e-02: 100%|██████████| 20/20 [00:00<00:00, 305.41it/s]\n",
      "      62 | 5.84e-01 | 4.77e-02: 100%|██████████| 20/20 [00:00<00:00, 316.38it/s]\n",
      "      63 | 5.84e-01 | 5.16e-02: 100%|██████████| 20/20 [00:00<00:00, 311.41it/s]\n",
      "      64 | 5.84e-01 | 4.76e-02: 100%|██████████| 20/20 [00:00<00:00, 302.71it/s]\n",
      "      65 | 5.84e-01 | 4.73e-02: 100%|██████████| 20/20 [00:00<00:00, 306.11it/s]\n",
      "      66 | 5.84e-01 | 5.24e-02: 100%|██████████| 20/20 [00:00<00:00, 302.30it/s]\n",
      "      67 | 5.84e-01 | 4.82e-02: 100%|██████████| 20/20 [00:00<00:00, 303.90it/s]\n",
      "      68 | 5.84e-01 | 4.99e-02: 100%|██████████| 20/20 [00:00<00:00, 299.32it/s]\n",
      "      69 | 5.84e-01 | 4.88e-02: 100%|██████████| 20/20 [00:00<00:00, 307.53it/s]\n",
      "      70 | 5.84e-01 | 5.16e-02: 100%|██████████| 20/20 [00:00<00:00, 298.55it/s]\n",
      "      71 | 5.84e-01 | 4.63e-02: 100%|██████████| 20/20 [00:00<00:00, 313.52it/s]\n",
      "      72 | 5.84e-01 | 4.84e-02: 100%|██████████| 20/20 [00:00<00:00, 316.94it/s]\n",
      "      73 | 5.84e-01 | 5.08e-02: 100%|██████████| 20/20 [00:00<00:00, 312.48it/s]\n",
      "      74 | 5.84e-01 | 5.10e-02: 100%|██████████| 20/20 [00:00<00:00, 312.59it/s]\n",
      "      75 | 5.84e-01 | 4.96e-02: 100%|██████████| 20/20 [00:00<00:00, 317.55it/s]\n",
      "      76 | 5.84e-01 | 5.45e-02: 100%|██████████| 20/20 [00:00<00:00, 303.28it/s]\n",
      "      77 | 5.84e-01 | 4.61e-02: 100%|██████████| 20/20 [00:00<00:00, 303.64it/s]\n",
      "      78 | 5.84e-01 | 4.98e-02: 100%|██████████| 20/20 [00:00<00:00, 306.92it/s]\n",
      "      79 | 5.84e-01 | 4.80e-02: 100%|██████████| 20/20 [00:00<00:00, 313.05it/s]\n",
      "      80 | 5.84e-01 | 4.83e-02: 100%|██████████| 20/20 [00:00<00:00, 317.49it/s]\n",
      "      81 | 5.84e-01 | 5.16e-02: 100%|██████████| 20/20 [00:00<00:00, 298.24it/s]\n",
      "      82 | 5.84e-01 | 5.15e-02: 100%|██████████| 20/20 [00:00<00:00, 316.65it/s]\n",
      "      83 | 5.84e-01 | 4.65e-02: 100%|██████████| 20/20 [00:00<00:00, 315.42it/s]\n",
      "      84 | 5.84e-01 | 4.74e-02: 100%|██████████| 20/20 [00:00<00:00, 325.74it/s]\n",
      "      85 | 5.84e-01 | 4.97e-02: 100%|██████████| 20/20 [00:00<00:00, 287.82it/s]\n",
      "      86 | 5.84e-01 | 5.06e-02: 100%|██████████| 20/20 [00:00<00:00, 321.30it/s]\n",
      "      87 | 5.84e-01 | 4.96e-02: 100%|██████████| 20/20 [00:00<00:00, 308.42it/s]\n",
      "      88 | 5.84e-01 | 5.40e-02: 100%|██████████| 20/20 [00:00<00:00, 317.13it/s]\n",
      "      89 | 5.84e-01 | 5.20e-02: 100%|██████████| 20/20 [00:00<00:00, 304.93it/s]\n",
      "      90 | 5.84e-01 | 4.89e-02: 100%|██████████| 20/20 [00:00<00:00, 313.45it/s]\n",
      "      91 | 5.84e-01 | 4.86e-02: 100%|██████████| 20/20 [00:00<00:00, 315.69it/s]\n",
      "      92 | 5.84e-01 | 5.09e-02: 100%|██████████| 20/20 [00:00<00:00, 310.67it/s]\n",
      "      93 | 5.84e-01 | 5.07e-02: 100%|██████████| 20/20 [00:00<00:00, 315.45it/s]\n",
      "      94 | 5.84e-01 | 5.17e-02: 100%|██████████| 20/20 [00:00<00:00, 305.44it/s]\n",
      "      95 | 5.84e-01 | 5.13e-02: 100%|██████████| 20/20 [00:00<00:00, 316.99it/s]\n",
      "      96 | 5.84e-01 | 5.09e-02: 100%|██████████| 20/20 [00:00<00:00, 323.06it/s]\n",
      "      97 | 5.84e-01 | 4.74e-02: 100%|██████████| 20/20 [00:00<00:00, 269.25it/s]\n",
      "      98 | 5.84e-01 | 4.75e-02: 100%|██████████| 20/20 [00:00<00:00, 304.91it/s]\n",
      "      99 | 5.84e-01 | 5.06e-02: 100%|██████████| 20/20 [00:00<00:00, 325.34it/s]\n"
     ]
    }
   ],
   "source": [
    "#<1 min\n",
    "w1_, loss_logs1_, norm_logs1_ = BatchBFGS(\n",
    "    initial_w=w0,\n",
    "    loss_class=g,\n",
    "    grad_batch_size=N//20,\n",
    "    max_epochs=100,\n",
    "    tolerance=1e-3,\n",
    "    ground_truth=None,\n",
    "    verbose=True,\n",
    "    seed=6,\n",
    "    use_line_search=True,\n",
    "    theta=0.9,\n",
    "    initial_alpha=0.5,\n",
    ")"
   ]
  },
  {
   "cell_type": "markdown",
   "metadata": {},
   "source": [
    "**L-BFGS**"
   ]
  },
  {
   "cell_type": "code",
   "execution_count": 118,
   "metadata": {},
   "outputs": [
    {
     "name": "stdout",
     "output_type": "stream",
     "text": [
      " epoch   |   loss   |   norm  \n"
     ]
    },
    {
     "name": "stderr",
     "output_type": "stream",
     "text": [
      "       0 | 1.78e+00 | 2.99e-01:   0%|          | 0/10 [00:00<?, ?it/s]"
     ]
    },
    {
     "name": "stderr",
     "output_type": "stream",
     "text": [
      "       0 | 1.78e+00 | 2.99e-01: 100%|██████████| 10/10 [00:00<00:00, 142.71it/s]\n",
      "       1 | 1.05e+00 | 6.17e-02: 100%|██████████| 10/10 [00:00<00:00, 153.94it/s]\n",
      "       2 | 9.92e-01 | 6.43e-02: 100%|██████████| 10/10 [00:00<00:00, 168.38it/s]\n",
      "       3 | 9.49e-01 | 5.88e-02: 100%|██████████| 10/10 [00:00<00:00, 166.45it/s]\n",
      "       4 | 8.58e-01 | 1.16e-01: 100%|██████████| 10/10 [00:00<00:00, 178.06it/s]\n",
      "       5 | 6.81e-01 | 1.14e-01: 100%|██████████| 10/10 [00:00<00:00, 174.06it/s]\n",
      "       6 | 6.24e-01 | 5.20e-02: 100%|██████████| 10/10 [00:00<00:00, 167.49it/s]\n",
      "       7 | 6.03e-01 | 4.62e-02: 100%|██████████| 10/10 [00:00<00:00, 169.81it/s]\n",
      "       8 | 5.99e-01 | 5.10e-02: 100%|██████████| 10/10 [00:00<00:00, 163.21it/s]\n",
      "       9 | 5.97e-01 | 4.57e-02: 100%|██████████| 10/10 [00:00<00:00, 161.56it/s]\n",
      "      10 | 5.96e-01 | 4.78e-02: 100%|██████████| 10/10 [00:00<00:00, 179.61it/s]\n",
      "      11 | 5.95e-01 | 5.37e-02: 100%|██████████| 10/10 [00:00<00:00, 177.92it/s]\n",
      "      12 | 5.94e-01 | 4.66e-02: 100%|██████████| 10/10 [00:00<00:00, 176.75it/s]\n",
      "      13 | 5.94e-01 | 4.44e-02: 100%|██████████| 10/10 [00:00<00:00, 139.87it/s]\n",
      "      14 | 5.93e-01 | 4.45e-02: 100%|██████████| 10/10 [00:00<00:00, 178.98it/s]\n",
      "      15 | 5.93e-01 | 4.57e-02: 100%|██████████| 10/10 [00:00<00:00, 176.87it/s]\n",
      "      16 | 5.93e-01 | 4.71e-02: 100%|██████████| 10/10 [00:00<00:00, 170.16it/s]\n",
      "      17 | 5.93e-01 | 5.16e-02: 100%|██████████| 10/10 [00:00<00:00, 171.20it/s]\n",
      "      18 | 5.93e-01 | 4.51e-02: 100%|██████████| 10/10 [00:00<00:00, 172.29it/s]\n",
      "      19 | 5.92e-01 | 4.81e-02: 100%|██████████| 10/10 [00:00<00:00, 131.84it/s]\n",
      "      20 | 5.92e-01 | 4.50e-02: 100%|██████████| 10/10 [00:00<00:00, 170.73it/s]\n",
      "      21 | 5.92e-01 | 4.92e-02: 100%|██████████| 10/10 [00:00<00:00, 175.02it/s]\n",
      "      22 | 5.92e-01 | 4.66e-02: 100%|██████████| 10/10 [00:00<00:00, 180.15it/s]\n",
      "      23 | 5.92e-01 | 4.81e-02: 100%|██████████| 10/10 [00:00<00:00, 153.54it/s]\n",
      "      24 | 5.92e-01 | 4.98e-02: 100%|██████████| 10/10 [00:00<00:00, 165.51it/s]\n",
      "      25 | 5.92e-01 | 4.84e-02: 100%|██████████| 10/10 [00:00<00:00, 166.94it/s]\n",
      "      26 | 5.92e-01 | 4.77e-02: 100%|██████████| 10/10 [00:00<00:00, 170.00it/s]\n",
      "      27 | 5.92e-01 | 4.69e-02: 100%|██████████| 10/10 [00:00<00:00, 153.24it/s]\n",
      "      28 | 5.92e-01 | 4.60e-02: 100%|██████████| 10/10 [00:00<00:00, 169.88it/s]\n",
      "      29 | 5.92e-01 | 4.07e-02: 100%|██████████| 10/10 [00:00<00:00, 157.15it/s]\n",
      "      30 | 5.91e-01 | 5.35e-02: 100%|██████████| 10/10 [00:00<00:00, 160.94it/s]\n",
      "      31 | 5.91e-01 | 4.46e-02: 100%|██████████| 10/10 [00:00<00:00, 175.05it/s]\n",
      "      32 | 5.91e-01 | 4.63e-02: 100%|██████████| 10/10 [00:00<00:00, 161.30it/s]\n",
      "      33 | 5.91e-01 | 4.55e-02: 100%|██████████| 10/10 [00:00<00:00, 169.03it/s]\n",
      "      34 | 5.91e-01 | 4.68e-02: 100%|██████████| 10/10 [00:00<00:00, 166.32it/s]\n",
      "      35 | 5.91e-01 | 4.91e-02: 100%|██████████| 10/10 [00:00<00:00, 163.30it/s]\n",
      "      36 | 5.91e-01 | 4.95e-02: 100%|██████████| 10/10 [00:00<00:00, 160.17it/s]\n",
      "      37 | 5.91e-01 | 4.52e-02: 100%|██████████| 10/10 [00:00<00:00, 153.98it/s]\n",
      "      38 | 5.91e-01 | 4.51e-02: 100%|██████████| 10/10 [00:00<00:00, 167.04it/s]\n",
      "      39 | 5.91e-01 | 4.58e-02: 100%|██████████| 10/10 [00:00<00:00, 169.89it/s]\n",
      "      40 | 5.91e-01 | 4.60e-02: 100%|██████████| 10/10 [00:00<00:00, 175.06it/s]\n",
      "      41 | 5.91e-01 | 4.83e-02: 100%|██████████| 10/10 [00:00<00:00, 172.59it/s]\n",
      "      42 | 5.91e-01 | 5.05e-02: 100%|██████████| 10/10 [00:00<00:00, 176.46it/s]\n",
      "      43 | 5.91e-01 | 4.28e-02: 100%|██████████| 10/10 [00:00<00:00, 173.59it/s]\n",
      "      44 | 5.91e-01 | 4.59e-02: 100%|██████████| 10/10 [00:00<00:00, 172.03it/s]\n",
      "      45 | 5.90e-01 | 4.25e-02: 100%|██████████| 10/10 [00:00<00:00, 158.89it/s]\n",
      "      46 | 5.90e-01 | 4.41e-02: 100%|██████████| 10/10 [00:00<00:00, 157.39it/s]\n",
      "      47 | 5.91e-01 | 4.60e-02: 100%|██████████| 10/10 [00:00<00:00, 176.08it/s]\n",
      "      48 | 5.90e-01 | 4.65e-02: 100%|██████████| 10/10 [00:00<00:00, 175.00it/s]\n",
      "      49 | 5.90e-01 | 4.55e-02: 100%|██████████| 10/10 [00:00<00:00, 179.56it/s]\n",
      "      50 | 5.90e-01 | 4.76e-02: 100%|██████████| 10/10 [00:00<00:00, 161.73it/s]\n",
      "      51 | 5.90e-01 | 4.41e-02: 100%|██████████| 10/10 [00:00<00:00, 168.56it/s]\n",
      "      52 | 5.90e-01 | 4.63e-02: 100%|██████████| 10/10 [00:00<00:00, 173.99it/s]\n",
      "      53 | 5.90e-01 | 4.75e-02: 100%|██████████| 10/10 [00:00<00:00, 173.01it/s]\n",
      "      54 | 5.90e-01 | 5.31e-02: 100%|██████████| 10/10 [00:00<00:00, 168.02it/s]\n",
      "      55 | 5.90e-01 | 4.74e-02: 100%|██████████| 10/10 [00:00<00:00, 154.48it/s]\n",
      "      56 | 5.90e-01 | 5.40e-02: 100%|██████████| 10/10 [00:00<00:00, 175.32it/s]\n",
      "      57 | 5.90e-01 | 4.82e-02: 100%|██████████| 10/10 [00:00<00:00, 170.09it/s]\n",
      "      58 | 5.90e-01 | 4.40e-02: 100%|██████████| 10/10 [00:00<00:00, 162.52it/s]\n",
      "      59 | 5.90e-01 | 4.82e-02: 100%|██████████| 10/10 [00:00<00:00, 156.09it/s]\n",
      "      60 | 5.90e-01 | 4.53e-02: 100%|██████████| 10/10 [00:00<00:00, 159.50it/s]\n",
      "      61 | 5.90e-01 | 4.69e-02: 100%|██████████| 10/10 [00:00<00:00, 159.62it/s]\n",
      "      62 | 5.90e-01 | 5.15e-02: 100%|██████████| 10/10 [00:00<00:00, 171.63it/s]\n",
      "      63 | 5.90e-01 | 5.47e-02: 100%|██████████| 10/10 [00:00<00:00, 167.85it/s]\n",
      "      64 | 5.90e-01 | 4.51e-02: 100%|██████████| 10/10 [00:00<00:00, 166.49it/s]\n",
      "      65 | 5.89e-01 | 4.69e-02: 100%|██████████| 10/10 [00:00<00:00, 158.92it/s]\n",
      "      66 | 5.89e-01 | 4.68e-02: 100%|██████████| 10/10 [00:00<00:00, 173.30it/s]\n",
      "      67 | 5.90e-01 | 4.74e-02: 100%|██████████| 10/10 [00:00<00:00, 163.23it/s]\n",
      "      68 | 5.89e-01 | 5.11e-02: 100%|██████████| 10/10 [00:00<00:00, 148.74it/s]\n",
      "      69 | 5.89e-01 | 4.87e-02: 100%|██████████| 10/10 [00:00<00:00, 170.36it/s]\n",
      "      70 | 5.89e-01 | 4.73e-02: 100%|██████████| 10/10 [00:00<00:00, 159.97it/s]\n",
      "      71 | 5.89e-01 | 5.04e-02: 100%|██████████| 10/10 [00:00<00:00, 168.34it/s]\n",
      "      72 | 5.89e-01 | 4.40e-02: 100%|██████████| 10/10 [00:00<00:00, 166.22it/s]\n",
      "      73 | 5.89e-01 | 4.73e-02: 100%|██████████| 10/10 [00:00<00:00, 154.11it/s]\n",
      "      74 | 5.89e-01 | 4.49e-02: 100%|██████████| 10/10 [00:00<00:00, 176.35it/s]\n",
      "      75 | 5.89e-01 | 4.76e-02: 100%|██████████| 10/10 [00:00<00:00, 144.88it/s]\n",
      "      76 | 5.89e-01 | 4.66e-02: 100%|██████████| 10/10 [00:00<00:00, 167.48it/s]\n",
      "      77 | 5.89e-01 | 4.35e-02: 100%|██████████| 10/10 [00:00<00:00, 156.30it/s]\n",
      "      78 | 5.89e-01 | 4.40e-02: 100%|██████████| 10/10 [00:00<00:00, 164.33it/s]\n",
      "      79 | 5.89e-01 | 4.50e-02: 100%|██████████| 10/10 [00:00<00:00, 162.07it/s]\n",
      "      80 | 5.89e-01 | 4.43e-02: 100%|██████████| 10/10 [00:00<00:00, 167.73it/s]\n",
      "      81 | 5.89e-01 | 4.70e-02: 100%|██████████| 10/10 [00:00<00:00, 165.47it/s]\n",
      "      82 | 5.89e-01 | 4.78e-02: 100%|██████████| 10/10 [00:00<00:00, 165.83it/s]\n",
      "      83 | 5.89e-01 | 4.91e-02: 100%|██████████| 10/10 [00:00<00:00, 176.22it/s]\n",
      "      84 | 5.89e-01 | 5.37e-02: 100%|██████████| 10/10 [00:00<00:00, 171.30it/s]\n",
      "      85 | 5.89e-01 | 4.97e-02: 100%|██████████| 10/10 [00:00<00:00, 172.17it/s]\n",
      "      86 | 5.89e-01 | 4.74e-02: 100%|██████████| 10/10 [00:00<00:00, 168.43it/s]\n",
      "      87 | 5.89e-01 | 4.57e-02: 100%|██████████| 10/10 [00:00<00:00, 177.87it/s]\n",
      "      88 | 5.89e-01 | 4.65e-02: 100%|██████████| 10/10 [00:00<00:00, 162.66it/s]\n",
      "      89 | 5.88e-01 | 4.92e-02: 100%|██████████| 10/10 [00:00<00:00, 174.17it/s]\n",
      "      90 | 5.88e-01 | 5.04e-02: 100%|██████████| 10/10 [00:00<00:00, 160.50it/s]\n",
      "      91 | 5.88e-01 | 4.80e-02: 100%|██████████| 10/10 [00:00<00:00, 174.36it/s]\n",
      "      92 | 5.88e-01 | 4.56e-02: 100%|██████████| 10/10 [00:00<00:00, 164.61it/s]\n",
      "      93 | 5.88e-01 | 4.70e-02: 100%|██████████| 10/10 [00:00<00:00, 168.14it/s]\n",
      "      94 | 5.88e-01 | 4.54e-02: 100%|██████████| 10/10 [00:00<00:00, 170.60it/s]\n",
      "      95 | 5.88e-01 | 4.69e-02: 100%|██████████| 10/10 [00:00<00:00, 163.74it/s]\n",
      "      96 | 5.88e-01 | 5.10e-02: 100%|██████████| 10/10 [00:00<00:00, 151.52it/s]\n",
      "      97 | 5.88e-01 | 4.73e-02: 100%|██████████| 10/10 [00:00<00:00, 172.77it/s]\n",
      "      98 | 5.88e-01 | 4.51e-02: 100%|██████████| 10/10 [00:00<00:00, 165.12it/s]\n",
      "      99 | 5.88e-01 | 4.39e-02: 100%|██████████| 10/10 [00:00<00:00, 160.25it/s]\n"
     ]
    }
   ],
   "source": [
    "#< 1 min\n",
    "w2, loss_logs2, norm_logs2 = BatchLBFGS(\n",
    "    initial_w=w0,\n",
    "    loss_class=g,\n",
    "    grad_batch_size=N//10,\n",
    "    m=2,\n",
    "    max_epochs=100,\n",
    "    tolerance=1e-3,\n",
    "    use_line_search=True,\n",
    "    theta=0.9,\n",
    "    initial_alpha=0.5,\n",
    ")"
   ]
  },
  {
   "cell_type": "code",
   "execution_count": 117,
   "metadata": {},
   "outputs": [
    {
     "name": "stdout",
     "output_type": "stream",
     "text": [
      " epoch   |   loss   |   norm  \n"
     ]
    },
    {
     "name": "stderr",
     "output_type": "stream",
     "text": [
      "       0 | 1.78e+00 | 2.99e-01: 100%|██████████| 20/20 [00:00<00:00, 250.16it/s]\n",
      "       1 | 9.51e-01 | 5.86e-02: 100%|██████████| 20/20 [00:00<00:00, 274.19it/s]\n",
      "       2 | 7.94e-01 | 1.22e-01: 100%|██████████| 20/20 [00:00<00:00, 283.52it/s]\n",
      "       3 | 6.63e-01 | 7.22e-02: 100%|██████████| 20/20 [00:00<00:00, 292.80it/s]\n",
      "       4 | 6.22e-01 | 5.80e-02: 100%|██████████| 20/20 [00:00<00:00, 277.69it/s]\n",
      "       5 | 6.09e-01 | 4.67e-02: 100%|██████████| 20/20 [00:00<00:00, 288.70it/s]\n",
      "       6 | 6.06e-01 | 5.04e-02: 100%|██████████| 20/20 [00:00<00:00, 280.14it/s]\n",
      "       7 | 6.04e-01 | 4.42e-02: 100%|██████████| 20/20 [00:00<00:00, 287.66it/s]\n",
      "       8 | 6.03e-01 | 5.40e-02: 100%|██████████| 20/20 [00:00<00:00, 275.43it/s]\n",
      "       9 | 5.99e-01 | 4.84e-02: 100%|██████████| 20/20 [00:00<00:00, 271.37it/s]\n",
      "      10 | 5.97e-01 | 4.33e-02: 100%|██████████| 20/20 [00:00<00:00, 289.52it/s]\n",
      "      11 | 5.97e-01 | 5.11e-02: 100%|██████████| 20/20 [00:00<00:00, 263.74it/s]\n",
      "      12 | 5.97e-01 | 5.17e-02: 100%|██████████| 20/20 [00:00<00:00, 284.42it/s]\n",
      "      13 | 5.97e-01 | 4.79e-02: 100%|██████████| 20/20 [00:00<00:00, 268.36it/s]\n",
      "      14 | 5.96e-01 | 4.83e-02: 100%|██████████| 20/20 [00:00<00:00, 280.50it/s]\n",
      "      15 | 5.96e-01 | 4.33e-02: 100%|██████████| 20/20 [00:00<00:00, 276.40it/s]\n",
      "      16 | 5.96e-01 | 4.42e-02: 100%|██████████| 20/20 [00:00<00:00, 282.84it/s]\n",
      "      17 | 5.96e-01 | 4.65e-02: 100%|██████████| 20/20 [00:00<00:00, 281.89it/s]\n",
      "      18 | 5.96e-01 | 5.04e-02: 100%|██████████| 20/20 [00:00<00:00, 281.42it/s]\n",
      "      19 | 5.96e-01 | 4.71e-02: 100%|██████████| 20/20 [00:00<00:00, 286.14it/s]\n",
      "      20 | 5.96e-01 | 4.54e-02: 100%|██████████| 20/20 [00:00<00:00, 284.89it/s]\n",
      "      21 | 5.95e-01 | 4.73e-02: 100%|██████████| 20/20 [00:00<00:00, 295.19it/s]\n",
      "      22 | 5.95e-01 | 5.16e-02: 100%|██████████| 20/20 [00:00<00:00, 285.60it/s]\n",
      "      23 | 5.95e-01 | 5.19e-02: 100%|██████████| 20/20 [00:00<00:00, 283.46it/s]\n",
      "      24 | 5.95e-01 | 4.70e-02: 100%|██████████| 20/20 [00:00<00:00, 290.10it/s]\n",
      "      25 | 5.95e-01 | 5.25e-02: 100%|██████████| 20/20 [00:00<00:00, 278.86it/s]\n",
      "      26 | 5.95e-01 | 4.58e-02: 100%|██████████| 20/20 [00:00<00:00, 276.85it/s]\n",
      "      27 | 5.95e-01 | 4.24e-02: 100%|██████████| 20/20 [00:00<00:00, 276.66it/s]\n",
      "      28 | 5.95e-01 | 4.90e-02: 100%|██████████| 20/20 [00:00<00:00, 277.45it/s]\n",
      "      29 | 5.95e-01 | 5.33e-02: 100%|██████████| 20/20 [00:00<00:00, 282.24it/s]\n",
      "      30 | 5.94e-01 | 4.39e-02: 100%|██████████| 20/20 [00:00<00:00, 292.96it/s]\n",
      "      31 | 5.94e-01 | 5.24e-02: 100%|██████████| 20/20 [00:00<00:00, 286.23it/s]\n",
      "      32 | 5.94e-01 | 4.84e-02: 100%|██████████| 20/20 [00:00<00:00, 282.35it/s]\n",
      "      33 | 5.94e-01 | 5.19e-02: 100%|██████████| 20/20 [00:00<00:00, 277.83it/s]\n",
      "      34 | 5.94e-01 | 5.14e-02: 100%|██████████| 20/20 [00:00<00:00, 277.46it/s]\n",
      "      35 | 5.94e-01 | 4.14e-02: 100%|██████████| 20/20 [00:00<00:00, 148.79it/s]\n",
      "      36 | 5.94e-01 | 5.01e-02: 100%|██████████| 20/20 [00:00<00:00, 291.65it/s]\n",
      "      37 | 5.93e-01 | 4.40e-02: 100%|██████████| 20/20 [00:00<00:00, 289.38it/s]\n",
      "      38 | 5.94e-01 | 4.95e-02: 100%|██████████| 20/20 [00:00<00:00, 285.26it/s]\n",
      "      39 | 5.94e-01 | 4.97e-02: 100%|██████████| 20/20 [00:00<00:00, 280.53it/s]\n",
      "      40 | 5.93e-01 | 5.04e-02: 100%|██████████| 20/20 [00:00<00:00, 295.35it/s]\n",
      "      41 | 5.93e-01 | 4.43e-02: 100%|██████████| 20/20 [00:00<00:00, 281.03it/s]\n",
      "      42 | 5.93e-01 | 5.05e-02: 100%|██████████| 20/20 [00:00<00:00, 295.15it/s]\n",
      "      43 | 5.93e-01 | 4.19e-02: 100%|██████████| 20/20 [00:00<00:00, 277.45it/s]\n",
      "      44 | 5.93e-01 | 4.89e-02: 100%|██████████| 20/20 [00:00<00:00, 283.28it/s]\n",
      "      45 | 5.93e-01 | 4.92e-02: 100%|██████████| 20/20 [00:00<00:00, 290.88it/s]\n",
      "      46 | 5.93e-01 | 4.48e-02: 100%|██████████| 20/20 [00:00<00:00, 284.70it/s]\n",
      "      47 | 5.93e-01 | 4.66e-02: 100%|██████████| 20/20 [00:00<00:00, 289.02it/s]\n",
      "      48 | 5.93e-01 | 4.72e-02: 100%|██████████| 20/20 [00:00<00:00, 287.63it/s]\n",
      "      49 | 5.92e-01 | 4.96e-02: 100%|██████████| 20/20 [00:00<00:00, 281.00it/s]\n",
      "      50 | 5.92e-01 | 4.48e-02: 100%|██████████| 20/20 [00:00<00:00, 292.58it/s]\n",
      "      51 | 5.92e-01 | 4.63e-02: 100%|██████████| 20/20 [00:00<00:00, 282.94it/s]\n",
      "      52 | 5.92e-01 | 4.56e-02: 100%|██████████| 20/20 [00:00<00:00, 281.26it/s]\n",
      "      53 | 5.92e-01 | 4.49e-02: 100%|██████████| 20/20 [00:00<00:00, 301.69it/s]\n",
      "      54 | 5.92e-01 | 4.76e-02: 100%|██████████| 20/20 [00:00<00:00, 283.87it/s]\n",
      "      55 | 5.92e-01 | 4.67e-02: 100%|██████████| 20/20 [00:00<00:00, 292.40it/s]\n",
      "      56 | 5.92e-01 | 5.55e-02: 100%|██████████| 20/20 [00:00<00:00, 284.43it/s]\n",
      "      57 | 5.92e-01 | 4.76e-02: 100%|██████████| 20/20 [00:00<00:00, 274.09it/s]\n",
      "      58 | 5.92e-01 | 4.55e-02: 100%|██████████| 20/20 [00:00<00:00, 275.66it/s]\n",
      "      59 | 5.92e-01 | 4.77e-02: 100%|██████████| 20/20 [00:00<00:00, 280.51it/s]\n",
      "      60 | 5.92e-01 | 4.91e-02: 100%|██████████| 20/20 [00:00<00:00, 277.30it/s]\n",
      "      61 | 5.92e-01 | 5.00e-02: 100%|██████████| 20/20 [00:00<00:00, 286.09it/s]\n",
      "      62 | 5.92e-01 | 4.84e-02: 100%|██████████| 20/20 [00:00<00:00, 289.71it/s]\n",
      "      63 | 5.92e-01 | 5.33e-02: 100%|██████████| 20/20 [00:00<00:00, 287.26it/s]\n",
      "      64 | 5.92e-01 | 4.64e-02: 100%|██████████| 20/20 [00:00<00:00, 284.45it/s]\n",
      "      65 | 5.92e-01 | 4.45e-02: 100%|██████████| 20/20 [00:00<00:00, 286.66it/s]\n",
      "      66 | 5.91e-01 | 4.88e-02: 100%|██████████| 20/20 [00:00<00:00, 279.49it/s]\n",
      "      67 | 5.92e-01 | 5.39e-02: 100%|██████████| 20/20 [00:00<00:00, 281.00it/s]\n",
      "      68 | 5.91e-01 | 5.04e-02: 100%|██████████| 20/20 [00:00<00:00, 283.91it/s]\n",
      "      69 | 5.92e-01 | 4.96e-02: 100%|██████████| 20/20 [00:00<00:00, 290.89it/s]\n",
      "      70 | 5.91e-01 | 4.39e-02: 100%|██████████| 20/20 [00:00<00:00, 295.63it/s]\n",
      "      71 | 5.91e-01 | 5.20e-02: 100%|██████████| 20/20 [00:00<00:00, 280.53it/s]\n",
      "      72 | 5.91e-01 | 5.32e-02: 100%|██████████| 20/20 [00:00<00:00, 290.14it/s]\n",
      "      73 | 5.91e-01 | 5.49e-02: 100%|██████████| 20/20 [00:00<00:00, 282.83it/s]\n",
      "      74 | 5.91e-01 | 4.93e-02: 100%|██████████| 20/20 [00:00<00:00, 281.48it/s]\n",
      "      75 | 5.91e-01 | 5.36e-02: 100%|██████████| 20/20 [00:00<00:00, 281.05it/s]\n",
      "      76 | 5.91e-01 | 4.59e-02: 100%|██████████| 20/20 [00:00<00:00, 272.12it/s]\n",
      "      77 | 5.91e-01 | 4.40e-02: 100%|██████████| 20/20 [00:00<00:00, 281.58it/s]\n",
      "      78 | 5.91e-01 | 4.73e-02: 100%|██████████| 20/20 [00:00<00:00, 287.94it/s]\n",
      "      79 | 5.91e-01 | 4.96e-02: 100%|██████████| 20/20 [00:00<00:00, 283.96it/s]\n",
      "      80 | 5.91e-01 | 4.77e-02: 100%|██████████| 20/20 [00:00<00:00, 288.22it/s]\n",
      "      81 | 5.91e-01 | 5.03e-02: 100%|██████████| 20/20 [00:00<00:00, 290.10it/s]\n",
      "      82 | 5.91e-01 | 4.88e-02: 100%|██████████| 20/20 [00:00<00:00, 163.42it/s]\n",
      "      83 | 5.91e-01 | 4.74e-02: 100%|██████████| 20/20 [00:00<00:00, 279.32it/s]\n",
      "      84 | 5.91e-01 | 5.28e-02: 100%|██████████| 20/20 [00:00<00:00, 275.05it/s]\n",
      "      85 | 5.91e-01 | 5.10e-02: 100%|██████████| 20/20 [00:00<00:00, 262.23it/s]\n",
      "      86 | 5.91e-01 | 5.03e-02: 100%|██████████| 20/20 [00:00<00:00, 294.10it/s]\n",
      "      87 | 5.91e-01 | 5.33e-02: 100%|██████████| 20/20 [00:00<00:00, 272.25it/s]\n",
      "      88 | 5.91e-01 | 4.66e-02: 100%|██████████| 20/20 [00:00<00:00, 265.24it/s]\n",
      "      89 | 5.91e-01 | 5.15e-02: 100%|██████████| 20/20 [00:00<00:00, 269.25it/s]\n",
      "      90 | 5.91e-01 | 5.57e-02: 100%|██████████| 20/20 [00:00<00:00, 269.08it/s]\n",
      "      91 | 5.91e-01 | 4.53e-02: 100%|██████████| 20/20 [00:00<00:00, 289.12it/s]\n",
      "      92 | 5.91e-01 | 5.13e-02: 100%|██████████| 20/20 [00:00<00:00, 278.33it/s]\n",
      "      93 | 5.91e-01 | 4.92e-02: 100%|██████████| 20/20 [00:00<00:00, 283.89it/s]\n",
      "      94 | 5.91e-01 | 5.67e-02: 100%|██████████| 20/20 [00:00<00:00, 282.16it/s]\n",
      "      95 | 5.91e-01 | 4.63e-02: 100%|██████████| 20/20 [00:00<00:00, 281.53it/s]\n",
      "      96 | 5.91e-01 | 5.41e-02: 100%|██████████| 20/20 [00:00<00:00, 282.70it/s]\n",
      "      97 | 5.91e-01 | 4.72e-02: 100%|██████████| 20/20 [00:00<00:00, 279.05it/s]\n",
      "      98 | 5.90e-01 | 4.70e-02: 100%|██████████| 20/20 [00:00<00:00, 268.24it/s]\n",
      "      99 | 5.90e-01 | 5.00e-02: 100%|██████████| 20/20 [00:00<00:00, 266.01it/s]\n"
     ]
    }
   ],
   "source": [
    "w2_, loss_logs2_, norm_logs2_ = BatchLBFGS(\n",
    "    initial_w=w0,\n",
    "    loss_class=g,\n",
    "    grad_batch_size=N//20,\n",
    "    m=2,\n",
    "    max_epochs=100,\n",
    "    tolerance=1e-3,\n",
    "    use_line_search=True,\n",
    "    theta=0.9,\n",
    "    initial_alpha=0.5,\n",
    ")"
   ]
  },
  {
   "cell_type": "code",
   "execution_count": 103,
   "metadata": {},
   "outputs": [],
   "source": [
    "from algorithms2 import SGD"
   ]
  },
  {
   "cell_type": "code",
   "execution_count": 107,
   "metadata": {},
   "outputs": [
    {
     "name": "stdout",
     "output_type": "stream",
     "text": [
      " epoch   |   loss   |   norm  \n"
     ]
    },
    {
     "name": "stderr",
     "output_type": "stream",
     "text": [
      "       0 | 1.78e+00 | 2.99e-01: 100%|██████████| 10/10 [00:00<00:00, 61.67it/s]\n",
      "       1 | 1.40e+00 | 2.38e-01: 100%|██████████| 10/10 [00:00<00:00, 82.81it/s]\n",
      "       2 | 1.18e+00 | 1.71e-01: 100%|██████████| 10/10 [00:00<00:00, 66.36it/s]\n",
      "       3 | 1.09e+00 | 1.09e-01: 100%|██████████| 10/10 [00:00<00:00, 80.05it/s]\n",
      "       4 | 1.05e+00 | 8.20e-02: 100%|██████████| 10/10 [00:00<00:00, 72.56it/s]\n",
      "       5 | 1.02e+00 | 7.15e-02: 100%|██████████| 10/10 [00:00<00:00, 76.94it/s]\n",
      "       6 | 1.00e+00 | 6.54e-02: 100%|██████████| 10/10 [00:00<00:00, 74.48it/s]\n",
      "       7 | 9.84e-01 | 5.92e-02: 100%|██████████| 10/10 [00:00<00:00, 72.92it/s]\n",
      "       8 | 9.70e-01 | 5.86e-02: 100%|██████████| 10/10 [00:00<00:00, 84.65it/s]\n",
      "       9 | 9.57e-01 | 5.78e-02: 100%|██████████| 10/10 [00:00<00:00, 72.62it/s]\n",
      "      10 | 9.44e-01 | 5.74e-02: 100%|██████████| 10/10 [00:00<00:00, 72.55it/s]\n",
      "      11 | 9.33e-01 | 5.68e-02: 100%|██████████| 10/10 [00:00<00:00, 83.61it/s]\n",
      "      12 | 9.22e-01 | 5.52e-02: 100%|██████████| 10/10 [00:00<00:00, 77.49it/s]\n",
      "      13 | 9.11e-01 | 5.52e-02: 100%|██████████| 10/10 [00:00<00:00, 74.20it/s]\n",
      "      14 | 9.01e-01 | 5.68e-02: 100%|██████████| 10/10 [00:00<00:00, 73.12it/s]\n",
      "      15 | 8.91e-01 | 5.70e-02: 100%|██████████| 10/10 [00:00<00:00, 78.39it/s]\n",
      "      16 | 8.81e-01 | 5.53e-02: 100%|██████████| 10/10 [00:00<00:00, 71.24it/s]\n",
      "      17 | 8.72e-01 | 5.54e-02: 100%|██████████| 10/10 [00:00<00:00, 78.40it/s]\n",
      "      18 | 8.63e-01 | 5.43e-02: 100%|██████████| 10/10 [00:00<00:00, 54.11it/s]\n",
      "      19 | 8.55e-01 | 5.71e-02: 100%|██████████| 10/10 [00:00<00:00, 80.38it/s]\n",
      "      20 | 8.46e-01 | 5.59e-02: 100%|██████████| 10/10 [00:00<00:00, 85.29it/s]\n",
      "      21 | 8.38e-01 | 5.60e-02: 100%|██████████| 10/10 [00:00<00:00, 76.12it/s]\n",
      "      22 | 8.30e-01 | 5.72e-02: 100%|██████████| 10/10 [00:00<00:00, 79.13it/s]\n",
      "      23 | 8.21e-01 | 5.87e-02: 100%|██████████| 10/10 [00:00<00:00, 80.87it/s]\n",
      "      24 | 8.11e-01 | 6.05e-02: 100%|██████████| 10/10 [00:00<00:00, 70.23it/s]\n",
      "      25 | 7.99e-01 | 5.98e-02: 100%|██████████| 10/10 [00:00<00:00, 73.02it/s]\n",
      "      26 | 7.89e-01 | 5.54e-02: 100%|██████████| 10/10 [00:00<00:00, 72.36it/s]\n",
      "      27 | 7.81e-01 | 5.62e-02: 100%|██████████| 10/10 [00:00<00:00, 79.95it/s]\n",
      "      28 | 7.74e-01 | 5.66e-02: 100%|██████████| 10/10 [00:00<00:00, 70.47it/s]\n",
      "      29 | 7.68e-01 | 5.65e-02: 100%|██████████| 10/10 [00:00<00:00, 71.80it/s]\n",
      "      30 | 7.62e-01 | 5.48e-02: 100%|██████████| 10/10 [00:00<00:00, 80.47it/s]\n",
      "      31 | 7.57e-01 | 5.36e-02: 100%|██████████| 10/10 [00:00<00:00, 73.96it/s]\n",
      "      32 | 7.52e-01 | 5.38e-02: 100%|██████████| 10/10 [00:00<00:00, 67.41it/s]\n",
      "      33 | 7.47e-01 | 5.38e-02: 100%|██████████| 10/10 [00:00<00:00, 77.15it/s]\n",
      "      34 | 7.41e-01 | 5.50e-02: 100%|██████████| 10/10 [00:00<00:00, 82.98it/s]\n",
      "      35 | 7.31e-01 | 5.68e-02: 100%|██████████| 10/10 [00:00<00:00, 82.71it/s]\n",
      "      36 | 7.23e-01 | 5.95e-02: 100%|██████████| 10/10 [00:00<00:00, 77.66it/s]\n",
      "      37 | 7.05e-01 | 6.60e-02: 100%|██████████| 10/10 [00:00<00:00, 72.38it/s]\n",
      "      38 | 6.96e-01 | 5.59e-02: 100%|██████████| 10/10 [00:00<00:00, 76.85it/s]\n",
      "      39 | 6.91e-01 | 5.33e-02: 100%|██████████| 10/10 [00:00<00:00, 71.75it/s]\n",
      "      40 | 6.88e-01 | 5.33e-02: 100%|██████████| 10/10 [00:00<00:00, 63.33it/s]\n",
      "      41 | 6.85e-01 | 4.83e-02: 100%|██████████| 10/10 [00:00<00:00, 82.96it/s]\n",
      "      42 | 6.81e-01 | 4.94e-02: 100%|██████████| 10/10 [00:00<00:00, 69.03it/s]\n",
      "      43 | 6.79e-01 | 5.26e-02: 100%|██████████| 10/10 [00:00<00:00, 81.45it/s]\n",
      "      44 | 6.76e-01 | 5.02e-02: 100%|██████████| 10/10 [00:00<00:00, 73.40it/s]\n",
      "      45 | 6.73e-01 | 4.90e-02: 100%|██████████| 10/10 [00:00<00:00, 69.92it/s]\n",
      "      46 | 6.71e-01 | 4.75e-02: 100%|██████████| 10/10 [00:00<00:00, 83.08it/s]\n",
      "      47 | 6.68e-01 | 5.15e-02: 100%|██████████| 10/10 [00:00<00:00, 87.20it/s]\n",
      "      48 | 6.65e-01 | 5.03e-02: 100%|██████████| 10/10 [00:00<00:00, 72.32it/s]\n",
      "      49 | 6.38e-01 | 7.89e-02: 100%|██████████| 10/10 [00:00<00:00, 76.20it/s]\n",
      "      50 | 6.32e-01 | 4.50e-02: 100%|██████████| 10/10 [00:00<00:00, 82.52it/s]\n",
      "      51 | 6.29e-01 | 5.07e-02: 100%|██████████| 10/10 [00:00<00:00, 79.23it/s]\n",
      "      52 | 6.26e-01 | 4.33e-02: 100%|██████████| 10/10 [00:00<00:00, 54.89it/s]\n",
      "      53 | 6.24e-01 | 5.04e-02: 100%|██████████| 10/10 [00:00<00:00, 78.99it/s]\n",
      "      54 | 6.22e-01 | 4.68e-02: 100%|██████████| 10/10 [00:00<00:00, 79.92it/s]\n",
      "      55 | 6.19e-01 | 4.96e-02: 100%|██████████| 10/10 [00:00<00:00, 73.44it/s]\n",
      "      56 | 6.17e-01 | 4.80e-02: 100%|██████████| 10/10 [00:00<00:00, 74.06it/s]\n",
      "      57 | 6.15e-01 | 4.72e-02: 100%|██████████| 10/10 [00:00<00:00, 57.87it/s]\n",
      "      58 | 6.13e-01 | 4.62e-02: 100%|██████████| 10/10 [00:00<00:00, 92.93it/s]\n",
      "      59 | 6.11e-01 | 4.50e-02: 100%|██████████| 10/10 [00:00<00:00, 76.09it/s]\n",
      "      60 | 6.08e-01 | 5.90e-02: 100%|██████████| 10/10 [00:00<00:00, 82.41it/s]\n",
      "      61 | 6.02e-01 | 4.59e-02: 100%|██████████| 10/10 [00:00<00:00, 69.84it/s]\n",
      "      62 | 6.01e-01 | 4.80e-02: 100%|██████████| 10/10 [00:00<00:00, 76.84it/s]\n",
      "      63 | 6.00e-01 | 4.70e-02: 100%|██████████| 10/10 [00:00<00:00, 74.81it/s]\n",
      "      64 | 5.99e-01 | 4.52e-02: 100%|██████████| 10/10 [00:00<00:00, 74.40it/s]\n",
      "      65 | 5.99e-01 | 4.57e-02: 100%|██████████| 10/10 [00:00<00:00, 38.89it/s]\n",
      "      66 | 5.98e-01 | 4.55e-02: 100%|██████████| 10/10 [00:00<00:00, 79.77it/s]\n",
      "      67 | 5.98e-01 | 4.70e-02: 100%|██████████| 10/10 [00:00<00:00, 74.90it/s]\n",
      "      68 | 5.97e-01 | 5.15e-02: 100%|██████████| 10/10 [00:00<00:00, 76.73it/s]\n",
      "      69 | 5.97e-01 | 4.74e-02: 100%|██████████| 10/10 [00:00<00:00, 60.77it/s]\n",
      "      70 | 5.97e-01 | 5.10e-02: 100%|██████████| 10/10 [00:00<00:00, 76.64it/s]\n",
      "      71 | 5.97e-01 | 5.25e-02: 100%|██████████| 10/10 [00:00<00:00, 75.18it/s]\n",
      "      72 | 5.97e-01 | 4.98e-02: 100%|██████████| 10/10 [00:00<00:00, 73.41it/s]\n",
      "      73 | 5.97e-01 | 4.56e-02: 100%|██████████| 10/10 [00:00<00:00, 68.56it/s]\n",
      "      74 | 5.97e-01 | 4.98e-02: 100%|██████████| 10/10 [00:00<00:00, 73.93it/s]\n",
      "      75 | 5.97e-01 | 4.47e-02: 100%|██████████| 10/10 [00:00<00:00, 82.71it/s]\n",
      "      76 | 5.96e-01 | 4.45e-02: 100%|██████████| 10/10 [00:00<00:00, 74.72it/s]\n",
      "      77 | 5.96e-01 | 4.23e-02: 100%|██████████| 10/10 [00:00<00:00, 80.63it/s]\n",
      "      78 | 5.96e-01 | 4.78e-02: 100%|██████████| 10/10 [00:00<00:00, 72.32it/s]\n",
      "      79 | 5.96e-01 | 5.02e-02: 100%|██████████| 10/10 [00:00<00:00, 77.74it/s]\n",
      "      80 | 5.96e-01 | 4.71e-02: 100%|██████████| 10/10 [00:00<00:00, 65.17it/s]\n",
      "      81 | 5.96e-01 | 4.71e-02: 100%|██████████| 10/10 [00:00<00:00, 86.17it/s]\n",
      "      82 | 5.96e-01 | 4.26e-02: 100%|██████████| 10/10 [00:00<00:00, 74.38it/s]\n",
      "      83 | 5.96e-01 | 4.27e-02: 100%|██████████| 10/10 [00:00<00:00, 72.91it/s]\n",
      "      84 | 5.96e-01 | 4.43e-02: 100%|██████████| 10/10 [00:00<00:00, 38.78it/s]\n",
      "      85 | 5.96e-01 | 4.79e-02: 100%|██████████| 10/10 [00:00<00:00, 76.58it/s]\n",
      "      86 | 5.96e-01 | 4.87e-02: 100%|██████████| 10/10 [00:00<00:00, 78.30it/s]\n",
      "      87 | 5.96e-01 | 4.46e-02: 100%|██████████| 10/10 [00:00<00:00, 71.25it/s]\n",
      "      88 | 5.96e-01 | 4.70e-02: 100%|██████████| 10/10 [00:00<00:00, 66.09it/s]\n",
      "      89 | 5.96e-01 | 4.99e-02: 100%|██████████| 10/10 [00:00<00:00, 77.11it/s]\n",
      "      90 | 5.96e-01 | 5.03e-02: 100%|██████████| 10/10 [00:00<00:00, 85.23it/s]\n",
      "      91 | 5.95e-01 | 4.49e-02: 100%|██████████| 10/10 [00:00<00:00, 86.51it/s]\n",
      "      92 | 5.95e-01 | 5.06e-02: 100%|██████████| 10/10 [00:00<00:00, 83.42it/s]\n",
      "      93 | 5.95e-01 | 4.82e-02: 100%|██████████| 10/10 [00:00<00:00, 86.41it/s]\n",
      "      94 | 5.95e-01 | 4.57e-02: 100%|██████████| 10/10 [00:00<00:00, 78.19it/s]\n",
      "      95 | 5.95e-01 | 4.73e-02: 100%|██████████| 10/10 [00:00<00:00, 76.18it/s]\n",
      "      96 | 5.95e-01 | 4.36e-02: 100%|██████████| 10/10 [00:00<00:00, 75.22it/s]\n",
      "      97 | 5.95e-01 | 4.45e-02: 100%|██████████| 10/10 [00:00<00:00, 74.95it/s]\n",
      "      98 | 5.95e-01 | 4.53e-02: 100%|██████████| 10/10 [00:00<00:00, 76.89it/s]\n",
      "      99 | 5.95e-01 | 4.82e-02: 100%|██████████| 10/10 [00:00<00:00, 77.99it/s]\n"
     ]
    }
   ],
   "source": [
    "# <1 min\n",
    "w3, loss_logs3, norm_logs3 = SGD(\n",
    "    initial_w=w0,\n",
    "    loss_class=g,\n",
    "    grad_batch_size=N//10,\n",
    "    max_epochs=100,\n",
    "    tolerance=1e-3,\n",
    "    seed=1,\n",
    "    use_line_search=True,\n",
    "    initial_alpha=0.5,\n",
    "    theta=0.9\n",
    ")"
   ]
  },
  {
   "cell_type": "code",
   "execution_count": 114,
   "metadata": {},
   "outputs": [
    {
     "name": "stdout",
     "output_type": "stream",
     "text": [
      " epoch   |   loss   |   norm  \n"
     ]
    },
    {
     "name": "stderr",
     "output_type": "stream",
     "text": [
      "       0 | 1.78e+00 | 2.99e-01: 100%|██████████| 20/20 [00:00<00:00, 317.78it/s]\n",
      "       1 | 1.18e+00 | 1.66e-01: 100%|██████████| 20/20 [00:00<00:00, 381.69it/s]\n",
      "       2 | 1.05e+00 | 7.94e-02: 100%|██████████| 20/20 [00:00<00:00, 383.57it/s]\n",
      "       3 | 1.00e+00 | 6.43e-02: 100%|██████████| 20/20 [00:00<00:00, 381.38it/s]\n",
      "       4 | 9.71e-01 | 5.77e-02: 100%|██████████| 20/20 [00:00<00:00, 373.74it/s]\n",
      "       5 | 9.45e-01 | 5.70e-02: 100%|██████████| 20/20 [00:00<00:00, 364.23it/s]\n",
      "       6 | 9.22e-01 | 5.73e-02: 100%|██████████| 20/20 [00:00<00:00, 368.77it/s]\n",
      "       7 | 9.01e-01 | 5.62e-02: 100%|██████████| 20/20 [00:00<00:00, 377.89it/s]\n",
      "       8 | 8.81e-01 | 5.58e-02: 100%|██████████| 20/20 [00:00<00:00, 374.43it/s]\n",
      "       9 | 8.62e-01 | 5.73e-02: 100%|██████████| 20/20 [00:00<00:00, 375.57it/s]\n",
      "      10 | 8.41e-01 | 6.04e-02: 100%|██████████| 20/20 [00:00<00:00, 373.05it/s]\n",
      "      11 | 8.20e-01 | 6.20e-02: 100%|██████████| 20/20 [00:00<00:00, 376.97it/s]\n",
      "      12 | 8.01e-01 | 5.62e-02: 100%|██████████| 20/20 [00:00<00:00, 385.02it/s]\n",
      "      13 | 7.85e-01 | 5.54e-02: 100%|██████████| 20/20 [00:00<00:00, 379.10it/s]\n",
      "      14 | 7.73e-01 | 5.45e-02: 100%|██████████| 20/20 [00:00<00:00, 378.27it/s]\n",
      "      15 | 7.61e-01 | 5.40e-02: 100%|██████████| 20/20 [00:00<00:00, 359.70it/s]\n",
      "      16 | 7.51e-01 | 5.23e-02: 100%|██████████| 20/20 [00:00<00:00, 373.09it/s]\n",
      "      17 | 7.41e-01 | 5.76e-02: 100%|██████████| 20/20 [00:00<00:00, 374.64it/s]\n",
      "      18 | 7.21e-01 | 6.72e-02: 100%|██████████| 20/20 [00:00<00:00, 375.46it/s]\n",
      "      19 | 6.96e-01 | 5.40e-02: 100%|██████████| 20/20 [00:00<00:00, 371.36it/s]\n",
      "      20 | 6.88e-01 | 4.99e-02: 100%|██████████| 20/20 [00:00<00:00, 374.11it/s]\n",
      "      21 | 6.82e-01 | 5.25e-02: 100%|██████████| 20/20 [00:00<00:00, 369.12it/s]\n",
      "      22 | 6.76e-01 | 5.14e-02: 100%|██████████| 20/20 [00:00<00:00, 363.46it/s]\n",
      "      23 | 6.71e-01 | 4.90e-02: 100%|██████████| 20/20 [00:00<00:00, 371.61it/s]\n",
      "      24 | 6.66e-01 | 4.81e-02: 100%|██████████| 20/20 [00:00<00:00, 380.72it/s]\n",
      "      25 | 6.33e-01 | 5.02e-02: 100%|██████████| 20/20 [00:00<00:00, 363.53it/s]\n",
      "      26 | 6.27e-01 | 4.52e-02: 100%|██████████| 20/20 [00:00<00:00, 371.72it/s]\n",
      "      27 | 6.22e-01 | 4.29e-02: 100%|██████████| 20/20 [00:00<00:00, 371.75it/s]\n",
      "      28 | 6.18e-01 | 4.52e-02: 100%|██████████| 20/20 [00:00<00:00, 381.02it/s]\n",
      "      29 | 6.14e-01 | 4.59e-02: 100%|██████████| 20/20 [00:00<00:00, 377.92it/s]\n",
      "      30 | 6.08e-01 | 5.75e-02: 100%|██████████| 20/20 [00:00<00:00, 372.48it/s]\n",
      "      31 | 6.01e-01 | 4.99e-02: 100%|██████████| 20/20 [00:00<00:00, 370.94it/s]\n",
      "      32 | 5.99e-01 | 4.85e-02: 100%|██████████| 20/20 [00:00<00:00, 375.26it/s]\n",
      "      33 | 5.98e-01 | 4.74e-02: 100%|██████████| 20/20 [00:00<00:00, 380.57it/s]\n",
      "      34 | 5.98e-01 | 4.68e-02: 100%|██████████| 20/20 [00:00<00:00, 377.15it/s]\n",
      "      35 | 5.97e-01 | 4.59e-02: 100%|██████████| 20/20 [00:00<00:00, 373.92it/s]\n",
      "      36 | 5.97e-01 | 4.55e-02: 100%|██████████| 20/20 [00:00<00:00, 372.92it/s]\n",
      "      37 | 5.97e-01 | 4.76e-02: 100%|██████████| 20/20 [00:00<00:00, 368.10it/s]\n",
      "      38 | 5.96e-01 | 4.85e-02: 100%|██████████| 20/20 [00:00<00:00, 371.35it/s]\n",
      "      39 | 5.96e-01 | 4.95e-02: 100%|██████████| 20/20 [00:00<00:00, 375.47it/s]\n",
      "      40 | 5.96e-01 | 4.68e-02: 100%|██████████| 20/20 [00:00<00:00, 379.35it/s]\n",
      "      41 | 5.96e-01 | 4.61e-02: 100%|██████████| 20/20 [00:00<00:00, 379.07it/s]\n",
      "      42 | 5.96e-01 | 4.80e-02: 100%|██████████| 20/20 [00:00<00:00, 328.89it/s]\n",
      "      43 | 5.96e-01 | 4.65e-02: 100%|██████████| 20/20 [00:00<00:00, 381.91it/s]\n",
      "      44 | 5.96e-01 | 4.82e-02: 100%|██████████| 20/20 [00:00<00:00, 376.28it/s]\n",
      "      45 | 5.95e-01 | 4.67e-02: 100%|██████████| 20/20 [00:00<00:00, 371.52it/s]\n",
      "      46 | 5.95e-01 | 4.66e-02: 100%|██████████| 20/20 [00:00<00:00, 363.26it/s]\n",
      "      47 | 5.95e-01 | 4.54e-02: 100%|██████████| 20/20 [00:00<00:00, 375.27it/s]\n",
      "      48 | 5.95e-01 | 4.75e-02: 100%|██████████| 20/20 [00:00<00:00, 370.85it/s]\n",
      "      49 | 5.95e-01 | 4.77e-02: 100%|██████████| 20/20 [00:00<00:00, 352.50it/s]\n",
      "      50 | 5.95e-01 | 4.59e-02: 100%|██████████| 20/20 [00:00<00:00, 359.87it/s]\n",
      "      51 | 5.95e-01 | 5.40e-02: 100%|██████████| 20/20 [00:00<00:00, 362.42it/s]\n",
      "      52 | 5.95e-01 | 4.70e-02: 100%|██████████| 20/20 [00:00<00:00, 384.22it/s]\n",
      "      53 | 5.95e-01 | 5.06e-02: 100%|██████████| 20/20 [00:00<00:00, 382.55it/s]\n",
      "      54 | 5.94e-01 | 4.71e-02: 100%|██████████| 20/20 [00:00<00:00, 374.94it/s]\n",
      "      55 | 5.94e-01 | 4.46e-02: 100%|██████████| 20/20 [00:00<00:00, 384.62it/s]\n",
      "      56 | 5.94e-01 | 4.84e-02: 100%|██████████| 20/20 [00:00<00:00, 381.26it/s]\n",
      "      57 | 5.94e-01 | 5.29e-02: 100%|██████████| 20/20 [00:00<00:00, 373.77it/s]\n",
      "      58 | 5.94e-01 | 4.50e-02: 100%|██████████| 20/20 [00:00<00:00, 372.22it/s]\n",
      "      59 | 5.94e-01 | 4.43e-02: 100%|██████████| 20/20 [00:00<00:00, 296.58it/s]\n",
      "      60 | 5.94e-01 | 4.68e-02: 100%|██████████| 20/20 [00:00<00:00, 369.00it/s]\n",
      "      61 | 5.94e-01 | 4.73e-02: 100%|██████████| 20/20 [00:00<00:00, 361.03it/s]\n",
      "      62 | 5.94e-01 | 5.11e-02: 100%|██████████| 20/20 [00:00<00:00, 373.41it/s]\n",
      "      63 | 5.94e-01 | 4.84e-02: 100%|██████████| 20/20 [00:00<00:00, 366.33it/s]\n",
      "      64 | 5.94e-01 | 4.49e-02: 100%|██████████| 20/20 [00:00<00:00, 358.58it/s]\n",
      "      65 | 5.94e-01 | 4.61e-02: 100%|██████████| 20/20 [00:00<00:00, 370.55it/s]\n",
      "      66 | 5.93e-01 | 4.78e-02: 100%|██████████| 20/20 [00:00<00:00, 366.32it/s]\n",
      "      67 | 5.93e-01 | 4.76e-02: 100%|██████████| 20/20 [00:00<00:00, 371.90it/s]\n",
      "      68 | 5.93e-01 | 4.72e-02: 100%|██████████| 20/20 [00:00<00:00, 373.18it/s]\n",
      "      69 | 5.93e-01 | 4.68e-02: 100%|██████████| 20/20 [00:00<00:00, 360.32it/s]\n",
      "      70 | 5.93e-01 | 4.76e-02: 100%|██████████| 20/20 [00:00<00:00, 383.16it/s]\n",
      "      71 | 5.93e-01 | 5.16e-02: 100%|██████████| 20/20 [00:00<00:00, 357.71it/s]\n",
      "      72 | 5.93e-01 | 4.68e-02: 100%|██████████| 20/20 [00:00<00:00, 365.00it/s]\n",
      "      73 | 5.93e-01 | 4.82e-02: 100%|██████████| 20/20 [00:00<00:00, 376.27it/s]\n",
      "      74 | 5.93e-01 | 4.72e-02: 100%|██████████| 20/20 [00:00<00:00, 381.16it/s]\n",
      "      75 | 5.93e-01 | 4.91e-02: 100%|██████████| 20/20 [00:00<00:00, 380.07it/s]\n",
      "      76 | 5.93e-01 | 4.78e-02: 100%|██████████| 20/20 [00:00<00:00, 378.68it/s]\n",
      "      77 | 5.93e-01 | 5.02e-02: 100%|██████████| 20/20 [00:00<00:00, 386.37it/s]\n",
      "      78 | 5.93e-01 | 4.68e-02: 100%|██████████| 20/20 [00:00<00:00, 384.60it/s]\n",
      "      79 | 5.92e-01 | 4.61e-02: 100%|██████████| 20/20 [00:00<00:00, 383.48it/s]\n",
      "      80 | 5.92e-01 | 4.72e-02: 100%|██████████| 20/20 [00:00<00:00, 388.60it/s]\n",
      "      81 | 5.92e-01 | 4.55e-02: 100%|██████████| 20/20 [00:00<00:00, 375.75it/s]\n",
      "      82 | 5.92e-01 | 4.56e-02: 100%|██████████| 20/20 [00:00<00:00, 370.61it/s]\n",
      "      83 | 5.92e-01 | 4.51e-02: 100%|██████████| 20/20 [00:00<00:00, 366.21it/s]\n",
      "      84 | 5.92e-01 | 5.00e-02: 100%|██████████| 20/20 [00:00<00:00, 369.72it/s]\n",
      "      85 | 5.92e-01 | 4.93e-02: 100%|██████████| 20/20 [00:00<00:00, 368.88it/s]\n",
      "      86 | 5.92e-01 | 4.62e-02: 100%|██████████| 20/20 [00:00<00:00, 382.87it/s]\n",
      "      87 | 5.92e-01 | 4.77e-02: 100%|██████████| 20/20 [00:00<00:00, 380.28it/s]\n",
      "      88 | 5.92e-01 | 4.44e-02: 100%|██████████| 20/20 [00:00<00:00, 352.48it/s]\n",
      "      89 | 5.92e-01 | 5.49e-02: 100%|██████████| 20/20 [00:00<00:00, 372.52it/s]\n",
      "      90 | 5.92e-01 | 4.82e-02: 100%|██████████| 20/20 [00:00<00:00, 369.95it/s]\n",
      "      91 | 5.92e-01 | 4.41e-02: 100%|██████████| 20/20 [00:00<00:00, 366.81it/s]\n",
      "      92 | 5.92e-01 | 4.98e-02: 100%|██████████| 20/20 [00:00<00:00, 384.46it/s]\n",
      "      93 | 5.91e-01 | 4.84e-02: 100%|██████████| 20/20 [00:00<00:00, 370.40it/s]\n",
      "      94 | 5.92e-01 | 4.79e-02: 100%|██████████| 20/20 [00:00<00:00, 369.51it/s]\n",
      "      95 | 5.91e-01 | 4.76e-02: 100%|██████████| 20/20 [00:00<00:00, 362.88it/s]\n",
      "      96 | 5.92e-01 | 4.96e-02: 100%|██████████| 20/20 [00:00<00:00, 351.72it/s]\n",
      "      97 | 5.91e-01 | 4.73e-02: 100%|██████████| 20/20 [00:00<00:00, 372.34it/s]\n",
      "      98 | 5.91e-01 | 4.92e-02: 100%|██████████| 20/20 [00:00<00:00, 367.32it/s]\n",
      "      99 | 5.91e-01 | 4.98e-02: 100%|██████████| 20/20 [00:00<00:00, 371.39it/s]\n"
     ]
    }
   ],
   "source": [
    "# <1 min\n",
    "w3_, loss_logs3_, norm_logs3_ = SGD(\n",
    "    initial_w=w0,\n",
    "    loss_class=g,\n",
    "    grad_batch_size=N//20,\n",
    "    max_epochs=100,\n",
    "    tolerance=1e-3,\n",
    "    seed=1,\n",
    "    use_line_search=True,\n",
    "    initial_alpha=0.5,\n",
    "    theta=0.9\n",
    ")"
   ]
  },
  {
   "cell_type": "code",
   "execution_count": 121,
   "metadata": {},
   "outputs": [
    {
     "data": {
      "image/png": "[encoded data removed]",
      "text/plain": [
       "<Figure size 640x480 with 1 Axes>"
      ]
     },
     "metadata": {},
     "output_type": "display_data"
    }
   ],
   "source": [
    "plt.plot(loss_logs, label=\"Batch Newton - S=100%\")\n",
    "plt.plot(loss_logs1, label=\"Batch BFGS - S=10%\")\n",
    "plt.plot(loss_logs1_, label=\"Batch BFGS - S=5%\")\n",
    "plt.plot(loss_logs2, label=\"Batch L-BFGS - S=10% - m=2\")\n",
    "plt.plot(loss_logs2_, label=\"Batch L-BFGS - S=5% - m=2\")\n",
    "plt.plot(loss_logs3, label=\"SGD - S=10%\")\n",
    "plt.plot(loss_logs3_, label=\"SGD - S=5%\")\n",
    "plt.legend()\n",
    "plt.xlabel(\"Iterations\")\n",
    "plt.ylabel(\"Loss\")\n",
    "plt.yscale('log')\n",
    "plt.show()"
   ]
  },
  {
   "cell_type": "markdown",
   "metadata": {},
   "source": [
    "**Conclusion** :\n",
    "- The basic Newton method is too unstable, it is sensitive to the starting point and isn't practical due to the Hessian matrix not being invertible (not even considering the computational cost of evaluating a Hessian matrix when d is high)\n",
    "- BFGS and L-BFGS are powerful variants of the basic Newton method, they're more stable.<br> L-BFGS in particular has the advantage of not having to store the approximated inverse Hessian matrix in memory which could be particularly useful if d is high, because that would be a d² square (possibly dense) matrix. For an image of 100*100 resolution, that would be a 1e8 float matrix...\n",
    "- SGD is decent, but it converges slower in terms of iterations than the Quasi-Newton methods. One would argue that it doesn't approximate the Hessian matrix inverse, so the iterations are cheaper. <br>\n",
    "  But in this particular case, the Quasi-Newton methods are the clear winner.\n",
    "  \n",
    "- For every stochastic version of the method, there is a sweet spot between selecting the batch size, too big may be too slow but more stable, too low may be faster at the beginning but too unstable. <br> \n",
    "  Our previous experiments showed that having a medium batch size (e.g. 128-512, depending on a lot of things of course) is a good compromise between stability and convergence speed"
   ]
  },
  {
   "cell_type": "code",
   "execution_count": 110,
   "metadata": {},
   "outputs": [
    {
     "data": {
      "text/plain": [
       "22784"
      ]
     },
     "execution_count": 110,
     "metadata": {},
     "output_type": "execute_result"
    }
   ],
   "source": [
    "gc.collect()"
   ]
  },
  {
   "cell_type": "markdown",
   "metadata": {},
   "source": [
    "### Extra credit (optional): \n",
    "Choose a dataset with a testing set and compare the testing loss versus the training loss"
   ]
  }
 ],
 "metadata": {
  "kernelspec": {
   "display_name": "venv",
   "language": "python",
   "name": "python3"
  },
  "language_info": {
   "codemirror_mode": {
    "name": "ipython",
    "version": 3
   },
   "file_extension": ".py",
   "mimetype": "text/x-python",
   "name": "python",
   "nbconvert_exporter": "python",
   "pygments_lexer": "ipython3",
   "version": "3.12.2"
  }
 },
 "nbformat": 4,
 "nbformat_minor": 2
}
