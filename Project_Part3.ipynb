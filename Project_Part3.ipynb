{
 "cells": [
  {
   "cell_type": "markdown",
   "metadata": {},
   "source": [
    "# 3. Binary Classification on real-world data"
   ]
  },
  {
   "cell_type": "markdown",
   "metadata": {},
   "source": [
    "# 3.1 Dataset"
   ]
  },
  {
   "cell_type": "code",
   "execution_count": 1,
   "metadata": {},
   "outputs": [],
   "source": [
    "import numpy as np\n",
    "import matplotlib.pyplot as plt\n",
    "from scipy.linalg import norm\n",
    "\n",
    "import gc\n",
    "from tqdm import tqdm\n",
    "from sklearn.datasets import load_svmlight_file"
   ]
  },
  {
   "cell_type": "markdown",
   "metadata": {},
   "source": [
    "### Implementation 3.1\n",
    "\n",
    "Select a dataset from the libsvm repository. The dataset should have at least 20 features\n",
    "and 1,000 training samples."
   ]
  },
  {
   "cell_type": "markdown",
   "metadata": {},
   "source": [
    "**Downloading**"
   ]
  },
  {
   "cell_type": "code",
   "execution_count": 2,
   "metadata": {},
   "outputs": [
    {
     "data": {
      "text/plain": [
       "('mushrooms', <http.client.HTTPMessage at 0x2bc81ba9400>)"
      ]
     },
     "execution_count": 2,
     "metadata": {},
     "output_type": "execute_result"
    }
   ],
   "source": [
    "# from urllib.request import urlretrieve\n",
    "# urlretrieve(\"https://www.csie.ntu.edu.tw/~cjlin/libsvmtools/datasets/binary/mushrooms\", \"mushrooms\")\n",
    "# urlretrieve(\"https://www.csie.ntu.edu.tw/~cjlin/libsvmtools/datasets/binary/a9a\", \"a9a\")\n",
    "# urlretrieve(\"https://www.csie.ntu.edu.tw/~cjlin/libsvmtools/datasets/binary/a9a.t\",\"a9a.t\")"
   ]
  },
  {
   "cell_type": "markdown",
   "metadata": {},
   "source": [
    "**Loading the dataset**\n",
    "\n",
    "It has :\n",
    "- 32 561 samples (train) / 16 281 samples (test)\n",
    "- 123 features"
   ]
  },
  {
   "cell_type": "code",
   "execution_count": 14,
   "metadata": {},
   "outputs": [],
   "source": [
    "file = \"mushrooms\"\n",
    "X, y = load_svmlight_file(file)"
   ]
  },
  {
   "cell_type": "code",
   "execution_count": 15,
   "metadata": {},
   "outputs": [
    {
     "data": {
      "text/plain": [
       "(8124, 112)"
      ]
     },
     "execution_count": 15,
     "metadata": {},
     "output_type": "execute_result"
    }
   ],
   "source": [
    "X.shape"
   ]
  },
  {
   "cell_type": "code",
   "execution_count": 16,
   "metadata": {},
   "outputs": [],
   "source": [
    "X_train, y_train = X.toarray(), y"
   ]
  },
  {
   "cell_type": "code",
   "execution_count": 17,
   "metadata": {},
   "outputs": [
    {
     "data": {
      "text/plain": [
       "array([0., 0., 0., 0., 0., 1., 0., 1., 0., 0., 0., 0., 0., 0., 1., 0., 0.,\n",
       "       0., 0., 0., 1., 0., 0., 0., 0., 0., 0., 0., 1., 0., 0., 0., 1., 1.,\n",
       "       0., 0., 1., 0., 0., 0., 0., 1., 0., 0., 0., 0., 0., 0., 0., 1., 0.,\n",
       "       0., 1., 0., 0., 0., 1., 0., 0., 0., 0., 0., 0., 0., 0., 0., 1., 0.,\n",
       "       0., 0., 0., 0., 0., 0., 0., 1., 0., 1., 0., 0., 1., 0., 0., 1., 0.,\n",
       "       1., 0., 0., 0., 0., 0., 0., 1., 0., 0., 0., 0., 0., 0., 0., 0., 0.,\n",
       "       1., 0., 0., 0., 0., 0., 0., 0., 1., 0.])"
      ]
     },
     "execution_count": 17,
     "metadata": {},
     "output_type": "execute_result"
    }
   ],
   "source": [
    "X_train[0]"
   ]
  },
  {
   "cell_type": "code",
   "execution_count": 18,
   "metadata": {},
   "outputs": [
    {
     "name": "stdout",
     "output_type": "stream",
     "text": [
      "The frequency of the first 10 features : [0.00049237 0.05563762 0.38798621 0.10192024 0.00393895 0.45002462\n",
      " 0.39931068 0.31462334 0.00049237 0.28557361]\n"
     ]
    }
   ],
   "source": [
    "print(\"The frequency of the first 10 features :\", X_train.mean(axis=0)[:10])"
   ]
  },
  {
   "cell_type": "markdown",
   "metadata": {},
   "source": [
    "**The features seem very sparse, a lot are often empty**"
   ]
  },
  {
   "cell_type": "markdown",
   "metadata": {},
   "source": [
    "Converting label 2 to -1"
   ]
  },
  {
   "cell_type": "code",
   "execution_count": 19,
   "metadata": {},
   "outputs": [
    {
     "data": {
      "text/plain": [
       "array([1., 2.])"
      ]
     },
     "execution_count": 19,
     "metadata": {},
     "output_type": "execute_result"
    }
   ],
   "source": [
    "np.unique(y_train)"
   ]
  },
  {
   "cell_type": "code",
   "execution_count": 20,
   "metadata": {},
   "outputs": [
    {
     "name": "stdout",
     "output_type": "stream",
     "text": [
      "[0. 1.]\n"
     ]
    }
   ],
   "source": [
    "y_train -= 1\n",
    "print(np.unique(y_train))"
   ]
  },
  {
   "cell_type": "markdown",
   "metadata": {},
   "source": [
    "Checking if X's feature are normalized"
   ]
  },
  {
   "cell_type": "code",
   "execution_count": 21,
   "metadata": {},
   "outputs": [
    {
     "data": {
      "text/plain": [
       "(0.1875, 0.3903123748998999)"
      ]
     },
     "execution_count": 21,
     "metadata": {},
     "output_type": "execute_result"
    }
   ],
   "source": [
    "X_train.mean(), X_train.std()"
   ]
  },
  {
   "cell_type": "markdown",
   "metadata": {},
   "source": [
    "X train has a constant feature"
   ]
  },
  {
   "cell_type": "code",
   "execution_count": 22,
   "metadata": {},
   "outputs": [
    {
     "data": {
      "text/plain": [
       "array([1.])"
      ]
     },
     "execution_count": 22,
     "metadata": {},
     "output_type": "execute_result"
    }
   ],
   "source": [
    "np.unique(X_train[:,77])"
   ]
  },
  {
   "cell_type": "code",
   "execution_count": 23,
   "metadata": {},
   "outputs": [],
   "source": [
    "X_train = np.delete(X_train, 77, axis=1)"
   ]
  },
  {
   "cell_type": "code",
   "execution_count": 24,
   "metadata": {},
   "outputs": [
    {
     "data": {
      "text/plain": [
       "array([0., 1.])"
      ]
     },
     "execution_count": 24,
     "metadata": {},
     "output_type": "execute_result"
    }
   ],
   "source": [
    "np.unique(X_train[:,77])"
   ]
  },
  {
   "cell_type": "markdown",
   "metadata": {},
   "source": [
    "**Creating a scaler class**"
   ]
  },
  {
   "cell_type": "code",
   "execution_count": 25,
   "metadata": {},
   "outputs": [],
   "source": [
    "class Scaler():\n",
    "\n",
    "    def __init__(self) -> None:\n",
    "        pass\n",
    "\n",
    "    def fit(self, X):\n",
    "        # Computing the mean and std along the features\n",
    "        mean = np.mean(X, axis=0)\n",
    "        std = np.std(X, axis=0)\n",
    "        self.mean = mean\n",
    "        self.std = std\n",
    "\n",
    "    def transform(self, X):\n",
    "        return (X-self.mean)/self.std"
   ]
  },
  {
   "cell_type": "code",
   "execution_count": 26,
   "metadata": {},
   "outputs": [],
   "source": [
    "scaler = Scaler()"
   ]
  },
  {
   "cell_type": "code",
   "execution_count": 27,
   "metadata": {},
   "outputs": [],
   "source": [
    "scaler.fit(X_train)\n",
    "scaled_X_train = scaler.transform(X_train)"
   ]
  },
  {
   "cell_type": "code",
   "execution_count": 28,
   "metadata": {},
   "outputs": [
    {
     "data": {
      "text/plain": [
       "(4.727685308529284e-19, 1.000000000000008)"
      ]
     },
     "execution_count": 28,
     "metadata": {},
     "output_type": "execute_result"
    }
   ],
   "source": [
    "scaled_X_train.mean(), scaled_X_train.std()"
   ]
  },
  {
   "cell_type": "code",
   "execution_count": 29,
   "metadata": {},
   "outputs": [
    {
     "name": "stdout",
     "output_type": "stream",
     "text": [
      "8124 111\n"
     ]
    }
   ],
   "source": [
    "N, d = X_train.shape\n",
    "print(N, d)"
   ]
  },
  {
   "cell_type": "markdown",
   "metadata": {},
   "source": [
    "### Implementation 3.2\n",
    "\n",
    "Given your dataset, implement the associated codes for $g_S$ , $\\nabla g_S$ and $\\nabla^2 g_S$ , where S\n",
    "is a set of random indices in {1, . . . , n}"
   ]
  },
  {
   "cell_type": "code",
   "execution_count": 30,
   "metadata": {},
   "outputs": [],
   "source": [
    "class Loss():\n",
    "\n",
    "    def __init__(\n",
    "        self,\n",
    "        X, \n",
    "        y, \n",
    "        lbda=None,\n",
    "        regul=None,\n",
    "        batch_size=None,\n",
    "        grad_batch_size=None, \n",
    "        grad2_batch_size=None\n",
    "    ) -> None:\n",
    "\n",
    "        self.X = X\n",
    "        self.y = y\n",
    "        self.N, self.d = self.X.shape\n",
    "        # we add a regularization term if needed\n",
    "        self.lbda = lbda\n",
    "        self.regul = regul\n",
    "        # Initialize a default batch size\n",
    "        self.batch_size = batch_size\n",
    "        self.grad_batch_size = grad_batch_size\n",
    "        self.grad2_batch_size = grad2_batch_size\n",
    "        # tracking number of evaluations\n",
    "        self.func_evals = 0\n",
    "        self.grad_evals = 0\n",
    "    \n",
    "    def g_i(self, w, i):\n",
    "        self.func_evals += 1\n",
    "        return ( self.y[i] - (1 / (1 + np.exp(-self.X[i].dot(w)))) )**2\n",
    "    \n",
    "    def __call__(self, w, indexes=None):\n",
    "        # Default batch size if indexes isn't given\n",
    "        indexes = self.batch_size if indexes is None else indexes\n",
    "        # We add the regularization term directly here and not in g_i\n",
    "        # (because it would be a redundant calculation to compute the mean of a term that doesn't depend on the batch chosen)\n",
    "        # This is ok bc we never actually call g_i directly outside of the class\n",
    "        if self.regul == 'l1':\n",
    "            regul = (self.lbda/2) * norm(w,1)\n",
    "        elif self.regul == 'l2' :\n",
    "            regul = (self.lbda/2) * (norm(w,2)**2)\n",
    "        else :\n",
    "            regul = 0\n",
    "        return np.mean(self.g_i(w, indexes)) + regul\n",
    "    \n",
    "    def grad_i(self, w, i):\n",
    "        self.grad_evals += 1\n",
    "        exp_xiw = np.exp(self.X[i].dot(w))\n",
    "        return (-2 * exp_xiw * (exp_xiw * (self.y[i]-1) + self.y[i]) * self.X[i]) / (1 + exp_xiw)**3\n",
    "    \n",
    "    def grad(self, w, indexes=None):\n",
    "        indexes = self.grad_batch_size if indexes is None else indexes\n",
    "        grad = np.zeros(self.d)\n",
    "        for idx in indexes:\n",
    "            grad += self.grad_i(w, idx)\n",
    "        # regularization term\n",
    "        if self.regul == 'l1':\n",
    "            regul = (self.lbda/2) * np.sign(w)\n",
    "        elif self.regul == 'l2' :\n",
    "            regul = self.lbda*w\n",
    "        else :\n",
    "            regul = 0\n",
    "        return grad/len(indexes) + regul\n",
    "    \n",
    "    def grad2_i(self, w, i):\n",
    "        # Returns a (d,d) shape array\n",
    "        self.grad_evals += self.d\n",
    "        exp_xiw = np.exp(self.X[i].dot(w))\n",
    "        scalar = 2 * exp_xiw * ( (exp_xiw**2 * (self.y[i]-1)) + (2 * exp_xiw - self.y[i]) ) / (1 + exp_xiw)**4\n",
    "        return scalar * self.X[i].reshape(self.d, 1) @ self.X[i].reshape(1, self.d)\n",
    "    \n",
    "    def grad2(self, w, indexes=None):\n",
    "        indexes = self.grad2_batch_size if indexes is None else indexes\n",
    "        grad2 = np.zeros(shape=(self.d, self.d))\n",
    "        for idx in indexes:\n",
    "            grad2 += self.grad2_i(w, idx)\n",
    "        # regularization term\n",
    "        if self.regul == 'l1':\n",
    "            regul = 0\n",
    "        elif self.regul == 'l2' :\n",
    "            regul = self.lbda*np.identity(self.d)\n",
    "        else :\n",
    "            regul = 0\n",
    "        return grad2/len(indexes) + regul\n",
    "    \n",
    "    def get_L():\n",
    "        pass\n",
    "\n",
    "    def get_batch_L():\n",
    "        pass"
   ]
  },
  {
   "cell_type": "code",
   "execution_count": 31,
   "metadata": {},
   "outputs": [],
   "source": [
    "g = Loss(\n",
    "    X=X_train,\n",
    "    y=y_train,\n",
    "    regul=\"l1\",\n",
    "    lbda=1./np.sqrt(N)\n",
    ")"
   ]
  },
  {
   "cell_type": "markdown",
   "metadata": {},
   "source": [
    "it makes sense to use l1 regularization here because the features are very sparse"
   ]
  },
  {
   "cell_type": "markdown",
   "metadata": {},
   "source": [
    "Checking if my gradients implementation are correct :"
   ]
  },
  {
   "cell_type": "code",
   "execution_count": 32,
   "metadata": {},
   "outputs": [
    {
     "name": "stdout",
     "output_type": "stream",
     "text": [
      "gradient error : 3.9365446139242415e-08\n",
      "Hessian error : 1.9046372139002516e-09\n"
     ]
    }
   ],
   "source": [
    "# <30 seconds\n",
    "from scipy.optimize import check_grad\n",
    "\n",
    "# computing func/grad on a random point\n",
    "some_w = np.random.rand(d)\n",
    "\n",
    "print(\"gradient error :\", check_grad(g.__call__, g.grad, some_w, np.arange(N)))\n",
    "\n",
    "print(\"Hessian error :\", check_grad(g.grad, g.grad2, some_w, np.arange(N)))"
   ]
  },
  {
   "cell_type": "markdown",
   "metadata": {},
   "source": [
    "## 3.3 Comparison of the algorithms"
   ]
  },
  {
   "cell_type": "markdown",
   "metadata": {},
   "source": [
    "### Question 10\n",
    "Compare the performance of the subsampling Newton method from Section 2.1 and that of the\n",
    "stochastic quasi-Newton method of Section 2.2 with a (batch) stochastic gradient approach. You may reuse\n",
    "the stochastic gradient implementation from the course notebooks"
   ]
  },
  {
   "cell_type": "code",
   "execution_count": 33,
   "metadata": {},
   "outputs": [],
   "source": [
    "from algorithms2 import SubNewton, BatchArmijoLineSearch, BatchBFGS, BatchLBFGS"
   ]
  },
  {
   "cell_type": "code",
   "execution_count": 34,
   "metadata": {},
   "outputs": [
    {
     "name": "stdout",
     "output_type": "stream",
     "text": [
      "Initial loss : 0.8885213000570045\n"
     ]
    }
   ],
   "source": [
    "np.random.seed(5)\n",
    "w0 = np.random.randn(d)\n",
    "print(\"Initial loss :\",g(w0, np.arange(N)))"
   ]
  },
  {
   "cell_type": "code",
   "execution_count": 35,
   "metadata": {},
   "outputs": [
    {
     "name": "stdout",
     "output_type": "stream",
     "text": [
      " epoch   |   loss   |   norm  \n"
     ]
    },
    {
     "name": "stderr",
     "output_type": "stream",
     "text": [
      "       0 | 8.89e-01 | 1.68e-01:   0%|          | 0/10 [00:00<?, ?it/s]"
     ]
    },
    {
     "name": "stderr",
     "output_type": "stream",
     "text": [
      "       0 | 8.89e-01 | 1.68e-01:   0%|          | 0/10 [00:00<?, ?it/s]\n"
     ]
    },
    {
     "ename": "LinAlgError",
     "evalue": "Singular matrix",
     "output_type": "error",
     "traceback": [
      "\u001b[1;31m---------------------------------------------------------------------------\u001b[0m",
      "\u001b[1;31mLinAlgError\u001b[0m                               Traceback (most recent call last)",
      "Cell \u001b[1;32mIn[35], line 1\u001b[0m\n\u001b[1;32m----> 1\u001b[0m w, loss_logs, norm_logs \u001b[38;5;241m=\u001b[39m \u001b[43mSubNewton\u001b[49m\u001b[43m(\u001b[49m\n\u001b[0;32m      2\u001b[0m \u001b[43m    \u001b[49m\u001b[43minitial_w\u001b[49m\u001b[38;5;241;43m=\u001b[39;49m\u001b[43mw0\u001b[49m\u001b[43m,\u001b[49m\n\u001b[0;32m      3\u001b[0m \u001b[43m    \u001b[49m\u001b[43mloss_class\u001b[49m\u001b[38;5;241;43m=\u001b[39;49m\u001b[43mg\u001b[49m\u001b[43m,\u001b[49m\n\u001b[0;32m      4\u001b[0m \u001b[43m    \u001b[49m\u001b[43mgrad_batch_size\u001b[49m\u001b[38;5;241;43m=\u001b[39;49m\u001b[43mN\u001b[49m\u001b[38;5;241;43m/\u001b[39;49m\u001b[38;5;241;43m/\u001b[39;49m\u001b[38;5;241;43m10\u001b[39;49m\u001b[43m,\u001b[49m\n\u001b[0;32m      5\u001b[0m \u001b[43m    \u001b[49m\u001b[43mgrad2_batch_size\u001b[49m\u001b[38;5;241;43m=\u001b[39;49m\u001b[43mN\u001b[49m\u001b[38;5;241;43m/\u001b[39;49m\u001b[38;5;241;43m/\u001b[39;49m\u001b[38;5;241;43m10\u001b[39;49m\u001b[43m,\u001b[49m\n\u001b[0;32m      6\u001b[0m \u001b[43m    \u001b[49m\u001b[43mmax_epochs\u001b[49m\u001b[38;5;241;43m=\u001b[39;49m\u001b[38;5;241;43m20\u001b[39;49m\u001b[43m,\u001b[49m\n\u001b[0;32m      7\u001b[0m \u001b[43m    \u001b[49m\u001b[43muse_line_search\u001b[49m\u001b[38;5;241;43m=\u001b[39;49m\u001b[38;5;28;43;01mTrue\u001b[39;49;00m\u001b[43m,\u001b[49m\n\u001b[0;32m      8\u001b[0m \u001b[43m)\u001b[49m\n",
      "File \u001b[1;32mc:\\Users\\huang\\Desktop\\Optimisation\\Project\\OML\\algorithms2.py:83\u001b[0m, in \u001b[0;36mSubNewton\u001b[1;34m(initial_w, loss_class, grad_batch_size, grad2_batch_size, max_epochs, ground_truth, tolerance, verbose, seed, with_remplacement, use_line_search, step_size, alpha_batch_L, **Armijo_kwargs)\u001b[0m\n\u001b[0;32m     80\u001b[0m batch_grad2 \u001b[38;5;241m=\u001b[39m loss_class\u001b[38;5;241m.\u001b[39mgrad2(w, grad2_idx)\n\u001b[0;32m     82\u001b[0m \u001b[38;5;66;03m# Direction\u001b[39;00m\n\u001b[1;32m---> 83\u001b[0m direction \u001b[38;5;241m=\u001b[39m \u001b[38;5;241m-\u001b[39m(\u001b[43mnp\u001b[49m\u001b[38;5;241;43m.\u001b[39;49m\u001b[43mlinalg\u001b[49m\u001b[38;5;241;43m.\u001b[39;49m\u001b[43minv\u001b[49m\u001b[43m(\u001b[49m\u001b[43mbatch_grad2\u001b[49m\u001b[43m)\u001b[49m \u001b[38;5;241m@\u001b[39m batch_grad)\n\u001b[0;32m     85\u001b[0m \u001b[38;5;66;03m# Computing the batch loss (used in line search to avoid redundant recomputation)\u001b[39;00m\n\u001b[0;32m     86\u001b[0m batch_loss \u001b[38;5;241m=\u001b[39m loss_class(w, grad_idx)\n",
      "File \u001b[1;32mc:\\Users\\huang\\Desktop\\Optimisation\\Project\\OML\\venv\\Lib\\site-packages\\numpy\\linalg\\linalg.py:561\u001b[0m, in \u001b[0;36minv\u001b[1;34m(a)\u001b[0m\n\u001b[0;32m    559\u001b[0m signature \u001b[38;5;241m=\u001b[39m \u001b[38;5;124m'\u001b[39m\u001b[38;5;124mD->D\u001b[39m\u001b[38;5;124m'\u001b[39m \u001b[38;5;28;01mif\u001b[39;00m isComplexType(t) \u001b[38;5;28;01melse\u001b[39;00m \u001b[38;5;124m'\u001b[39m\u001b[38;5;124md->d\u001b[39m\u001b[38;5;124m'\u001b[39m\n\u001b[0;32m    560\u001b[0m extobj \u001b[38;5;241m=\u001b[39m get_linalg_error_extobj(_raise_linalgerror_singular)\n\u001b[1;32m--> 561\u001b[0m ainv \u001b[38;5;241m=\u001b[39m \u001b[43m_umath_linalg\u001b[49m\u001b[38;5;241;43m.\u001b[39;49m\u001b[43minv\u001b[49m\u001b[43m(\u001b[49m\u001b[43ma\u001b[49m\u001b[43m,\u001b[49m\u001b[43m \u001b[49m\u001b[43msignature\u001b[49m\u001b[38;5;241;43m=\u001b[39;49m\u001b[43msignature\u001b[49m\u001b[43m,\u001b[49m\u001b[43m \u001b[49m\u001b[43mextobj\u001b[49m\u001b[38;5;241;43m=\u001b[39;49m\u001b[43mextobj\u001b[49m\u001b[43m)\u001b[49m\n\u001b[0;32m    562\u001b[0m \u001b[38;5;28;01mreturn\u001b[39;00m wrap(ainv\u001b[38;5;241m.\u001b[39mastype(result_t, copy\u001b[38;5;241m=\u001b[39m\u001b[38;5;28;01mFalse\u001b[39;00m))\n",
      "File \u001b[1;32mc:\\Users\\huang\\Desktop\\Optimisation\\Project\\OML\\venv\\Lib\\site-packages\\numpy\\linalg\\linalg.py:112\u001b[0m, in \u001b[0;36m_raise_linalgerror_singular\u001b[1;34m(err, flag)\u001b[0m\n\u001b[0;32m    111\u001b[0m \u001b[38;5;28;01mdef\u001b[39;00m \u001b[38;5;21m_raise_linalgerror_singular\u001b[39m(err, flag):\n\u001b[1;32m--> 112\u001b[0m     \u001b[38;5;28;01mraise\u001b[39;00m LinAlgError(\u001b[38;5;124m\"\u001b[39m\u001b[38;5;124mSingular matrix\u001b[39m\u001b[38;5;124m\"\u001b[39m)\n",
      "\u001b[1;31mLinAlgError\u001b[0m: Singular matrix"
     ]
    }
   ],
   "source": [
    "w, loss_logs, norm_logs = SubNewton(\n",
    "    initial_w=w0,\n",
    "    loss_class=g,\n",
    "    grad_batch_size=N//10,\n",
    "    grad2_batch_size=N//10,\n",
    "    max_epochs=20,\n",
    "    use_line_search=True,\n",
    ")"
   ]
  },
  {
   "cell_type": "markdown",
   "metadata": {},
   "source": [
    "The Subsampling Newton method has a singular Hessian matrix for small batch sizes"
   ]
  },
  {
   "cell_type": "code",
   "execution_count": 36,
   "metadata": {},
   "outputs": [
    {
     "name": "stdout",
     "output_type": "stream",
     "text": [
      "Singular matrix\n",
      "Singular matrix\n",
      "Singular matrix\n",
      "Singular matrix\n",
      "Singular matrix\n",
      "Singular matrix\n",
      "Singular matrix\n",
      "Singular matrix\n",
      "Singular matrix\n",
      "Singular matrix\n"
     ]
    }
   ],
   "source": [
    "for batch_size in 2**np.arange(10):\n",
    "    batch_idx = np.random.choice(N, size=batch_size)\n",
    "    try :\n",
    "        np.linalg.inv(g.grad2(w0, batch_idx))\n",
    "    except:\n",
    "        print(\"Singular matrix\")"
   ]
  },
  {
   "cell_type": "markdown",
   "metadata": {},
   "source": [
    "However for batch_size = N (normal Newton), it is invertible"
   ]
  },
  {
   "cell_type": "code",
   "execution_count": 37,
   "metadata": {},
   "outputs": [],
   "source": [
    "try :\n",
    "    np.linalg.inv(g.grad2(w0, np.arange(N)))\n",
    "except:\n",
    "    print(\"Singular matrix\")"
   ]
  },
  {
   "cell_type": "markdown",
   "metadata": {},
   "source": [
    "Let's try with grad2_batch_size = N"
   ]
  },
  {
   "cell_type": "code",
   "execution_count": 38,
   "metadata": {},
   "outputs": [
    {
     "name": "stdout",
     "output_type": "stream",
     "text": [
      " epoch   |   loss   |   norm  \n"
     ]
    },
    {
     "name": "stderr",
     "output_type": "stream",
     "text": [
      "       0 | 8.89e-01 | 1.68e-01:   0%|          | 0/1 [00:00<?, ?it/s]C:\\Users\\huang\\AppData\\Local\\Temp\\ipykernel_63572\\1868702566.py:30: RuntimeWarning: overflow encountered in exp\n",
      "  return ( self.y[i] - (1 / (1 + np.exp(-self.X[i].dot(w)))) )**2\n",
      "       0 | 8.89e-01 | 1.68e-01: 100%|██████████| 1/1 [00:01<00:00,  1.19s/it]"
     ]
    },
    {
     "name": "stdout",
     "output_type": "stream",
     "text": [
      "alpha too low using 1\n"
     ]
    },
    {
     "name": "stderr",
     "output_type": "stream",
     "text": [
      "\n",
      "C:\\Users\\huang\\AppData\\Local\\Temp\\ipykernel_63572\\1868702566.py:48: RuntimeWarning: overflow encountered in exp\n",
      "  exp_xiw = np.exp(self.X[i].dot(w))\n",
      "C:\\Users\\huang\\AppData\\Local\\Temp\\ipykernel_63572\\1868702566.py:49: RuntimeWarning: invalid value encountered in multiply\n",
      "  return (-2 * exp_xiw * (exp_xiw * (self.y[i]-1) + self.y[i]) * self.X[i]) / (1 + exp_xiw)**3\n",
      "C:\\Users\\huang\\AppData\\Local\\Temp\\ipykernel_63572\\1868702566.py:49: RuntimeWarning: invalid value encountered in divide\n",
      "  return (-2 * exp_xiw * (exp_xiw * (self.y[i]-1) + self.y[i]) * self.X[i]) / (1 + exp_xiw)**3\n",
      "C:\\Users\\huang\\AppData\\Local\\Temp\\ipykernel_63572\\1868702566.py:49: RuntimeWarning: invalid value encountered in scalar multiply\n",
      "  return (-2 * exp_xiw * (exp_xiw * (self.y[i]-1) + self.y[i]) * self.X[i]) / (1 + exp_xiw)**3\n"
     ]
    },
    {
     "ename": "ValueError",
     "evalue": "array must not contain infs or NaNs",
     "output_type": "error",
     "traceback": [
      "\u001b[1;31m---------------------------------------------------------------------------\u001b[0m",
      "\u001b[1;31mValueError\u001b[0m                                Traceback (most recent call last)",
      "Cell \u001b[1;32mIn[38], line 1\u001b[0m\n\u001b[1;32m----> 1\u001b[0m w, loss_logs, norm_logs \u001b[38;5;241m=\u001b[39m \u001b[43mSubNewton\u001b[49m\u001b[43m(\u001b[49m\n\u001b[0;32m      2\u001b[0m \u001b[43m    \u001b[49m\u001b[43minitial_w\u001b[49m\u001b[38;5;241;43m=\u001b[39;49m\u001b[43mw0\u001b[49m\u001b[43m,\u001b[49m\n\u001b[0;32m      3\u001b[0m \u001b[43m    \u001b[49m\u001b[43mloss_class\u001b[49m\u001b[38;5;241;43m=\u001b[39;49m\u001b[43mg\u001b[49m\u001b[43m,\u001b[49m\n\u001b[0;32m      4\u001b[0m \u001b[43m    \u001b[49m\u001b[43mgrad_batch_size\u001b[49m\u001b[38;5;241;43m=\u001b[39;49m\u001b[43mN\u001b[49m\u001b[43m,\u001b[49m\n\u001b[0;32m      5\u001b[0m \u001b[43m    \u001b[49m\u001b[43mgrad2_batch_size\u001b[49m\u001b[38;5;241;43m=\u001b[39;49m\u001b[43mN\u001b[49m\u001b[43m,\u001b[49m\n\u001b[0;32m      6\u001b[0m \u001b[43m    \u001b[49m\u001b[43mmax_epochs\u001b[49m\u001b[38;5;241;43m=\u001b[39;49m\u001b[38;5;241;43m50\u001b[39;49m\u001b[43m,\u001b[49m\n\u001b[0;32m      7\u001b[0m \u001b[43m    \u001b[49m\u001b[43mverbose\u001b[49m\u001b[38;5;241;43m=\u001b[39;49m\u001b[38;5;28;43;01mTrue\u001b[39;49;00m\u001b[43m,\u001b[49m\n\u001b[0;32m      8\u001b[0m \u001b[43m    \u001b[49m\u001b[43muse_line_search\u001b[49m\u001b[38;5;241;43m=\u001b[39;49m\u001b[38;5;28;43;01mTrue\u001b[39;49;00m\n\u001b[0;32m      9\u001b[0m \u001b[43m)\u001b[49m\n",
      "File \u001b[1;32mc:\\Users\\huang\\Desktop\\Optimisation\\Project\\OML\\algorithms2.py:116\u001b[0m, in \u001b[0;36mSubNewton\u001b[1;34m(initial_w, loss_class, grad_batch_size, grad2_batch_size, max_epochs, ground_truth, tolerance, verbose, seed, with_remplacement, use_line_search, step_size, alpha_batch_L, **Armijo_kwargs)\u001b[0m\n\u001b[0;32m    114\u001b[0m     norm_logs\u001b[38;5;241m.\u001b[39mappend(norm(w\u001b[38;5;241m-\u001b[39mground_truth, \u001b[38;5;241m2\u001b[39m))\n\u001b[0;32m    115\u001b[0m \u001b[38;5;28;01melse\u001b[39;00m :\n\u001b[1;32m--> 116\u001b[0m     norm_logs\u001b[38;5;241m.\u001b[39mappend(\u001b[43mnorm\u001b[49m\u001b[43m(\u001b[49m\u001b[43mloss_class\u001b[49m\u001b[38;5;241;43m.\u001b[39;49m\u001b[43mgrad\u001b[49m\u001b[43m(\u001b[49m\u001b[43mw\u001b[49m\u001b[43m,\u001b[49m\u001b[43m \u001b[49m\u001b[43mnp\u001b[49m\u001b[38;5;241;43m.\u001b[39;49m\u001b[43marange\u001b[49m\u001b[43m(\u001b[49m\u001b[43mN\u001b[49m\u001b[43m)\u001b[49m\u001b[43m)\u001b[49m\u001b[43m,\u001b[49m\u001b[38;5;241;43m2\u001b[39;49m\u001b[43m)\u001b[49m)\n\u001b[0;32m    117\u001b[0m loss_logs\u001b[38;5;241m.\u001b[39mappend(loss_class(w, np\u001b[38;5;241m.\u001b[39marange(N)))\n\u001b[0;32m    118\u001b[0m epoch \u001b[38;5;241m+\u001b[39m\u001b[38;5;241m=\u001b[39m \u001b[38;5;241m1\u001b[39m\n",
      "File \u001b[1;32mc:\\Users\\huang\\Desktop\\Optimisation\\Project\\OML\\venv\\Lib\\site-packages\\scipy\\linalg\\_misc.py:146\u001b[0m, in \u001b[0;36mnorm\u001b[1;34m(a, ord, axis, keepdims, check_finite)\u001b[0m\n\u001b[0;32m    144\u001b[0m \u001b[38;5;66;03m# Differs from numpy only in non-finite handling and the use of blas.\u001b[39;00m\n\u001b[0;32m    145\u001b[0m \u001b[38;5;28;01mif\u001b[39;00m check_finite:\n\u001b[1;32m--> 146\u001b[0m     a \u001b[38;5;241m=\u001b[39m \u001b[43mnp\u001b[49m\u001b[38;5;241;43m.\u001b[39;49m\u001b[43masarray_chkfinite\u001b[49m\u001b[43m(\u001b[49m\u001b[43ma\u001b[49m\u001b[43m)\u001b[49m\n\u001b[0;32m    147\u001b[0m \u001b[38;5;28;01melse\u001b[39;00m:\n\u001b[0;32m    148\u001b[0m     a \u001b[38;5;241m=\u001b[39m np\u001b[38;5;241m.\u001b[39masarray(a)\n",
      "File \u001b[1;32mc:\\Users\\huang\\Desktop\\Optimisation\\Project\\OML\\venv\\Lib\\site-packages\\numpy\\lib\\function_base.py:630\u001b[0m, in \u001b[0;36masarray_chkfinite\u001b[1;34m(a, dtype, order)\u001b[0m\n\u001b[0;32m    628\u001b[0m a \u001b[38;5;241m=\u001b[39m asarray(a, dtype\u001b[38;5;241m=\u001b[39mdtype, order\u001b[38;5;241m=\u001b[39morder)\n\u001b[0;32m    629\u001b[0m \u001b[38;5;28;01mif\u001b[39;00m a\u001b[38;5;241m.\u001b[39mdtype\u001b[38;5;241m.\u001b[39mchar \u001b[38;5;129;01min\u001b[39;00m typecodes[\u001b[38;5;124m'\u001b[39m\u001b[38;5;124mAllFloat\u001b[39m\u001b[38;5;124m'\u001b[39m] \u001b[38;5;129;01mand\u001b[39;00m \u001b[38;5;129;01mnot\u001b[39;00m np\u001b[38;5;241m.\u001b[39misfinite(a)\u001b[38;5;241m.\u001b[39mall():\n\u001b[1;32m--> 630\u001b[0m     \u001b[38;5;28;01mraise\u001b[39;00m \u001b[38;5;167;01mValueError\u001b[39;00m(\n\u001b[0;32m    631\u001b[0m         \u001b[38;5;124m\"\u001b[39m\u001b[38;5;124marray must not contain infs or NaNs\u001b[39m\u001b[38;5;124m\"\u001b[39m)\n\u001b[0;32m    632\u001b[0m \u001b[38;5;28;01mreturn\u001b[39;00m a\n",
      "\u001b[1;31mValueError\u001b[0m: array must not contain infs or NaNs"
     ]
    }
   ],
   "source": [
    "w, loss_logs, norm_logs = SubNewton(\n",
    "    initial_w=w0,\n",
    "    loss_class=g,\n",
    "    grad_batch_size=N,\n",
    "    grad2_batch_size=N,\n",
    "    max_epochs=50,\n",
    "    verbose=True,\n",
    "    use_line_search=True\n",
    ")"
   ]
  },
  {
   "cell_type": "markdown",
   "metadata": {},
   "source": [
    "Even with a full Hessian, the algorithm is still very unstable (infs or NaNs), displaying the local property of this method on non-convex problems."
   ]
  },
  {
   "cell_type": "markdown",
   "metadata": {},
   "source": [
    "**Let's try again with a normalized X train :**"
   ]
  },
  {
   "cell_type": "code",
   "execution_count": 39,
   "metadata": {},
   "outputs": [],
   "source": [
    "g = Loss(\n",
    "    X=scaled_X_train,\n",
    "    y=y_train,\n",
    "    lbda=1/np.sqrt(N),\n",
    "    regul=\"l1\"\n",
    ")"
   ]
  },
  {
   "cell_type": "code",
   "execution_count": 40,
   "metadata": {},
   "outputs": [
    {
     "name": "stdout",
     "output_type": "stream",
     "text": [
      "Initial loss : 0.9954324732113168\n"
     ]
    }
   ],
   "source": [
    "np.random.seed(5)\n",
    "w0 = np.random.randn(d)\n",
    "print(\"Initial loss :\",g(w0, np.arange(N)))"
   ]
  },
  {
   "cell_type": "code",
   "execution_count": 41,
   "metadata": {},
   "outputs": [
    {
     "name": "stdout",
     "output_type": "stream",
     "text": [
      " epoch   |   loss   |   norm  \n"
     ]
    },
    {
     "name": "stderr",
     "output_type": "stream",
     "text": [
      "       0 | 9.95e-01 | 1.49e-01:   0%|          | 0/1 [00:00<?, ?it/s]C:\\Users\\huang\\AppData\\Local\\Temp\\ipykernel_63572\\1868702566.py:30: RuntimeWarning: overflow encountered in exp\n",
      "  return ( self.y[i] - (1 / (1 + np.exp(-self.X[i].dot(w)))) )**2\n",
      "       0 | 9.95e-01 | 1.49e-01: 100%|██████████| 1/1 [00:03<00:00,  3.01s/it]"
     ]
    },
    {
     "name": "stdout",
     "output_type": "stream",
     "text": [
      "alpha too low using 0.01\n"
     ]
    },
    {
     "name": "stderr",
     "output_type": "stream",
     "text": [
      "\n",
      "C:\\Users\\huang\\AppData\\Local\\Temp\\ipykernel_63572\\1868702566.py:48: RuntimeWarning: overflow encountered in exp\n",
      "  exp_xiw = np.exp(self.X[i].dot(w))\n",
      "C:\\Users\\huang\\AppData\\Local\\Temp\\ipykernel_63572\\1868702566.py:49: RuntimeWarning: invalid value encountered in scalar multiply\n",
      "  return (-2 * exp_xiw * (exp_xiw * (self.y[i]-1) + self.y[i]) * self.X[i]) / (1 + exp_xiw)**3\n",
      "C:\\Users\\huang\\AppData\\Local\\Temp\\ipykernel_63572\\1868702566.py:49: RuntimeWarning: invalid value encountered in divide\n",
      "  return (-2 * exp_xiw * (exp_xiw * (self.y[i]-1) + self.y[i]) * self.X[i]) / (1 + exp_xiw)**3\n"
     ]
    },
    {
     "ename": "ValueError",
     "evalue": "array must not contain infs or NaNs",
     "output_type": "error",
     "traceback": [
      "\u001b[1;31m---------------------------------------------------------------------------\u001b[0m",
      "\u001b[1;31mValueError\u001b[0m                                Traceback (most recent call last)",
      "Cell \u001b[1;32mIn[41], line 1\u001b[0m\n\u001b[1;32m----> 1\u001b[0m w, loss_logs, norm_logs \u001b[38;5;241m=\u001b[39m \u001b[43mSubNewton\u001b[49m\u001b[43m(\u001b[49m\n\u001b[0;32m      2\u001b[0m \u001b[43m    \u001b[49m\u001b[43minitial_w\u001b[49m\u001b[38;5;241;43m=\u001b[39;49m\u001b[43mw0\u001b[49m\u001b[43m,\u001b[49m\n\u001b[0;32m      3\u001b[0m \u001b[43m    \u001b[49m\u001b[43mloss_class\u001b[49m\u001b[38;5;241;43m=\u001b[39;49m\u001b[43mg\u001b[49m\u001b[43m,\u001b[49m\n\u001b[0;32m      4\u001b[0m \u001b[43m    \u001b[49m\u001b[43mgrad_batch_size\u001b[49m\u001b[38;5;241;43m=\u001b[39;49m\u001b[43mN\u001b[49m\u001b[43m,\u001b[49m\n\u001b[0;32m      5\u001b[0m \u001b[43m    \u001b[49m\u001b[43mgrad2_batch_size\u001b[49m\u001b[38;5;241;43m=\u001b[39;49m\u001b[43mN\u001b[49m\u001b[43m,\u001b[49m\n\u001b[0;32m      6\u001b[0m \u001b[43m    \u001b[49m\u001b[43mmax_epochs\u001b[49m\u001b[38;5;241;43m=\u001b[39;49m\u001b[38;5;241;43m50\u001b[39;49m\u001b[43m,\u001b[49m\n\u001b[0;32m      7\u001b[0m \u001b[43m    \u001b[49m\u001b[43mverbose\u001b[49m\u001b[38;5;241;43m=\u001b[39;49m\u001b[38;5;28;43;01mTrue\u001b[39;49;00m\u001b[43m,\u001b[49m\n\u001b[0;32m      8\u001b[0m \u001b[43m    \u001b[49m\u001b[43muse_line_search\u001b[49m\u001b[38;5;241;43m=\u001b[39;49m\u001b[38;5;28;43;01mTrue\u001b[39;49;00m\u001b[43m,\u001b[49m\n\u001b[0;32m      9\u001b[0m \u001b[43m    \u001b[49m\u001b[43minitial_alpha\u001b[49m\u001b[38;5;241;43m=\u001b[39;49m\u001b[38;5;241;43m0.01\u001b[39;49m\u001b[43m,\u001b[49m\n\u001b[0;32m     10\u001b[0m \u001b[43m    \u001b[49m\u001b[43mtheta\u001b[49m\u001b[38;5;241;43m=\u001b[39;49m\u001b[38;5;241;43m0.9\u001b[39;49m\n\u001b[0;32m     11\u001b[0m \u001b[43m)\u001b[49m\n",
      "File \u001b[1;32mc:\\Users\\huang\\Desktop\\Optimisation\\Project\\OML\\algorithms2.py:116\u001b[0m, in \u001b[0;36mSubNewton\u001b[1;34m(initial_w, loss_class, grad_batch_size, grad2_batch_size, max_epochs, ground_truth, tolerance, verbose, seed, with_remplacement, use_line_search, step_size, alpha_batch_L, **Armijo_kwargs)\u001b[0m\n\u001b[0;32m    114\u001b[0m     norm_logs\u001b[38;5;241m.\u001b[39mappend(norm(w\u001b[38;5;241m-\u001b[39mground_truth, \u001b[38;5;241m2\u001b[39m))\n\u001b[0;32m    115\u001b[0m \u001b[38;5;28;01melse\u001b[39;00m :\n\u001b[1;32m--> 116\u001b[0m     norm_logs\u001b[38;5;241m.\u001b[39mappend(\u001b[43mnorm\u001b[49m\u001b[43m(\u001b[49m\u001b[43mloss_class\u001b[49m\u001b[38;5;241;43m.\u001b[39;49m\u001b[43mgrad\u001b[49m\u001b[43m(\u001b[49m\u001b[43mw\u001b[49m\u001b[43m,\u001b[49m\u001b[43m \u001b[49m\u001b[43mnp\u001b[49m\u001b[38;5;241;43m.\u001b[39;49m\u001b[43marange\u001b[49m\u001b[43m(\u001b[49m\u001b[43mN\u001b[49m\u001b[43m)\u001b[49m\u001b[43m)\u001b[49m\u001b[43m,\u001b[49m\u001b[38;5;241;43m2\u001b[39;49m\u001b[43m)\u001b[49m)\n\u001b[0;32m    117\u001b[0m loss_logs\u001b[38;5;241m.\u001b[39mappend(loss_class(w, np\u001b[38;5;241m.\u001b[39marange(N)))\n\u001b[0;32m    118\u001b[0m epoch \u001b[38;5;241m+\u001b[39m\u001b[38;5;241m=\u001b[39m \u001b[38;5;241m1\u001b[39m\n",
      "File \u001b[1;32mc:\\Users\\huang\\Desktop\\Optimisation\\Project\\OML\\venv\\Lib\\site-packages\\scipy\\linalg\\_misc.py:146\u001b[0m, in \u001b[0;36mnorm\u001b[1;34m(a, ord, axis, keepdims, check_finite)\u001b[0m\n\u001b[0;32m    144\u001b[0m \u001b[38;5;66;03m# Differs from numpy only in non-finite handling and the use of blas.\u001b[39;00m\n\u001b[0;32m    145\u001b[0m \u001b[38;5;28;01mif\u001b[39;00m check_finite:\n\u001b[1;32m--> 146\u001b[0m     a \u001b[38;5;241m=\u001b[39m \u001b[43mnp\u001b[49m\u001b[38;5;241;43m.\u001b[39;49m\u001b[43masarray_chkfinite\u001b[49m\u001b[43m(\u001b[49m\u001b[43ma\u001b[49m\u001b[43m)\u001b[49m\n\u001b[0;32m    147\u001b[0m \u001b[38;5;28;01melse\u001b[39;00m:\n\u001b[0;32m    148\u001b[0m     a \u001b[38;5;241m=\u001b[39m np\u001b[38;5;241m.\u001b[39masarray(a)\n",
      "File \u001b[1;32mc:\\Users\\huang\\Desktop\\Optimisation\\Project\\OML\\venv\\Lib\\site-packages\\numpy\\lib\\function_base.py:630\u001b[0m, in \u001b[0;36masarray_chkfinite\u001b[1;34m(a, dtype, order)\u001b[0m\n\u001b[0;32m    628\u001b[0m a \u001b[38;5;241m=\u001b[39m asarray(a, dtype\u001b[38;5;241m=\u001b[39mdtype, order\u001b[38;5;241m=\u001b[39morder)\n\u001b[0;32m    629\u001b[0m \u001b[38;5;28;01mif\u001b[39;00m a\u001b[38;5;241m.\u001b[39mdtype\u001b[38;5;241m.\u001b[39mchar \u001b[38;5;129;01min\u001b[39;00m typecodes[\u001b[38;5;124m'\u001b[39m\u001b[38;5;124mAllFloat\u001b[39m\u001b[38;5;124m'\u001b[39m] \u001b[38;5;129;01mand\u001b[39;00m \u001b[38;5;129;01mnot\u001b[39;00m np\u001b[38;5;241m.\u001b[39misfinite(a)\u001b[38;5;241m.\u001b[39mall():\n\u001b[1;32m--> 630\u001b[0m     \u001b[38;5;28;01mraise\u001b[39;00m \u001b[38;5;167;01mValueError\u001b[39;00m(\n\u001b[0;32m    631\u001b[0m         \u001b[38;5;124m\"\u001b[39m\u001b[38;5;124marray must not contain infs or NaNs\u001b[39m\u001b[38;5;124m\"\u001b[39m)\n\u001b[0;32m    632\u001b[0m \u001b[38;5;28;01mreturn\u001b[39;00m a\n",
      "\u001b[1;31mValueError\u001b[0m: array must not contain infs or NaNs"
     ]
    }
   ],
   "source": [
    "w, loss_logs, norm_logs = SubNewton(\n",
    "    initial_w=w0,\n",
    "    loss_class=g,\n",
    "    grad_batch_size=N,\n",
    "    grad2_batch_size=N,\n",
    "    max_epochs=50,\n",
    "    verbose=True,\n",
    "    use_line_search=True,\n",
    "    initial_alpha=0.01,\n",
    "    theta=0.9\n",
    ")"
   ]
  },
  {
   "cell_type": "markdown",
   "metadata": {},
   "source": [
    "Not much better..."
   ]
  },
  {
   "cell_type": "markdown",
   "metadata": {},
   "source": [
    "We could redefine the method with a safety layer when the hessian is not invertible, by replacing the hessian by the identity matrix. <br>\n",
    "But that wouldn't solve the issue of having inf and NaNs, and that would be equivalent to batch stochastic gradient descent anyway. <br>\n",
    "Let's try to use l2 regularization (it might help making the Hessian invertible):"
   ]
  },
  {
   "cell_type": "code",
   "execution_count": 42,
   "metadata": {},
   "outputs": [],
   "source": [
    "g = Loss(\n",
    "    X=scaled_X_train,\n",
    "    y=y_train,\n",
    "    lbda=2./np.sqrt(N),\n",
    "    regul='l2'\n",
    ")"
   ]
  },
  {
   "cell_type": "code",
   "execution_count": 43,
   "metadata": {},
   "outputs": [
    {
     "name": "stdout",
     "output_type": "stream",
     "text": [
      "Initial loss : 1.6653530780573407\n"
     ]
    }
   ],
   "source": [
    "np.random.seed(5)\n",
    "w0 = np.random.randn(d)\n",
    "print(\"Initial loss :\",g(w0, np.arange(N)))"
   ]
  },
  {
   "cell_type": "markdown",
   "metadata": {},
   "source": [
    "Notice that the initial loss was 1.3 without the regularization, meaning with regularization half of the loss is due to the penalization"
   ]
  },
  {
   "cell_type": "code",
   "execution_count": 56,
   "metadata": {},
   "outputs": [
    {
     "name": "stdout",
     "output_type": "stream",
     "text": [
      " epoch   |   loss   |   norm  \n"
     ]
    },
    {
     "name": "stderr",
     "output_type": "stream",
     "text": [
      "       0 | 9.95e-01 | 1.49e-01:   0%|          | 0/1 [00:00<?, ?it/s]C:\\Users\\huang\\AppData\\Local\\Temp\\ipykernel_63572\\1868702566.py:30: RuntimeWarning: overflow encountered in exp\n",
      "  return ( self.y[i] - (1 / (1 + np.exp(-self.X[i].dot(w)))) )**2\n",
      "       0 | 9.95e-01 | 1.49e-01: 100%|██████████| 1/1 [00:03<00:00,  3.24s/it]"
     ]
    },
    {
     "name": "stdout",
     "output_type": "stream",
     "text": [
      "alpha too low using 0.5\n"
     ]
    },
    {
     "name": "stderr",
     "output_type": "stream",
     "text": [
      "\n",
      "C:\\Users\\huang\\AppData\\Local\\Temp\\ipykernel_63572\\1868702566.py:48: RuntimeWarning: overflow encountered in exp\n",
      "  exp_xiw = np.exp(self.X[i].dot(w))\n",
      "C:\\Users\\huang\\AppData\\Local\\Temp\\ipykernel_63572\\1868702566.py:49: RuntimeWarning: invalid value encountered in scalar multiply\n",
      "  return (-2 * exp_xiw * (exp_xiw * (self.y[i]-1) + self.y[i]) * self.X[i]) / (1 + exp_xiw)**3\n",
      "C:\\Users\\huang\\AppData\\Local\\Temp\\ipykernel_63572\\1868702566.py:49: RuntimeWarning: invalid value encountered in divide\n",
      "  return (-2 * exp_xiw * (exp_xiw * (self.y[i]-1) + self.y[i]) * self.X[i]) / (1 + exp_xiw)**3\n"
     ]
    },
    {
     "ename": "ValueError",
     "evalue": "array must not contain infs or NaNs",
     "output_type": "error",
     "traceback": [
      "\u001b[1;31m---------------------------------------------------------------------------\u001b[0m",
      "\u001b[1;31mValueError\u001b[0m                                Traceback (most recent call last)",
      "Cell \u001b[1;32mIn[56], line 1\u001b[0m\n\u001b[1;32m----> 1\u001b[0m w, loss_logs, norm_logs \u001b[38;5;241m=\u001b[39m \u001b[43mSubNewton\u001b[49m\u001b[43m(\u001b[49m\n\u001b[0;32m      2\u001b[0m \u001b[43m    \u001b[49m\u001b[43minitial_w\u001b[49m\u001b[38;5;241;43m=\u001b[39;49m\u001b[43mw0\u001b[49m\u001b[43m,\u001b[49m\n\u001b[0;32m      3\u001b[0m \u001b[43m    \u001b[49m\u001b[43mloss_class\u001b[49m\u001b[38;5;241;43m=\u001b[39;49m\u001b[43mg\u001b[49m\u001b[43m,\u001b[49m\n\u001b[0;32m      4\u001b[0m \u001b[43m    \u001b[49m\u001b[43mgrad_batch_size\u001b[49m\u001b[38;5;241;43m=\u001b[39;49m\u001b[43mN\u001b[49m\u001b[43m,\u001b[49m\n\u001b[0;32m      5\u001b[0m \u001b[43m    \u001b[49m\u001b[43mgrad2_batch_size\u001b[49m\u001b[38;5;241;43m=\u001b[39;49m\u001b[43mN\u001b[49m\u001b[43m,\u001b[49m\n\u001b[0;32m      6\u001b[0m \u001b[43m    \u001b[49m\u001b[43mmax_epochs\u001b[49m\u001b[38;5;241;43m=\u001b[39;49m\u001b[38;5;241;43m100\u001b[39;49m\u001b[43m,\u001b[49m\n\u001b[0;32m      7\u001b[0m \u001b[43m    \u001b[49m\u001b[43muse_line_search\u001b[49m\u001b[38;5;241;43m=\u001b[39;49m\u001b[38;5;28;43;01mTrue\u001b[39;49;00m\u001b[43m,\u001b[49m\n\u001b[0;32m      8\u001b[0m \u001b[43m    \u001b[49m\u001b[43mseed\u001b[49m\u001b[38;5;241;43m=\u001b[39;49m\u001b[38;5;241;43m1\u001b[39;49m\u001b[43m,\u001b[49m\n\u001b[0;32m      9\u001b[0m \u001b[43m    \u001b[49m\u001b[43mtheta\u001b[49m\u001b[38;5;241;43m=\u001b[39;49m\u001b[38;5;241;43m0.9\u001b[39;49m\u001b[43m,\u001b[49m\n\u001b[0;32m     10\u001b[0m \u001b[43m    \u001b[49m\u001b[43minitial_alpha\u001b[49m\u001b[38;5;241;43m=\u001b[39;49m\u001b[38;5;241;43m0.5\u001b[39;49m\u001b[43m,\u001b[49m\n\u001b[0;32m     11\u001b[0m \u001b[43m)\u001b[49m\n",
      "File \u001b[1;32mc:\\Users\\huang\\Desktop\\Optimisation\\Project\\OML\\algorithms2.py:116\u001b[0m, in \u001b[0;36mSubNewton\u001b[1;34m(initial_w, loss_class, grad_batch_size, grad2_batch_size, max_epochs, ground_truth, tolerance, verbose, seed, with_remplacement, use_line_search, step_size, alpha_batch_L, **Armijo_kwargs)\u001b[0m\n\u001b[0;32m    114\u001b[0m     norm_logs\u001b[38;5;241m.\u001b[39mappend(norm(w\u001b[38;5;241m-\u001b[39mground_truth, \u001b[38;5;241m2\u001b[39m))\n\u001b[0;32m    115\u001b[0m \u001b[38;5;28;01melse\u001b[39;00m :\n\u001b[1;32m--> 116\u001b[0m     norm_logs\u001b[38;5;241m.\u001b[39mappend(\u001b[43mnorm\u001b[49m\u001b[43m(\u001b[49m\u001b[43mloss_class\u001b[49m\u001b[38;5;241;43m.\u001b[39;49m\u001b[43mgrad\u001b[49m\u001b[43m(\u001b[49m\u001b[43mw\u001b[49m\u001b[43m,\u001b[49m\u001b[43m \u001b[49m\u001b[43mnp\u001b[49m\u001b[38;5;241;43m.\u001b[39;49m\u001b[43marange\u001b[49m\u001b[43m(\u001b[49m\u001b[43mN\u001b[49m\u001b[43m)\u001b[49m\u001b[43m)\u001b[49m\u001b[43m,\u001b[49m\u001b[38;5;241;43m2\u001b[39;49m\u001b[43m)\u001b[49m)\n\u001b[0;32m    117\u001b[0m loss_logs\u001b[38;5;241m.\u001b[39mappend(loss_class(w, np\u001b[38;5;241m.\u001b[39marange(N)))\n\u001b[0;32m    118\u001b[0m epoch \u001b[38;5;241m+\u001b[39m\u001b[38;5;241m=\u001b[39m \u001b[38;5;241m1\u001b[39m\n",
      "File \u001b[1;32mc:\\Users\\huang\\Desktop\\Optimisation\\Project\\OML\\venv\\Lib\\site-packages\\scipy\\linalg\\_misc.py:146\u001b[0m, in \u001b[0;36mnorm\u001b[1;34m(a, ord, axis, keepdims, check_finite)\u001b[0m\n\u001b[0;32m    144\u001b[0m \u001b[38;5;66;03m# Differs from numpy only in non-finite handling and the use of blas.\u001b[39;00m\n\u001b[0;32m    145\u001b[0m \u001b[38;5;28;01mif\u001b[39;00m check_finite:\n\u001b[1;32m--> 146\u001b[0m     a \u001b[38;5;241m=\u001b[39m \u001b[43mnp\u001b[49m\u001b[38;5;241;43m.\u001b[39;49m\u001b[43masarray_chkfinite\u001b[49m\u001b[43m(\u001b[49m\u001b[43ma\u001b[49m\u001b[43m)\u001b[49m\n\u001b[0;32m    147\u001b[0m \u001b[38;5;28;01melse\u001b[39;00m:\n\u001b[0;32m    148\u001b[0m     a \u001b[38;5;241m=\u001b[39m np\u001b[38;5;241m.\u001b[39masarray(a)\n",
      "File \u001b[1;32mc:\\Users\\huang\\Desktop\\Optimisation\\Project\\OML\\venv\\Lib\\site-packages\\numpy\\lib\\function_base.py:630\u001b[0m, in \u001b[0;36masarray_chkfinite\u001b[1;34m(a, dtype, order)\u001b[0m\n\u001b[0;32m    628\u001b[0m a \u001b[38;5;241m=\u001b[39m asarray(a, dtype\u001b[38;5;241m=\u001b[39mdtype, order\u001b[38;5;241m=\u001b[39morder)\n\u001b[0;32m    629\u001b[0m \u001b[38;5;28;01mif\u001b[39;00m a\u001b[38;5;241m.\u001b[39mdtype\u001b[38;5;241m.\u001b[39mchar \u001b[38;5;129;01min\u001b[39;00m typecodes[\u001b[38;5;124m'\u001b[39m\u001b[38;5;124mAllFloat\u001b[39m\u001b[38;5;124m'\u001b[39m] \u001b[38;5;129;01mand\u001b[39;00m \u001b[38;5;129;01mnot\u001b[39;00m np\u001b[38;5;241m.\u001b[39misfinite(a)\u001b[38;5;241m.\u001b[39mall():\n\u001b[1;32m--> 630\u001b[0m     \u001b[38;5;28;01mraise\u001b[39;00m \u001b[38;5;167;01mValueError\u001b[39;00m(\n\u001b[0;32m    631\u001b[0m         \u001b[38;5;124m\"\u001b[39m\u001b[38;5;124marray must not contain infs or NaNs\u001b[39m\u001b[38;5;124m\"\u001b[39m)\n\u001b[0;32m    632\u001b[0m \u001b[38;5;28;01mreturn\u001b[39;00m a\n",
      "\u001b[1;31mValueError\u001b[0m: array must not contain infs or NaNs"
     ]
    }
   ],
   "source": [
    "w, loss_logs, norm_logs = SubNewton(\n",
    "    initial_w=w0,\n",
    "    loss_class=g,\n",
    "    grad_batch_size=N,\n",
    "    grad2_batch_size=N,\n",
    "    max_epochs=100,\n",
    "    use_line_search=True,\n",
    "    seed=1,\n",
    "    theta=0.9,\n",
    "    initial_alpha=0.5,\n",
    ")"
   ]
  },
  {
   "cell_type": "markdown",
   "metadata": {},
   "source": [
    "I'm giving up on the Newton method..."
   ]
  },
  {
   "cell_type": "code",
   "execution_count": 45,
   "metadata": {},
   "outputs": [],
   "source": [
    "g = Loss(\n",
    "    X=scaled_X_train,\n",
    "    y=y_train,\n",
    "    lbda=1/np.sqrt(N),\n",
    "    regul=\"l1\"\n",
    ")"
   ]
  },
  {
   "cell_type": "markdown",
   "metadata": {},
   "source": [
    "**Let's try Quasi-Newton BFGS**"
   ]
  },
  {
   "cell_type": "code",
   "execution_count": 64,
   "metadata": {},
   "outputs": [
    {
     "name": "stdout",
     "output_type": "stream",
     "text": [
      " epoch   |   loss   |   norm  \n"
     ]
    },
    {
     "name": "stderr",
     "output_type": "stream",
     "text": [
      "       0 | 9.95e-01 | 1.49e-01:   0%|          | 0/10 [00:00<?, ?it/s]"
     ]
    },
    {
     "name": "stderr",
     "output_type": "stream",
     "text": [
      "       0 | 9.95e-01 | 1.49e-01: 100%|██████████| 10/10 [00:00<00:00, 86.99it/s]\n",
      "       1 | 4.89e-01 | 7.28e-02: 100%|██████████| 10/10 [00:00<00:00, 97.57it/s]\n",
      "       2 | 2.88e-01 | 6.90e-02: 100%|██████████| 10/10 [00:00<00:00, 107.76it/s]\n",
      "       3 | 1.32e-01 | 5.79e-02: 100%|██████████| 10/10 [00:00<00:00, 97.00it/s]\n",
      "       4 | 8.16e-02 | 5.47e-02: 100%|██████████| 10/10 [00:00<00:00, 97.87it/s]\n",
      "       5 | 5.87e-02 | 5.06e-02: 100%|██████████| 10/10 [00:00<00:00, 98.24it/s]\n",
      "       6 | 5.18e-02 | 5.18e-02: 100%|██████████| 10/10 [00:00<00:00, 85.72it/s]\n",
      "       7 | 4.83e-02 | 5.05e-02: 100%|██████████| 10/10 [00:00<00:00, 95.52it/s]\n",
      "       8 | 4.43e-02 | 4.81e-02: 100%|██████████| 10/10 [00:00<00:00, 108.88it/s]\n",
      "       9 | 4.20e-02 | 4.89e-02: 100%|██████████| 10/10 [00:00<00:00, 96.71it/s]\n",
      "      10 | 3.98e-02 | 4.94e-02: 100%|██████████| 10/10 [00:00<00:00, 99.78it/s]\n",
      "      11 | 3.92e-02 | 4.71e-02: 100%|██████████| 10/10 [00:00<00:00, 100.67it/s]\n",
      "      12 | 3.92e-02 | 4.99e-02: 100%|██████████| 10/10 [00:00<00:00, 100.74it/s]\n",
      "      13 | 3.89e-02 | 4.54e-02: 100%|██████████| 10/10 [00:00<00:00, 106.42it/s]\n",
      "      14 | 3.87e-02 | 4.45e-02: 100%|██████████| 10/10 [00:00<00:00, 103.19it/s]\n",
      "      15 | 3.86e-02 | 4.59e-02: 100%|██████████| 10/10 [00:00<00:00, 93.01it/s]\n",
      "      16 | 3.84e-02 | 4.73e-02: 100%|██████████| 10/10 [00:00<00:00, 113.02it/s]\n",
      "      17 | 3.83e-02 | 5.01e-02: 100%|██████████| 10/10 [00:00<00:00, 96.77it/s]\n",
      "      18 | 3.81e-02 | 4.65e-02: 100%|██████████| 10/10 [00:00<00:00, 97.67it/s]\n",
      "      19 | 3.79e-02 | 4.85e-02: 100%|██████████| 10/10 [00:00<00:00, 99.36it/s]\n",
      "      20 | 3.78e-02 | 5.04e-02: 100%|██████████| 10/10 [00:00<00:00, 103.51it/s]\n",
      "      21 | 3.76e-02 | 4.66e-02: 100%|██████████| 10/10 [00:00<00:00, 96.69it/s]\n",
      "      22 | 3.75e-02 | 5.04e-02: 100%|██████████| 10/10 [00:00<00:00, 115.33it/s]\n",
      "      23 | 3.74e-02 | 4.73e-02: 100%|██████████| 10/10 [00:00<00:00, 113.57it/s]\n",
      "      24 | 3.72e-02 | 4.64e-02: 100%|██████████| 10/10 [00:00<00:00, 102.72it/s]\n",
      "      25 | 3.71e-02 | 4.63e-02: 100%|██████████| 10/10 [00:00<00:00, 93.93it/s]\n",
      "      26 | 3.69e-02 | 4.81e-02: 100%|██████████| 10/10 [00:00<00:00, 93.69it/s]\n",
      "      27 | 3.69e-02 | 4.77e-02: 100%|██████████| 10/10 [00:00<00:00, 100.09it/s]\n",
      "      28 | 3.69e-02 | 4.85e-02: 100%|██████████| 10/10 [00:00<00:00, 92.77it/s]\n",
      "      29 | 3.69e-02 | 4.76e-02: 100%|██████████| 10/10 [00:00<00:00, 106.41it/s]\n",
      "      30 | 3.69e-02 | 4.79e-02: 100%|██████████| 10/10 [00:00<00:00, 104.87it/s]\n",
      "      31 | 3.69e-02 | 4.88e-02: 100%|██████████| 10/10 [00:00<00:00, 102.47it/s]\n",
      "      32 | 3.69e-02 | 4.64e-02: 100%|██████████| 10/10 [00:00<00:00, 98.94it/s]\n",
      "      33 | 3.69e-02 | 4.87e-02: 100%|██████████| 10/10 [00:00<00:00, 95.25it/s]\n",
      "      34 | 3.68e-02 | 5.03e-02: 100%|██████████| 10/10 [00:00<00:00, 95.34it/s]\n",
      "      35 | 3.68e-02 | 4.93e-02: 100%|██████████| 10/10 [00:00<00:00, 103.78it/s]\n",
      "      36 | 3.68e-02 | 4.89e-02: 100%|██████████| 10/10 [00:00<00:00, 107.50it/s]\n",
      "      37 | 3.68e-02 | 4.92e-02: 100%|██████████| 10/10 [00:00<00:00, 93.33it/s]\n",
      "      38 | 3.68e-02 | 5.01e-02: 100%|██████████| 10/10 [00:00<00:00, 108.77it/s]\n",
      "      39 | 3.68e-02 | 4.97e-02: 100%|██████████| 10/10 [00:00<00:00, 101.92it/s]\n",
      "      40 | 3.68e-02 | 5.03e-02: 100%|██████████| 10/10 [00:00<00:00, 101.78it/s]\n",
      "      41 | 3.68e-02 | 5.11e-02: 100%|██████████| 10/10 [00:00<00:00, 104.43it/s]\n",
      "      42 | 3.68e-02 | 4.66e-02: 100%|██████████| 10/10 [00:00<00:00, 93.88it/s]\n",
      "      43 | 3.68e-02 | 5.06e-02: 100%|██████████| 10/10 [00:00<00:00, 105.44it/s]\n",
      "      44 | 3.68e-02 | 4.97e-02: 100%|██████████| 10/10 [00:00<00:00, 107.85it/s]\n",
      "      45 | 3.68e-02 | 4.70e-02: 100%|██████████| 10/10 [00:00<00:00, 84.55it/s]\n",
      "      46 | 3.68e-02 | 4.75e-02: 100%|██████████| 10/10 [00:00<00:00, 95.16it/s]\n",
      "      47 | 3.68e-02 | 5.12e-02: 100%|██████████| 10/10 [00:00<00:00, 104.42it/s]\n",
      "      48 | 3.68e-02 | 4.79e-02: 100%|██████████| 10/10 [00:00<00:00, 108.83it/s]\n",
      "      49 | 3.68e-02 | 4.88e-02: 100%|██████████| 10/10 [00:00<00:00, 107.84it/s]\n",
      "      50 | 3.68e-02 | 4.69e-02: 100%|██████████| 10/10 [00:00<00:00, 111.25it/s]\n",
      "      51 | 3.68e-02 | 4.76e-02: 100%|██████████| 10/10 [00:00<00:00, 113.19it/s]\n",
      "      52 | 3.68e-02 | 5.27e-02: 100%|██████████| 10/10 [00:00<00:00, 91.74it/s]\n",
      "      53 | 3.68e-02 | 5.14e-02: 100%|██████████| 10/10 [00:00<00:00, 111.04it/s]\n",
      "      54 | 3.68e-02 | 4.92e-02: 100%|██████████| 10/10 [00:00<00:00, 104.87it/s]\n",
      "      55 | 3.68e-02 | 4.85e-02: 100%|██████████| 10/10 [00:00<00:00, 115.85it/s]\n",
      "      56 | 3.68e-02 | 4.80e-02: 100%|██████████| 10/10 [00:00<00:00, 129.13it/s]\n",
      "      57 | 3.68e-02 | 4.66e-02: 100%|██████████| 10/10 [00:00<00:00, 123.53it/s]\n",
      "      58 | 3.68e-02 | 4.68e-02: 100%|██████████| 10/10 [00:00<00:00, 136.59it/s]\n",
      "      59 | 3.68e-02 | 4.43e-02: 100%|██████████| 10/10 [00:00<00:00, 140.97it/s]\n",
      "      60 | 3.68e-02 | 4.86e-02: 100%|██████████| 10/10 [00:00<00:00, 146.00it/s]\n",
      "      61 | 3.68e-02 | 4.85e-02: 100%|██████████| 10/10 [00:00<00:00, 147.48it/s]\n",
      "      62 | 3.68e-02 | 4.88e-02: 100%|██████████| 10/10 [00:00<00:00, 133.04it/s]\n",
      "      63 | 3.68e-02 | 4.63e-02: 100%|██████████| 10/10 [00:00<00:00, 133.08it/s]\n",
      "      64 | 3.68e-02 | 5.15e-02: 100%|██████████| 10/10 [00:00<00:00, 149.99it/s]\n",
      "      65 | 3.68e-02 | 4.93e-02: 100%|██████████| 10/10 [00:00<00:00, 123.67it/s]\n",
      "      66 | 3.68e-02 | 4.46e-02: 100%|██████████| 10/10 [00:00<00:00, 149.01it/s]\n",
      "      67 | 3.68e-02 | 5.01e-02: 100%|██████████| 10/10 [00:00<00:00, 148.28it/s]\n",
      "      68 | 3.68e-02 | 4.96e-02: 100%|██████████| 10/10 [00:00<00:00, 145.53it/s]\n",
      "      69 | 3.68e-02 | 4.60e-02: 100%|██████████| 10/10 [00:00<00:00, 137.30it/s]\n",
      "      70 | 3.68e-02 | 5.06e-02: 100%|██████████| 10/10 [00:00<00:00, 126.38it/s]\n",
      "      71 | 3.68e-02 | 4.83e-02: 100%|██████████| 10/10 [00:00<00:00, 124.75it/s]\n",
      "      72 | 3.68e-02 | 4.92e-02: 100%|██████████| 10/10 [00:00<00:00, 145.90it/s]\n",
      "      73 | 3.68e-02 | 4.82e-02: 100%|██████████| 10/10 [00:00<00:00, 131.67it/s]\n",
      "      74 | 3.68e-02 | 5.08e-02: 100%|██████████| 10/10 [00:00<00:00, 127.21it/s]\n",
      "      75 | 3.68e-02 | 4.84e-02: 100%|██████████| 10/10 [00:00<00:00, 131.65it/s]\n",
      "      76 | 3.68e-02 | 4.90e-02: 100%|██████████| 10/10 [00:00<00:00, 152.20it/s]\n",
      "      77 | 3.68e-02 | 4.90e-02: 100%|██████████| 10/10 [00:00<00:00, 156.65it/s]\n",
      "      78 | 3.68e-02 | 4.63e-02: 100%|██████████| 10/10 [00:00<00:00, 146.90it/s]\n",
      "      79 | 3.68e-02 | 4.59e-02: 100%|██████████| 10/10 [00:00<00:00, 145.22it/s]\n",
      "      80 | 3.68e-02 | 4.73e-02: 100%|██████████| 10/10 [00:00<00:00, 140.50it/s]\n",
      "      81 | 3.68e-02 | 4.72e-02: 100%|██████████| 10/10 [00:00<00:00, 140.11it/s]\n",
      "      82 | 3.68e-02 | 5.01e-02: 100%|██████████| 10/10 [00:00<00:00, 131.78it/s]\n",
      "      83 | 3.68e-02 | 4.76e-02: 100%|██████████| 10/10 [00:00<00:00, 132.06it/s]\n",
      "      84 | 3.68e-02 | 4.59e-02: 100%|██████████| 10/10 [00:00<00:00, 152.06it/s]\n",
      "      85 | 3.68e-02 | 5.07e-02: 100%|██████████| 10/10 [00:00<00:00, 149.99it/s]\n",
      "      86 | 3.68e-02 | 4.60e-02: 100%|██████████| 10/10 [00:00<00:00, 131.37it/s]\n",
      "      87 | 3.68e-02 | 5.17e-02: 100%|██████████| 10/10 [00:00<00:00, 141.91it/s]\n",
      "      88 | 3.68e-02 | 4.73e-02: 100%|██████████| 10/10 [00:00<00:00, 143.91it/s]\n",
      "      89 | 3.68e-02 | 4.79e-02: 100%|██████████| 10/10 [00:00<00:00, 128.07it/s]\n",
      "      90 | 3.68e-02 | 4.62e-02: 100%|██████████| 10/10 [00:00<00:00, 138.37it/s]\n",
      "      91 | 3.68e-02 | 4.92e-02: 100%|██████████| 10/10 [00:00<00:00, 140.16it/s]\n",
      "      92 | 3.68e-02 | 4.66e-02: 100%|██████████| 10/10 [00:00<00:00, 146.88it/s]\n",
      "      93 | 3.68e-02 | 5.22e-02: 100%|██████████| 10/10 [00:00<00:00, 153.76it/s]\n",
      "      94 | 3.68e-02 | 5.04e-02: 100%|██████████| 10/10 [00:00<00:00, 142.07it/s]\n",
      "      95 | 3.68e-02 | 4.88e-02: 100%|██████████| 10/10 [00:00<00:00, 169.01it/s]\n",
      "      96 | 3.68e-02 | 5.12e-02: 100%|██████████| 10/10 [00:00<00:00, 128.87it/s]\n",
      "      97 | 3.68e-02 | 4.86e-02: 100%|██████████| 10/10 [00:00<00:00, 137.12it/s]\n",
      "      98 | 3.68e-02 | 5.02e-02: 100%|██████████| 10/10 [00:00<00:00, 136.59it/s]\n",
      "      99 | 3.68e-02 | 5.10e-02: 100%|██████████| 10/10 [00:00<00:00, 143.71it/s]\n"
     ]
    }
   ],
   "source": [
    "#<1 min\n",
    "w1, loss_logs1, norm_logs1 = BatchBFGS(\n",
    "    initial_w=w0,\n",
    "    loss_class=g,\n",
    "    grad_batch_size=N//10,\n",
    "    max_epochs=100,\n",
    "    tolerance=1e-3,\n",
    "    ground_truth=None,\n",
    "    verbose=True,\n",
    "    seed=6,\n",
    "    use_line_search=True,\n",
    "    theta=0.9,\n",
    "    initial_alpha=0.5,\n",
    ")"
   ]
  },
  {
   "cell_type": "code",
   "execution_count": 47,
   "metadata": {},
   "outputs": [
    {
     "name": "stdout",
     "output_type": "stream",
     "text": [
      " epoch   |   loss   |   norm  \n"
     ]
    },
    {
     "name": "stderr",
     "output_type": "stream",
     "text": [
      "       0 | 9.95e-01 | 1.49e-01: 100%|██████████| 20/20 [00:00<00:00, 165.41it/s]\n",
      "       1 | 3.09e-01 | 6.19e-02:   0%|          | 0/20 [00:00<?, ?it/s]C:\\Users\\huang\\AppData\\Local\\Temp\\ipykernel_63572\\1868702566.py:30: RuntimeWarning: overflow encountered in exp\n",
      "  return ( self.y[i] - (1 / (1 + np.exp(-self.X[i].dot(w)))) )**2\n",
      "       1 | 3.09e-01 | 6.19e-02: 100%|██████████| 20/20 [00:00<00:00, 132.66it/s]\n",
      "       2 | 9.28e-02 | 5.86e-02: 100%|██████████| 20/20 [00:00<00:00, 186.56it/s]\n",
      "       3 | 5.26e-02 | 5.26e-02: 100%|██████████| 20/20 [00:00<00:00, 158.21it/s]\n",
      "       4 | 4.29e-02 | 5.13e-02: 100%|██████████| 20/20 [00:00<00:00, 174.86it/s]\n",
      "       5 | 3.98e-02 | 4.64e-02: 100%|██████████| 20/20 [00:00<00:00, 157.04it/s]\n",
      "       6 | 3.93e-02 | 5.03e-02: 100%|██████████| 20/20 [00:00<00:00, 158.10it/s]\n",
      "       7 | 3.89e-02 | 4.48e-02: 100%|██████████| 20/20 [00:00<00:00, 169.71it/s]\n",
      "       8 | 3.86e-02 | 4.78e-02: 100%|██████████| 20/20 [00:00<00:00, 152.27it/s]\n",
      "       9 | 3.83e-02 | 4.77e-02: 100%|██████████| 20/20 [00:00<00:00, 181.65it/s]\n",
      "      10 | 3.78e-02 | 4.80e-02: 100%|██████████| 20/20 [00:00<00:00, 166.13it/s]\n",
      "      11 | 3.75e-02 | 4.80e-02: 100%|██████████| 20/20 [00:00<00:00, 165.29it/s]\n",
      "      12 | 3.74e-02 | 5.01e-02: 100%|██████████| 20/20 [00:00<00:00, 171.50it/s]\n",
      "      13 | 3.73e-02 | 4.86e-02: 100%|██████████| 20/20 [00:00<00:00, 172.10it/s]\n",
      "      14 | 3.72e-02 | 5.20e-02: 100%|██████████| 20/20 [00:00<00:00, 165.61it/s]\n",
      "      15 | 3.71e-02 | 5.01e-02: 100%|██████████| 20/20 [00:00<00:00, 171.26it/s]\n",
      "      16 | 3.70e-02 | 4.58e-02: 100%|██████████| 20/20 [00:00<00:00, 167.26it/s]\n",
      "      17 | 3.70e-02 | 5.25e-02: 100%|██████████| 20/20 [00:00<00:00, 173.63it/s]\n",
      "      18 | 3.70e-02 | 4.86e-02: 100%|██████████| 20/20 [00:00<00:00, 176.39it/s]\n",
      "      19 | 3.69e-02 | 4.86e-02: 100%|██████████| 20/20 [00:00<00:00, 169.07it/s]\n",
      "      20 | 3.69e-02 | 4.73e-02: 100%|██████████| 20/20 [00:00<00:00, 172.37it/s]\n",
      "      21 | 3.69e-02 | 4.89e-02: 100%|██████████| 20/20 [00:00<00:00, 168.27it/s]\n",
      "      22 | 3.69e-02 | 4.94e-02: 100%|██████████| 20/20 [00:00<00:00, 176.09it/s]\n",
      "      23 | 3.69e-02 | 4.88e-02: 100%|██████████| 20/20 [00:00<00:00, 173.74it/s]\n",
      "      24 | 3.69e-02 | 4.61e-02: 100%|██████████| 20/20 [00:00<00:00, 181.09it/s]\n",
      "      25 | 3.69e-02 | 4.76e-02: 100%|██████████| 20/20 [00:00<00:00, 179.35it/s]\n",
      "      26 | 3.68e-02 | 4.76e-02: 100%|██████████| 20/20 [00:00<00:00, 157.32it/s]\n",
      "      27 | 3.68e-02 | 4.72e-02: 100%|██████████| 20/20 [00:00<00:00, 160.44it/s]\n",
      "      28 | 3.68e-02 | 5.48e-02: 100%|██████████| 20/20 [00:00<00:00, 140.34it/s]\n",
      "      29 | 3.68e-02 | 4.91e-02: 100%|██████████| 20/20 [00:00<00:00, 162.94it/s]\n",
      "      30 | 3.68e-02 | 4.98e-02: 100%|██████████| 20/20 [00:00<00:00, 120.57it/s]\n",
      "      31 | 3.68e-02 | 5.19e-02: 100%|██████████| 20/20 [00:00<00:00, 162.78it/s]\n",
      "      32 | 3.68e-02 | 5.10e-02: 100%|██████████| 20/20 [00:00<00:00, 164.70it/s]\n",
      "      33 | 3.68e-02 | 5.01e-02: 100%|██████████| 20/20 [00:00<00:00, 160.46it/s]\n",
      "      34 | 3.68e-02 | 4.96e-02: 100%|██████████| 20/20 [00:00<00:00, 169.34it/s]\n",
      "      35 | 3.68e-02 | 4.68e-02: 100%|██████████| 20/20 [00:00<00:00, 172.16it/s]\n",
      "      36 | 3.68e-02 | 4.81e-02: 100%|██████████| 20/20 [00:00<00:00, 169.66it/s]\n",
      "      37 | 3.68e-02 | 4.83e-02: 100%|██████████| 20/20 [00:00<00:00, 179.99it/s]\n",
      "      38 | 3.68e-02 | 5.03e-02: 100%|██████████| 20/20 [00:00<00:00, 176.51it/s]\n",
      "      39 | 3.68e-02 | 4.67e-02: 100%|██████████| 20/20 [00:00<00:00, 169.63it/s]\n",
      "      40 | 3.68e-02 | 4.96e-02: 100%|██████████| 20/20 [00:00<00:00, 176.87it/s]\n",
      "      41 | 3.68e-02 | 4.89e-02: 100%|██████████| 20/20 [00:00<00:00, 181.29it/s]\n",
      "      42 | 3.68e-02 | 4.85e-02: 100%|██████████| 20/20 [00:00<00:00, 155.13it/s]\n",
      "      43 | 3.68e-02 | 4.55e-02: 100%|██████████| 20/20 [00:00<00:00, 162.72it/s]\n",
      "      44 | 3.68e-02 | 4.67e-02: 100%|██████████| 20/20 [00:00<00:00, 169.19it/s]\n",
      "      45 | 3.68e-02 | 4.64e-02: 100%|██████████| 20/20 [00:00<00:00, 164.09it/s]\n",
      "      46 | 3.68e-02 | 4.43e-02: 100%|██████████| 20/20 [00:00<00:00, 174.32it/s]\n",
      "      47 | 3.68e-02 | 4.71e-02: 100%|██████████| 20/20 [00:00<00:00, 173.47it/s]\n",
      "      48 | 3.68e-02 | 4.51e-02: 100%|██████████| 20/20 [00:00<00:00, 159.38it/s]\n",
      "      49 | 3.68e-02 | 4.93e-02: 100%|██████████| 20/20 [00:00<00:00, 165.16it/s]\n",
      "      50 | 3.68e-02 | 4.67e-02: 100%|██████████| 20/20 [00:00<00:00, 159.47it/s]\n",
      "      51 | 3.68e-02 | 4.58e-02: 100%|██████████| 20/20 [00:00<00:00, 172.14it/s]\n",
      "      52 | 3.68e-02 | 5.06e-02: 100%|██████████| 20/20 [00:00<00:00, 172.21it/s]\n",
      "      53 | 3.68e-02 | 5.06e-02: 100%|██████████| 20/20 [00:00<00:00, 183.08it/s]\n",
      "      54 | 3.68e-02 | 4.76e-02: 100%|██████████| 20/20 [00:00<00:00, 184.72it/s]\n",
      "      55 | 3.68e-02 | 4.60e-02: 100%|██████████| 20/20 [00:00<00:00, 201.39it/s]\n",
      "      56 | 3.68e-02 | 4.71e-02: 100%|██████████| 20/20 [00:00<00:00, 190.33it/s]\n",
      "      57 | 3.68e-02 | 4.65e-02: 100%|██████████| 20/20 [00:00<00:00, 220.88it/s]\n",
      "      58 | 3.68e-02 | 5.14e-02: 100%|██████████| 20/20 [00:00<00:00, 249.28it/s]\n",
      "      59 | 3.68e-02 | 4.88e-02: 100%|██████████| 20/20 [00:00<00:00, 247.62it/s]\n",
      "      60 | 3.68e-02 | 4.98e-02: 100%|██████████| 20/20 [00:00<00:00, 221.64it/s]\n",
      "      61 | 3.68e-02 | 5.11e-02: 100%|██████████| 20/20 [00:00<00:00, 245.01it/s]\n",
      "      62 | 3.68e-02 | 4.73e-02: 100%|██████████| 20/20 [00:00<00:00, 231.82it/s]\n",
      "      63 | 3.68e-02 | 4.70e-02: 100%|██████████| 20/20 [00:00<00:00, 232.95it/s]\n",
      "      64 | 3.68e-02 | 4.87e-02: 100%|██████████| 20/20 [00:00<00:00, 227.54it/s]\n",
      "      65 | 3.68e-02 | 5.14e-02: 100%|██████████| 20/20 [00:00<00:00, 245.92it/s]\n",
      "      66 | 3.68e-02 | 4.84e-02: 100%|██████████| 20/20 [00:00<00:00, 251.59it/s]\n",
      "      67 | 3.68e-02 | 5.13e-02: 100%|██████████| 20/20 [00:00<00:00, 217.18it/s]\n",
      "      68 | 3.68e-02 | 5.06e-02: 100%|██████████| 20/20 [00:00<00:00, 237.16it/s]\n",
      "      69 | 3.68e-02 | 4.82e-02: 100%|██████████| 20/20 [00:00<00:00, 229.14it/s]\n",
      "      70 | 3.68e-02 | 5.03e-02: 100%|██████████| 20/20 [00:00<00:00, 153.05it/s]\n",
      "      71 | 3.68e-02 | 4.99e-02: 100%|██████████| 20/20 [00:00<00:00, 233.91it/s]\n",
      "      72 | 3.68e-02 | 5.15e-02: 100%|██████████| 20/20 [00:00<00:00, 235.53it/s]\n",
      "      73 | 3.68e-02 | 5.27e-02: 100%|██████████| 20/20 [00:00<00:00, 245.42it/s]\n",
      "      74 | 3.68e-02 | 5.00e-02: 100%|██████████| 20/20 [00:00<00:00, 230.34it/s]\n",
      "      75 | 3.68e-02 | 5.05e-02: 100%|██████████| 20/20 [00:00<00:00, 242.26it/s]\n",
      "      76 | 3.68e-02 | 4.95e-02: 100%|██████████| 20/20 [00:00<00:00, 234.93it/s]\n",
      "      77 | 3.68e-02 | 4.36e-02: 100%|██████████| 20/20 [00:00<00:00, 213.09it/s]\n",
      "      78 | 3.68e-02 | 4.85e-02: 100%|██████████| 20/20 [00:00<00:00, 234.48it/s]\n",
      "      79 | 3.68e-02 | 4.96e-02: 100%|██████████| 20/20 [00:00<00:00, 242.86it/s]\n",
      "      80 | 3.68e-02 | 5.07e-02: 100%|██████████| 20/20 [00:00<00:00, 248.43it/s]\n",
      "      81 | 3.68e-02 | 4.70e-02: 100%|██████████| 20/20 [00:00<00:00, 230.48it/s]\n",
      "      82 | 3.68e-02 | 4.68e-02: 100%|██████████| 20/20 [00:00<00:00, 225.83it/s]\n",
      "      83 | 3.68e-02 | 4.67e-02: 100%|██████████| 20/20 [00:00<00:00, 248.30it/s]\n",
      "      84 | 3.68e-02 | 4.72e-02: 100%|██████████| 20/20 [00:00<00:00, 230.58it/s]\n",
      "      85 | 3.68e-02 | 5.30e-02: 100%|██████████| 20/20 [00:00<00:00, 233.32it/s]\n",
      "      86 | 3.68e-02 | 4.39e-02: 100%|██████████| 20/20 [00:00<00:00, 228.77it/s]\n",
      "      87 | 3.68e-02 | 4.85e-02: 100%|██████████| 20/20 [00:00<00:00, 256.09it/s]\n",
      "      88 | 3.68e-02 | 4.54e-02: 100%|██████████| 20/20 [00:00<00:00, 240.15it/s]\n",
      "      89 | 3.68e-02 | 4.83e-02: 100%|██████████| 20/20 [00:00<00:00, 215.29it/s]\n",
      "      90 | 3.68e-02 | 4.68e-02: 100%|██████████| 20/20 [00:00<00:00, 224.07it/s]\n",
      "      91 | 3.68e-02 | 4.43e-02: 100%|██████████| 20/20 [00:00<00:00, 240.70it/s]\n",
      "      92 | 3.68e-02 | 4.70e-02: 100%|██████████| 20/20 [00:00<00:00, 229.45it/s]\n",
      "      93 | 3.68e-02 | 4.63e-02: 100%|██████████| 20/20 [00:00<00:00, 256.99it/s]\n",
      "      94 | 3.68e-02 | 4.91e-02: 100%|██████████| 20/20 [00:00<00:00, 238.26it/s]\n",
      "      95 | 3.68e-02 | 5.14e-02: 100%|██████████| 20/20 [00:00<00:00, 214.11it/s]\n",
      "      96 | 3.68e-02 | 4.82e-02: 100%|██████████| 20/20 [00:00<00:00, 230.57it/s]\n",
      "      97 | 3.68e-02 | 4.53e-02: 100%|██████████| 20/20 [00:00<00:00, 245.86it/s]\n",
      "      98 | 3.68e-02 | 4.78e-02: 100%|██████████| 20/20 [00:00<00:00, 237.72it/s]\n",
      "      99 | 3.68e-02 | 4.98e-02: 100%|██████████| 20/20 [00:00<00:00, 237.98it/s]\n"
     ]
    }
   ],
   "source": [
    "#<1 min\n",
    "w1_, loss_logs1_, norm_logs1_ = BatchBFGS(\n",
    "    initial_w=w0,\n",
    "    loss_class=g,\n",
    "    grad_batch_size=N//20,\n",
    "    max_epochs=100,\n",
    "    tolerance=1e-3,\n",
    "    ground_truth=None,\n",
    "    verbose=True,\n",
    "    seed=6,\n",
    "    use_line_search=True,\n",
    "    theta=0.9,\n",
    "    initial_alpha=0.5,\n",
    ")"
   ]
  },
  {
   "cell_type": "markdown",
   "metadata": {},
   "source": [
    "**L-BFGS**"
   ]
  },
  {
   "cell_type": "code",
   "execution_count": 48,
   "metadata": {},
   "outputs": [
    {
     "name": "stdout",
     "output_type": "stream",
     "text": [
      " epoch   |   loss   |   norm  \n"
     ]
    },
    {
     "name": "stderr",
     "output_type": "stream",
     "text": [
      "       0 | 9.95e-01 | 1.49e-01: 100%|██████████| 10/10 [00:00<00:00, 88.59it/s]\n",
      "       1 | 4.74e-01 | 6.44e-02: 100%|██████████| 10/10 [00:00<00:00, 91.09it/s]\n",
      "       2 | 2.78e-01 | 7.22e-02: 100%|██████████| 10/10 [00:00<00:00, 83.64it/s]\n",
      "       3 | 1.69e-01 | 6.18e-02: 100%|██████████| 10/10 [00:00<00:00, 77.91it/s]\n",
      "       4 | 1.14e-01 | 5.94e-02: 100%|██████████| 10/10 [00:00<00:00, 85.94it/s]\n",
      "       5 | 6.74e-02 | 5.43e-02: 100%|██████████| 10/10 [00:00<00:00, 79.08it/s]\n",
      "       6 | 5.61e-02 | 4.87e-02: 100%|██████████| 10/10 [00:00<00:00, 91.13it/s]\n",
      "       7 | 5.26e-02 | 5.13e-02: 100%|██████████| 10/10 [00:00<00:00, 77.59it/s]\n",
      "       8 | 5.06e-02 | 5.05e-02: 100%|██████████| 10/10 [00:00<00:00, 79.92it/s]\n",
      "       9 | 4.91e-02 | 5.01e-02: 100%|██████████| 10/10 [00:00<00:00, 92.29it/s]\n",
      "      10 | 4.79e-02 | 4.70e-02: 100%|██████████| 10/10 [00:00<00:00, 84.28it/s]\n",
      "      11 | 4.72e-02 | 5.38e-02: 100%|██████████| 10/10 [00:00<00:00, 87.14it/s]\n",
      "      12 | 4.63e-02 | 5.40e-02: 100%|██████████| 10/10 [00:00<00:00, 95.58it/s]\n",
      "      13 | 4.53e-02 | 4.61e-02: 100%|██████████| 10/10 [00:00<00:00, 93.87it/s]\n",
      "      14 | 4.46e-02 | 5.17e-02: 100%|██████████| 10/10 [00:00<00:00, 106.82it/s]\n",
      "      15 | 4.39e-02 | 4.89e-02: 100%|██████████| 10/10 [00:00<00:00, 91.59it/s]\n",
      "      16 | 4.33e-02 | 5.14e-02: 100%|██████████| 10/10 [00:00<00:00, 89.90it/s]\n",
      "      17 | 4.28e-02 | 5.28e-02: 100%|██████████| 10/10 [00:00<00:00, 95.82it/s]\n",
      "      18 | 4.23e-02 | 5.23e-02: 100%|██████████| 10/10 [00:00<00:00, 81.31it/s]\n",
      "      19 | 4.17e-02 | 4.88e-02: 100%|██████████| 10/10 [00:00<00:00, 92.28it/s]\n",
      "      20 | 4.13e-02 | 4.87e-02: 100%|██████████| 10/10 [00:00<00:00, 83.44it/s]\n",
      "      21 | 4.10e-02 | 5.46e-02: 100%|██████████| 10/10 [00:00<00:00, 83.34it/s]\n",
      "      22 | 4.07e-02 | 4.93e-02: 100%|██████████| 10/10 [00:00<00:00, 91.48it/s]\n",
      "      23 | 4.03e-02 | 4.60e-02: 100%|██████████| 10/10 [00:00<00:00, 86.96it/s]\n",
      "      24 | 4.03e-02 | 5.64e-02: 100%|██████████| 10/10 [00:00<00:00, 99.35it/s]\n",
      "      25 | 4.01e-02 | 5.13e-02: 100%|██████████| 10/10 [00:00<00:00, 89.60it/s]\n",
      "      26 | 3.98e-02 | 4.44e-02: 100%|██████████| 10/10 [00:00<00:00, 84.88it/s]\n",
      "      27 | 3.97e-02 | 4.38e-02: 100%|██████████| 10/10 [00:00<00:00, 96.26it/s]\n",
      "      28 | 3.95e-02 | 4.30e-02: 100%|██████████| 10/10 [00:00<00:00, 101.07it/s]\n",
      "      29 | 3.94e-02 | 4.84e-02: 100%|██████████| 10/10 [00:00<00:00, 94.66it/s]\n",
      "      30 | 3.92e-02 | 4.75e-02: 100%|██████████| 10/10 [00:00<00:00, 79.79it/s]\n",
      "      31 | 3.91e-02 | 5.05e-02: 100%|██████████| 10/10 [00:00<00:00, 98.30it/s]\n",
      "      32 | 3.90e-02 | 5.18e-02: 100%|██████████| 10/10 [00:00<00:00, 65.20it/s]\n",
      "      33 | 3.90e-02 | 4.91e-02: 100%|██████████| 10/10 [00:00<00:00, 104.04it/s]\n",
      "      34 | 3.88e-02 | 4.84e-02: 100%|██████████| 10/10 [00:00<00:00, 93.89it/s]\n",
      "      35 | 3.89e-02 | 4.88e-02: 100%|██████████| 10/10 [00:00<00:00, 90.09it/s]\n",
      "      36 | 3.88e-02 | 4.81e-02: 100%|██████████| 10/10 [00:00<00:00, 92.69it/s]\n",
      "      37 | 3.86e-02 | 4.53e-02: 100%|██████████| 10/10 [00:00<00:00, 103.76it/s]\n",
      "      38 | 3.86e-02 | 4.55e-02: 100%|██████████| 10/10 [00:00<00:00, 108.82it/s]\n",
      "      39 | 3.86e-02 | 4.80e-02: 100%|██████████| 10/10 [00:00<00:00, 92.10it/s]\n",
      "      40 | 3.84e-02 | 4.53e-02: 100%|██████████| 10/10 [00:00<00:00, 93.14it/s]\n",
      "      41 | 3.84e-02 | 4.50e-02: 100%|██████████| 10/10 [00:00<00:00, 94.56it/s]\n",
      "      42 | 3.83e-02 | 4.87e-02: 100%|██████████| 10/10 [00:00<00:00, 100.48it/s]\n",
      "      43 | 3.82e-02 | 4.74e-02: 100%|██████████| 10/10 [00:00<00:00, 95.62it/s]\n",
      "      44 | 3.83e-02 | 4.72e-02: 100%|██████████| 10/10 [00:00<00:00, 93.99it/s]\n",
      "      45 | 3.83e-02 | 4.65e-02: 100%|██████████| 10/10 [00:00<00:00, 99.15it/s]\n",
      "      46 | 3.82e-02 | 4.69e-02: 100%|██████████| 10/10 [00:00<00:00, 99.21it/s]\n",
      "      47 | 3.82e-02 | 4.61e-02: 100%|██████████| 10/10 [00:00<00:00, 100.79it/s]\n",
      "      48 | 3.82e-02 | 4.84e-02: 100%|██████████| 10/10 [00:00<00:00, 91.34it/s]\n",
      "      49 | 3.80e-02 | 4.58e-02: 100%|██████████| 10/10 [00:00<00:00, 81.37it/s]\n",
      "      50 | 3.79e-02 | 4.56e-02: 100%|██████████| 10/10 [00:00<00:00, 92.19it/s]\n",
      "      51 | 3.82e-02 | 5.45e-02: 100%|██████████| 10/10 [00:00<00:00, 89.68it/s]\n",
      "      52 | 3.80e-02 | 5.61e-02: 100%|██████████| 10/10 [00:00<00:00, 95.24it/s]\n",
      "      53 | 3.79e-02 | 4.50e-02: 100%|██████████| 10/10 [00:00<00:00, 94.11it/s]\n",
      "      54 | 3.79e-02 | 4.44e-02: 100%|██████████| 10/10 [00:00<00:00, 103.10it/s]\n",
      "      55 | 3.78e-02 | 4.69e-02: 100%|██████████| 10/10 [00:00<00:00, 108.51it/s]\n",
      "      56 | 3.79e-02 | 5.32e-02: 100%|██████████| 10/10 [00:00<00:00, 114.87it/s]\n",
      "      57 | 3.78e-02 | 5.90e-02: 100%|██████████| 10/10 [00:00<00:00, 111.80it/s]\n",
      "      58 | 3.78e-02 | 4.90e-02: 100%|██████████| 10/10 [00:00<00:00, 109.52it/s]\n",
      "      59 | 3.78e-02 | 4.98e-02: 100%|██████████| 10/10 [00:00<00:00, 124.12it/s]\n",
      "      60 | 3.78e-02 | 4.98e-02: 100%|██████████| 10/10 [00:00<00:00, 134.69it/s]\n",
      "      61 | 3.77e-02 | 4.92e-02: 100%|██████████| 10/10 [00:00<00:00, 133.50it/s]\n",
      "      62 | 3.77e-02 | 5.54e-02: 100%|██████████| 10/10 [00:00<00:00, 127.88it/s]\n",
      "      63 | 3.78e-02 | 5.20e-02: 100%|██████████| 10/10 [00:00<00:00, 142.23it/s]\n",
      "      64 | 3.77e-02 | 4.81e-02: 100%|██████████| 10/10 [00:00<00:00, 129.74it/s]\n",
      "      65 | 3.77e-02 | 4.77e-02: 100%|██████████| 10/10 [00:00<00:00, 117.01it/s]\n",
      "      66 | 3.78e-02 | 5.53e-02: 100%|██████████| 10/10 [00:00<00:00, 128.90it/s]\n",
      "      67 | 3.77e-02 | 5.15e-02: 100%|██████████| 10/10 [00:00<00:00, 136.52it/s]\n",
      "      68 | 3.76e-02 | 5.08e-02: 100%|██████████| 10/10 [00:00<00:00, 125.24it/s]\n",
      "      69 | 3.77e-02 | 4.53e-02: 100%|██████████| 10/10 [00:00<00:00, 127.82it/s]\n",
      "      70 | 3.77e-02 | 4.87e-02: 100%|██████████| 10/10 [00:00<00:00, 131.25it/s]\n",
      "      71 | 3.77e-02 | 5.12e-02: 100%|██████████| 10/10 [00:00<00:00, 144.10it/s]\n",
      "      72 | 3.75e-02 | 5.25e-02: 100%|██████████| 10/10 [00:00<00:00, 105.40it/s]\n",
      "      73 | 3.76e-02 | 5.12e-02: 100%|██████████| 10/10 [00:00<00:00, 137.01it/s]\n",
      "      74 | 3.75e-02 | 4.84e-02: 100%|██████████| 10/10 [00:00<00:00, 125.28it/s]\n",
      "      75 | 3.76e-02 | 4.64e-02: 100%|██████████| 10/10 [00:00<00:00, 134.71it/s]\n",
      "      76 | 3.75e-02 | 4.64e-02: 100%|██████████| 10/10 [00:00<00:00, 132.03it/s]\n",
      "      77 | 3.75e-02 | 4.48e-02: 100%|██████████| 10/10 [00:00<00:00, 142.07it/s]\n",
      "      78 | 3.75e-02 | 4.47e-02: 100%|██████████| 10/10 [00:00<00:00, 112.17it/s]\n",
      "      79 | 3.75e-02 | 4.63e-02: 100%|██████████| 10/10 [00:00<00:00, 139.27it/s]\n",
      "      80 | 3.77e-02 | 5.46e-02: 100%|██████████| 10/10 [00:00<00:00, 72.84it/s]\n",
      "      81 | 3.75e-02 | 5.25e-02: 100%|██████████| 10/10 [00:00<00:00, 131.81it/s]\n",
      "      82 | 3.75e-02 | 4.78e-02: 100%|██████████| 10/10 [00:00<00:00, 118.36it/s]\n",
      "      83 | 3.75e-02 | 4.94e-02: 100%|██████████| 10/10 [00:00<00:00, 121.58it/s]\n",
      "      84 | 3.75e-02 | 5.20e-02: 100%|██████████| 10/10 [00:00<00:00, 128.52it/s]\n",
      "      85 | 3.76e-02 | 5.06e-02: 100%|██████████| 10/10 [00:00<00:00, 120.46it/s]\n",
      "      86 | 3.78e-02 | 4.85e-02: 100%|██████████| 10/10 [00:00<00:00, 125.69it/s]\n",
      "      87 | 3.75e-02 | 4.40e-02: 100%|██████████| 10/10 [00:00<00:00, 126.42it/s]\n",
      "      88 | 3.74e-02 | 4.44e-02: 100%|██████████| 10/10 [00:00<00:00, 127.70it/s]\n",
      "      89 | 3.76e-02 | 4.99e-02: 100%|██████████| 10/10 [00:00<00:00, 141.90it/s]\n",
      "      90 | 3.76e-02 | 5.34e-02: 100%|██████████| 10/10 [00:00<00:00, 140.35it/s]\n",
      "      91 | 3.76e-02 | 5.03e-02: 100%|██████████| 10/10 [00:00<00:00, 131.13it/s]\n",
      "      92 | 3.74e-02 | 4.65e-02: 100%|██████████| 10/10 [00:00<00:00, 118.07it/s]\n",
      "      93 | 3.75e-02 | 4.64e-02: 100%|██████████| 10/10 [00:00<00:00, 121.00it/s]\n",
      "      94 | 3.76e-02 | 4.91e-02: 100%|██████████| 10/10 [00:00<00:00, 142.31it/s]\n",
      "      95 | 3.76e-02 | 5.35e-02: 100%|██████████| 10/10 [00:00<00:00, 132.31it/s]\n",
      "      96 | 3.76e-02 | 5.36e-02: 100%|██████████| 10/10 [00:00<00:00, 122.81it/s]\n",
      "      97 | 3.74e-02 | 5.21e-02: 100%|██████████| 10/10 [00:00<00:00, 104.59it/s]\n",
      "      98 | 3.76e-02 | 4.58e-02: 100%|██████████| 10/10 [00:00<00:00, 142.13it/s]\n",
      "      99 | 3.75e-02 | 5.01e-02: 100%|██████████| 10/10 [00:00<00:00, 123.69it/s]\n"
     ]
    }
   ],
   "source": [
    "#< 1 min\n",
    "w2, loss_logs2, norm_logs2 = BatchLBFGS(\n",
    "    initial_w=w0,\n",
    "    loss_class=g,\n",
    "    grad_batch_size=N//10,\n",
    "    m=2,\n",
    "    max_epochs=100,\n",
    "    tolerance=1e-3,\n",
    "    use_line_search=True,\n",
    "    theta=0.9,\n",
    "    initial_alpha=0.5,\n",
    ")"
   ]
  },
  {
   "cell_type": "code",
   "execution_count": 49,
   "metadata": {},
   "outputs": [
    {
     "name": "stdout",
     "output_type": "stream",
     "text": [
      " epoch   |   loss   |   norm  \n"
     ]
    },
    {
     "name": "stderr",
     "output_type": "stream",
     "text": [
      "       0 | 9.95e-01 | 1.49e-01: 100%|██████████| 20/20 [00:00<00:00, 94.84it/s] \n",
      "       1 | 4.64e-01 | 6.38e-02: 100%|██████████| 20/20 [00:00<00:00, 160.45it/s]\n",
      "       2 | 2.49e-01 | 6.25e-02: 100%|██████████| 20/20 [00:00<00:00, 140.84it/s]\n",
      "       3 | 1.40e-01 | 6.13e-02: 100%|██████████| 20/20 [00:00<00:00, 139.43it/s]\n",
      "       4 | 7.85e-02 | 5.43e-02: 100%|██████████| 20/20 [00:00<00:00, 116.80it/s]\n",
      "       5 | 6.93e-02 | 5.47e-02: 100%|██████████| 20/20 [00:00<00:00, 130.98it/s]\n",
      "       6 | 6.25e-02 | 5.23e-02: 100%|██████████| 20/20 [00:00<00:00, 139.64it/s]\n",
      "       7 | 5.74e-02 | 5.20e-02: 100%|██████████| 20/20 [00:00<00:00, 147.81it/s]\n",
      "       8 | 5.41e-02 | 5.08e-02: 100%|██████████| 20/20 [00:00<00:00, 139.37it/s]\n",
      "       9 | 5.06e-02 | 5.29e-02: 100%|██████████| 20/20 [00:00<00:00, 162.88it/s]\n",
      "      10 | 4.85e-02 | 5.03e-02: 100%|██████████| 20/20 [00:00<00:00, 141.42it/s]\n",
      "      11 | 4.66e-02 | 5.24e-02: 100%|██████████| 20/20 [00:00<00:00, 149.76it/s]\n",
      "      12 | 4.51e-02 | 5.51e-02: 100%|██████████| 20/20 [00:00<00:00, 146.71it/s]\n",
      "      13 | 4.37e-02 | 5.42e-02: 100%|██████████| 20/20 [00:00<00:00, 151.55it/s]\n",
      "      14 | 4.16e-02 | 4.98e-02: 100%|██████████| 20/20 [00:00<00:00, 148.64it/s]\n",
      "      15 | 4.08e-02 | 4.68e-02: 100%|██████████| 20/20 [00:00<00:00, 139.54it/s]\n",
      "      16 | 3.99e-02 | 4.93e-02: 100%|██████████| 20/20 [00:00<00:00, 154.36it/s]\n",
      "      17 | 3.96e-02 | 4.68e-02: 100%|██████████| 20/20 [00:00<00:00, 143.12it/s]\n",
      "      18 | 3.91e-02 | 4.72e-02: 100%|██████████| 20/20 [00:00<00:00, 152.88it/s]\n",
      "      19 | 3.88e-02 | 5.47e-02: 100%|██████████| 20/20 [00:00<00:00, 152.96it/s]\n",
      "      20 | 3.86e-02 | 4.84e-02: 100%|██████████| 20/20 [00:00<00:00, 156.63it/s]\n",
      "      21 | 3.91e-02 | 4.83e-02: 100%|██████████| 20/20 [00:00<00:00, 151.94it/s]\n",
      "      22 | 3.84e-02 | 4.79e-02: 100%|██████████| 20/20 [00:00<00:00, 152.99it/s]\n",
      "      23 | 3.82e-02 | 4.49e-02: 100%|██████████| 20/20 [00:00<00:00, 150.20it/s]\n",
      "      24 | 3.81e-02 | 5.17e-02: 100%|██████████| 20/20 [00:00<00:00, 148.79it/s]\n",
      "      25 | 3.82e-02 | 5.23e-02: 100%|██████████| 20/20 [00:00<00:00, 141.98it/s]\n",
      "      26 | 3.79e-02 | 4.97e-02: 100%|██████████| 20/20 [00:00<00:00, 150.86it/s]\n",
      "      27 | 3.79e-02 | 4.54e-02: 100%|██████████| 20/20 [00:00<00:00, 152.81it/s]\n",
      "      28 | 3.79e-02 | 4.99e-02: 100%|██████████| 20/20 [00:00<00:00, 150.20it/s]\n",
      "      29 | 3.81e-02 | 5.13e-02: 100%|██████████| 20/20 [00:00<00:00, 144.22it/s]\n",
      "      30 | 3.78e-02 | 5.29e-02: 100%|██████████| 20/20 [00:00<00:00, 139.24it/s]\n",
      "      31 | 3.79e-02 | 5.26e-02: 100%|██████████| 20/20 [00:00<00:00, 143.87it/s]\n",
      "      32 | 3.79e-02 | 5.29e-02: 100%|██████████| 20/20 [00:00<00:00, 152.02it/s]\n",
      "      33 | 3.77e-02 | 4.87e-02: 100%|██████████| 20/20 [00:00<00:00, 147.89it/s]\n",
      "      34 | 3.79e-02 | 5.17e-02: 100%|██████████| 20/20 [00:00<00:00, 154.79it/s]\n",
      "      35 | 3.78e-02 | 5.01e-02: 100%|██████████| 20/20 [00:00<00:00, 147.17it/s]\n",
      "      36 | 3.77e-02 | 5.17e-02: 100%|██████████| 20/20 [00:00<00:00, 147.74it/s]\n",
      "      37 | 3.77e-02 | 4.78e-02: 100%|██████████| 20/20 [00:00<00:00, 150.76it/s]\n",
      "      38 | 3.76e-02 | 5.53e-02: 100%|██████████| 20/20 [00:00<00:00, 142.67it/s]\n",
      "      39 | 3.75e-02 | 5.17e-02: 100%|██████████| 20/20 [00:00<00:00, 149.87it/s]\n",
      "      40 | 3.78e-02 | 5.08e-02: 100%|██████████| 20/20 [00:00<00:00, 157.09it/s]\n",
      "      41 | 3.79e-02 | 4.81e-02: 100%|██████████| 20/20 [00:00<00:00, 153.18it/s]\n",
      "      42 | 3.76e-02 | 5.51e-02: 100%|██████████| 20/20 [00:00<00:00, 143.95it/s]\n",
      "      43 | 3.78e-02 | 4.60e-02: 100%|██████████| 20/20 [00:00<00:00, 153.12it/s]\n",
      "      44 | 3.77e-02 | 4.95e-02: 100%|██████████| 20/20 [00:00<00:00, 152.63it/s]\n",
      "      45 | 3.75e-02 | 4.84e-02: 100%|██████████| 20/20 [00:00<00:00, 150.98it/s]\n",
      "      46 | 3.76e-02 | 5.02e-02: 100%|██████████| 20/20 [00:00<00:00, 185.63it/s]\n",
      "      47 | 3.77e-02 | 4.69e-02: 100%|██████████| 20/20 [00:00<00:00, 189.12it/s]\n",
      "      48 | 3.81e-02 | 4.93e-02: 100%|██████████| 20/20 [00:00<00:00, 178.08it/s]\n",
      "      49 | 3.78e-02 | 5.40e-02: 100%|██████████| 20/20 [00:00<00:00, 209.32it/s]\n",
      "      50 | 3.75e-02 | 4.82e-02: 100%|██████████| 20/20 [00:00<00:00, 246.11it/s]\n",
      "      51 | 3.78e-02 | 5.40e-02: 100%|██████████| 20/20 [00:00<00:00, 204.08it/s]\n",
      "      52 | 3.79e-02 | 5.39e-02: 100%|██████████| 20/20 [00:00<00:00, 206.08it/s]\n",
      "      53 | 3.79e-02 | 4.91e-02: 100%|██████████| 20/20 [00:00<00:00, 213.01it/s]\n",
      "      54 | 3.78e-02 | 5.59e-02: 100%|██████████| 20/20 [00:00<00:00, 216.74it/s]\n",
      "      55 | 3.76e-02 | 4.95e-02: 100%|██████████| 20/20 [00:00<00:00, 214.35it/s]\n",
      "      56 | 3.74e-02 | 4.74e-02: 100%|██████████| 20/20 [00:00<00:00, 216.08it/s]\n",
      "      57 | 3.76e-02 | 5.03e-02: 100%|██████████| 20/20 [00:00<00:00, 220.25it/s]\n",
      "      58 | 3.77e-02 | 4.84e-02: 100%|██████████| 20/20 [00:00<00:00, 211.96it/s]\n",
      "      59 | 3.74e-02 | 4.29e-02: 100%|██████████| 20/20 [00:00<00:00, 194.09it/s]\n",
      "      60 | 3.75e-02 | 5.45e-02: 100%|██████████| 20/20 [00:00<00:00, 223.80it/s]\n",
      "      61 | 3.75e-02 | 4.81e-02: 100%|██████████| 20/20 [00:00<00:00, 220.52it/s]\n",
      "      62 | 3.78e-02 | 4.63e-02: 100%|██████████| 20/20 [00:00<00:00, 213.97it/s]\n",
      "      63 | 3.75e-02 | 4.64e-02: 100%|██████████| 20/20 [00:00<00:00, 216.98it/s]\n",
      "      64 | 3.75e-02 | 5.22e-02: 100%|██████████| 20/20 [00:00<00:00, 219.36it/s]\n",
      "      65 | 3.75e-02 | 4.65e-02: 100%|██████████| 20/20 [00:00<00:00, 210.36it/s]\n",
      "      66 | 3.75e-02 | 4.68e-02: 100%|██████████| 20/20 [00:00<00:00, 152.58it/s]\n",
      "      67 | 3.78e-02 | 5.04e-02: 100%|██████████| 20/20 [00:00<00:00, 200.41it/s]\n",
      "      68 | 3.78e-02 | 5.98e-02: 100%|██████████| 20/20 [00:00<00:00, 200.57it/s]\n",
      "      69 | 3.77e-02 | 5.54e-02: 100%|██████████| 20/20 [00:00<00:00, 226.11it/s]\n",
      "      70 | 3.76e-02 | 5.17e-02: 100%|██████████| 20/20 [00:00<00:00, 213.92it/s]\n",
      "      71 | 3.75e-02 | 4.90e-02: 100%|██████████| 20/20 [00:00<00:00, 210.64it/s]\n",
      "      72 | 3.75e-02 | 5.05e-02: 100%|██████████| 20/20 [00:00<00:00, 208.85it/s]\n",
      "      73 | 3.76e-02 | 5.26e-02: 100%|██████████| 20/20 [00:00<00:00, 210.98it/s]\n",
      "      74 | 3.75e-02 | 5.11e-02: 100%|██████████| 20/20 [00:00<00:00, 209.41it/s]\n",
      "      75 | 3.78e-02 | 5.44e-02: 100%|██████████| 20/20 [00:00<00:00, 200.91it/s]\n",
      "      76 | 3.76e-02 | 4.84e-02: 100%|██████████| 20/20 [00:00<00:00, 210.99it/s]\n",
      "      77 | 3.75e-02 | 5.26e-02: 100%|██████████| 20/20 [00:00<00:00, 192.59it/s]\n",
      "      78 | 3.78e-02 | 5.25e-02: 100%|██████████| 20/20 [00:00<00:00, 203.97it/s]\n",
      "      79 | 3.74e-02 | 4.54e-02: 100%|██████████| 20/20 [00:00<00:00, 204.60it/s]\n",
      "      80 | 3.86e-02 | 5.83e-02: 100%|██████████| 20/20 [00:00<00:00, 213.56it/s]\n",
      "      81 | 3.74e-02 | 4.80e-02: 100%|██████████| 20/20 [00:00<00:00, 213.88it/s]\n",
      "      82 | 3.75e-02 | 5.39e-02: 100%|██████████| 20/20 [00:00<00:00, 217.09it/s]\n",
      "      83 | 3.75e-02 | 4.90e-02: 100%|██████████| 20/20 [00:00<00:00, 209.24it/s]\n",
      "      84 | 3.75e-02 | 4.83e-02: 100%|██████████| 20/20 [00:00<00:00, 192.37it/s]\n",
      "      85 | 3.77e-02 | 5.49e-02: 100%|██████████| 20/20 [00:00<00:00, 203.07it/s]\n",
      "      86 | 3.76e-02 | 5.50e-02: 100%|██████████| 20/20 [00:00<00:00, 192.23it/s]\n",
      "      87 | 3.78e-02 | 5.19e-02: 100%|██████████| 20/20 [00:00<00:00, 172.64it/s]\n",
      "      88 | 3.76e-02 | 5.11e-02: 100%|██████████| 20/20 [00:00<00:00, 189.47it/s]\n",
      "      89 | 3.74e-02 | 4.84e-02: 100%|██████████| 20/20 [00:00<00:00, 209.04it/s]\n",
      "      90 | 3.77e-02 | 5.84e-02: 100%|██████████| 20/20 [00:00<00:00, 200.13it/s]\n",
      "      91 | 3.77e-02 | 5.01e-02: 100%|██████████| 20/20 [00:00<00:00, 186.84it/s]\n",
      "      92 | 3.76e-02 | 5.55e-02: 100%|██████████| 20/20 [00:00<00:00, 221.15it/s]\n",
      "      93 | 3.76e-02 | 4.99e-02: 100%|██████████| 20/20 [00:00<00:00, 199.85it/s]\n",
      "      94 | 3.78e-02 | 5.37e-02: 100%|██████████| 20/20 [00:00<00:00, 184.28it/s]\n",
      "      95 | 3.75e-02 | 4.90e-02: 100%|██████████| 20/20 [00:00<00:00, 200.87it/s]\n",
      "      96 | 3.76e-02 | 4.99e-02: 100%|██████████| 20/20 [00:00<00:00, 211.96it/s]\n",
      "      97 | 3.75e-02 | 5.00e-02: 100%|██████████| 20/20 [00:00<00:00, 175.73it/s]\n",
      "      98 | 3.77e-02 | 4.88e-02: 100%|██████████| 20/20 [00:00<00:00, 190.56it/s]\n",
      "      99 | 3.73e-02 | 5.03e-02: 100%|██████████| 20/20 [00:00<00:00, 219.38it/s]\n"
     ]
    }
   ],
   "source": [
    "w2_, loss_logs2_, norm_logs2_ = BatchLBFGS(\n",
    "    initial_w=w0,\n",
    "    loss_class=g,\n",
    "    grad_batch_size=N//20,\n",
    "    m=2,\n",
    "    max_epochs=100,\n",
    "    tolerance=1e-3,\n",
    "    use_line_search=True,\n",
    "    theta=0.9,\n",
    "    initial_alpha=0.5,\n",
    ")"
   ]
  },
  {
   "cell_type": "code",
   "execution_count": 50,
   "metadata": {},
   "outputs": [],
   "source": [
    "from algorithms2 import SGD"
   ]
  },
  {
   "cell_type": "code",
   "execution_count": 51,
   "metadata": {},
   "outputs": [
    {
     "name": "stdout",
     "output_type": "stream",
     "text": [
      " epoch   |   loss   |   norm  \n"
     ]
    },
    {
     "name": "stderr",
     "output_type": "stream",
     "text": [
      "       0 | 9.95e-01 | 1.49e-01:   0%|          | 0/10 [00:00<?, ?it/s]"
     ]
    },
    {
     "name": "stderr",
     "output_type": "stream",
     "text": [
      "       0 | 9.95e-01 | 1.49e-01: 100%|██████████| 10/10 [00:00<00:00, 89.48it/s]\n",
      "       1 | 8.77e-01 | 1.54e-01: 100%|██████████| 10/10 [00:00<00:00, 110.28it/s]\n",
      "       2 | 7.63e-01 | 1.44e-01: 100%|██████████| 10/10 [00:00<00:00, 108.82it/s]\n",
      "       3 | 6.65e-01 | 1.32e-01: 100%|██████████| 10/10 [00:00<00:00, 113.08it/s]\n",
      "       4 | 5.86e-01 | 1.17e-01: 100%|██████████| 10/10 [00:00<00:00, 118.48it/s]\n",
      "       5 | 5.30e-01 | 1.00e-01: 100%|██████████| 10/10 [00:00<00:00, 101.40it/s]\n",
      "       6 | 4.86e-01 | 8.30e-02: 100%|██████████| 10/10 [00:00<00:00, 103.08it/s]\n",
      "       7 | 4.56e-01 | 7.21e-02: 100%|██████████| 10/10 [00:00<00:00, 116.60it/s]\n",
      "       8 | 4.34e-01 | 6.80e-02: 100%|██████████| 10/10 [00:00<00:00, 101.76it/s]\n",
      "       9 | 4.14e-01 | 6.37e-02: 100%|██████████| 10/10 [00:00<00:00, 112.67it/s]\n",
      "      10 | 3.97e-01 | 5.97e-02: 100%|██████████| 10/10 [00:00<00:00, 106.14it/s]\n",
      "      11 | 3.81e-01 | 5.95e-02: 100%|██████████| 10/10 [00:00<00:00, 115.98it/s]\n",
      "      12 | 3.67e-01 | 5.90e-02: 100%|██████████| 10/10 [00:00<00:00, 104.27it/s]\n",
      "      13 | 3.54e-01 | 5.73e-02: 100%|██████████| 10/10 [00:00<00:00, 118.38it/s]\n",
      "      14 | 3.42e-01 | 5.91e-02: 100%|██████████| 10/10 [00:00<00:00, 118.51it/s]\n",
      "      15 | 3.30e-01 | 5.72e-02: 100%|██████████| 10/10 [00:00<00:00, 118.06it/s]\n",
      "      16 | 3.19e-01 | 5.62e-02: 100%|██████████| 10/10 [00:00<00:00, 110.59it/s]\n",
      "      17 | 3.08e-01 | 5.58e-02: 100%|██████████| 10/10 [00:00<00:00, 112.09it/s]\n",
      "      18 | 2.97e-01 | 5.77e-02: 100%|██████████| 10/10 [00:00<00:00, 108.98it/s]\n",
      "      19 | 2.85e-01 | 5.77e-02: 100%|██████████| 10/10 [00:00<00:00, 106.78it/s]\n",
      "      20 | 2.74e-01 | 5.84e-02: 100%|██████████| 10/10 [00:00<00:00, 128.65it/s]\n",
      "      21 | 2.62e-01 | 5.99e-02: 100%|██████████| 10/10 [00:00<00:00, 138.91it/s]\n",
      "      22 | 2.49e-01 | 6.02e-02: 100%|██████████| 10/10 [00:00<00:00, 103.02it/s]\n",
      "      23 | 2.37e-01 | 5.81e-02: 100%|██████████| 10/10 [00:00<00:00, 105.76it/s]\n",
      "      24 | 2.24e-01 | 5.76e-02: 100%|██████████| 10/10 [00:00<00:00, 115.74it/s]\n",
      "      25 | 2.12e-01 | 5.65e-02: 100%|██████████| 10/10 [00:00<00:00, 121.61it/s]\n",
      "      26 | 2.01e-01 | 5.89e-02: 100%|██████████| 10/10 [00:00<00:00, 111.79it/s]\n",
      "      27 | 1.89e-01 | 5.87e-02: 100%|██████████| 10/10 [00:00<00:00, 115.53it/s]\n",
      "      28 | 1.77e-01 | 5.87e-02: 100%|██████████| 10/10 [00:00<00:00, 112.79it/s]\n",
      "      29 | 1.66e-01 | 5.97e-02: 100%|██████████| 10/10 [00:00<00:00, 126.52it/s]\n",
      "      30 | 1.55e-01 | 5.66e-02: 100%|██████████| 10/10 [00:00<00:00, 109.70it/s]\n",
      "      31 | 1.46e-01 | 5.92e-02: 100%|██████████| 10/10 [00:00<00:00, 109.25it/s]\n",
      "      32 | 1.36e-01 | 5.50e-02: 100%|██████████| 10/10 [00:00<00:00, 120.50it/s]\n",
      "      33 | 1.28e-01 | 5.40e-02: 100%|██████████| 10/10 [00:00<00:00, 120.31it/s]\n",
      "      34 | 1.21e-01 | 5.23e-02: 100%|██████████| 10/10 [00:00<00:00, 118.57it/s]\n",
      "      35 | 1.15e-01 | 5.44e-02: 100%|██████████| 10/10 [00:00<00:00, 109.80it/s]\n",
      "      36 | 1.09e-01 | 5.39e-02: 100%|██████████| 10/10 [00:00<00:00, 104.59it/s]\n",
      "      37 | 1.03e-01 | 5.43e-02: 100%|██████████| 10/10 [00:00<00:00, 71.03it/s]\n",
      "      38 | 9.83e-02 | 5.15e-02: 100%|██████████| 10/10 [00:00<00:00, 105.40it/s]\n",
      "      39 | 9.35e-02 | 5.38e-02: 100%|██████████| 10/10 [00:00<00:00, 113.20it/s]\n",
      "      40 | 8.93e-02 | 5.08e-02: 100%|██████████| 10/10 [00:00<00:00, 130.49it/s]\n",
      "      41 | 8.52e-02 | 5.16e-02: 100%|██████████| 10/10 [00:00<00:00, 108.04it/s]\n",
      "      42 | 8.15e-02 | 5.25e-02: 100%|██████████| 10/10 [00:00<00:00, 110.13it/s]\n",
      "      43 | 7.83e-02 | 5.02e-02: 100%|██████████| 10/10 [00:00<00:00, 110.90it/s]\n",
      "      44 | 7.56e-02 | 4.83e-02: 100%|██████████| 10/10 [00:00<00:00, 90.81it/s]\n",
      "      45 | 7.30e-02 | 4.94e-02: 100%|██████████| 10/10 [00:00<00:00, 105.15it/s]\n",
      "      46 | 7.06e-02 | 5.10e-02: 100%|██████████| 10/10 [00:00<00:00, 124.36it/s]\n",
      "      47 | 6.84e-02 | 4.74e-02: 100%|██████████| 10/10 [00:00<00:00, 107.11it/s]\n",
      "      48 | 6.64e-02 | 4.82e-02: 100%|██████████| 10/10 [00:00<00:00, 95.03it/s]\n",
      "      49 | 6.46e-02 | 4.95e-02: 100%|██████████| 10/10 [00:00<00:00, 95.57it/s]\n",
      "      50 | 6.29e-02 | 5.12e-02: 100%|██████████| 10/10 [00:00<00:00, 99.56it/s]\n",
      "      51 | 6.16e-02 | 4.92e-02: 100%|██████████| 10/10 [00:00<00:00, 107.37it/s]\n",
      "      52 | 6.02e-02 | 4.77e-02: 100%|██████████| 10/10 [00:00<00:00, 132.28it/s]\n",
      "      53 | 5.91e-02 | 4.51e-02: 100%|██████████| 10/10 [00:00<00:00, 139.93it/s]\n",
      "      54 | 5.80e-02 | 4.91e-02: 100%|██████████| 10/10 [00:00<00:00, 134.05it/s]\n",
      "      55 | 5.72e-02 | 4.75e-02: 100%|██████████| 10/10 [00:00<00:00, 136.80it/s]\n",
      "      56 | 5.64e-02 | 4.84e-02: 100%|██████████| 10/10 [00:00<00:00, 158.18it/s]\n",
      "      57 | 5.55e-02 | 4.81e-02: 100%|██████████| 10/10 [00:00<00:00, 150.01it/s]\n",
      "      58 | 5.47e-02 | 4.96e-02: 100%|██████████| 10/10 [00:00<00:00, 153.83it/s]\n",
      "      59 | 5.37e-02 | 5.00e-02: 100%|██████████| 10/10 [00:00<00:00, 161.30it/s]\n",
      "      60 | 5.29e-02 | 4.92e-02: 100%|██████████| 10/10 [00:00<00:00, 143.97it/s]\n",
      "      61 | 5.22e-02 | 4.31e-02: 100%|██████████| 10/10 [00:00<00:00, 136.11it/s]\n",
      "      62 | 5.14e-02 | 4.96e-02: 100%|██████████| 10/10 [00:00<00:00, 142.90it/s]\n",
      "      63 | 5.06e-02 | 4.82e-02: 100%|██████████| 10/10 [00:00<00:00, 154.08it/s]\n",
      "      64 | 4.99e-02 | 4.63e-02: 100%|██████████| 10/10 [00:00<00:00, 148.09it/s]\n",
      "      65 | 4.92e-02 | 4.83e-02: 100%|██████████| 10/10 [00:00<00:00, 139.09it/s]\n",
      "      66 | 4.85e-02 | 4.46e-02: 100%|██████████| 10/10 [00:00<00:00, 144.21it/s]\n",
      "      67 | 4.80e-02 | 5.01e-02: 100%|██████████| 10/10 [00:00<00:00, 147.18it/s]\n",
      "      68 | 4.74e-02 | 4.87e-02: 100%|██████████| 10/10 [00:00<00:00, 159.06it/s]\n",
      "      69 | 4.68e-02 | 4.76e-02: 100%|██████████| 10/10 [00:00<00:00, 160.69it/s]\n",
      "      70 | 4.63e-02 | 4.34e-02: 100%|██████████| 10/10 [00:00<00:00, 137.10it/s]\n",
      "      71 | 4.59e-02 | 4.56e-02: 100%|██████████| 10/10 [00:00<00:00, 162.55it/s]\n",
      "      72 | 4.55e-02 | 5.42e-02: 100%|██████████| 10/10 [00:00<00:00, 149.00it/s]\n",
      "      73 | 4.50e-02 | 4.94e-02: 100%|██████████| 10/10 [00:00<00:00, 142.76it/s]\n",
      "      74 | 4.47e-02 | 5.26e-02: 100%|██████████| 10/10 [00:00<00:00, 143.02it/s]\n",
      "      75 | 4.44e-02 | 4.81e-02: 100%|██████████| 10/10 [00:00<00:00, 143.42it/s]\n",
      "      76 | 4.42e-02 | 4.44e-02: 100%|██████████| 10/10 [00:00<00:00, 133.80it/s]\n",
      "      77 | 4.39e-02 | 4.59e-02: 100%|██████████| 10/10 [00:00<00:00, 135.71it/s]\n",
      "      78 | 4.37e-02 | 4.86e-02: 100%|██████████| 10/10 [00:00<00:00, 131.97it/s]\n",
      "      79 | 4.34e-02 | 4.75e-02: 100%|██████████| 10/10 [00:00<00:00, 104.21it/s]\n",
      "      80 | 4.32e-02 | 4.64e-02: 100%|██████████| 10/10 [00:00<00:00, 169.80it/s]\n",
      "      81 | 4.30e-02 | 4.83e-02: 100%|██████████| 10/10 [00:00<00:00, 161.47it/s]\n",
      "      82 | 4.28e-02 | 4.76e-02: 100%|██████████| 10/10 [00:00<00:00, 149.27it/s]\n",
      "      83 | 4.26e-02 | 4.81e-02: 100%|██████████| 10/10 [00:00<00:00, 150.47it/s]\n",
      "      84 | 4.23e-02 | 5.21e-02: 100%|██████████| 10/10 [00:00<00:00, 140.79it/s]\n",
      "      85 | 4.22e-02 | 4.97e-02: 100%|██████████| 10/10 [00:00<00:00, 160.38it/s]\n",
      "      86 | 4.19e-02 | 4.93e-02: 100%|██████████| 10/10 [00:00<00:00, 159.94it/s]\n",
      "      87 | 4.17e-02 | 4.84e-02: 100%|██████████| 10/10 [00:00<00:00, 159.31it/s]\n",
      "      88 | 4.15e-02 | 4.83e-02: 100%|██████████| 10/10 [00:00<00:00, 135.54it/s]\n",
      "      89 | 4.13e-02 | 4.89e-02: 100%|██████████| 10/10 [00:00<00:00, 151.65it/s]\n",
      "      90 | 4.12e-02 | 5.25e-02: 100%|██████████| 10/10 [00:00<00:00, 182.39it/s]\n",
      "      91 | 4.09e-02 | 4.67e-02: 100%|██████████| 10/10 [00:00<00:00, 149.38it/s]\n",
      "      92 | 4.07e-02 | 5.02e-02: 100%|██████████| 10/10 [00:00<00:00, 142.08it/s]\n",
      "      93 | 4.05e-02 | 5.05e-02: 100%|██████████| 10/10 [00:00<00:00, 156.45it/s]\n",
      "      94 | 4.03e-02 | 4.88e-02: 100%|██████████| 10/10 [00:00<00:00, 153.56it/s]\n",
      "      95 | 4.01e-02 | 4.73e-02: 100%|██████████| 10/10 [00:00<00:00, 159.08it/s]\n",
      "      96 | 3.99e-02 | 4.88e-02: 100%|██████████| 10/10 [00:00<00:00, 167.26it/s]\n",
      "      97 | 3.98e-02 | 5.00e-02: 100%|██████████| 10/10 [00:00<00:00, 135.62it/s]\n",
      "      98 | 3.96e-02 | 4.93e-02: 100%|██████████| 10/10 [00:00<00:00, 159.99it/s]\n",
      "      99 | 3.94e-02 | 4.76e-02: 100%|██████████| 10/10 [00:00<00:00, 160.01it/s]\n"
     ]
    }
   ],
   "source": [
    "# <1 min\n",
    "w3, loss_logs3, norm_logs3 = SGD(\n",
    "    initial_w=w0,\n",
    "    loss_class=g,\n",
    "    grad_batch_size=N//10,\n",
    "    max_epochs=100,\n",
    "    tolerance=1e-3,\n",
    "    seed=1,\n",
    "    use_line_search=True,\n",
    "    initial_alpha=0.5,\n",
    "    theta=0.9\n",
    ")"
   ]
  },
  {
   "cell_type": "code",
   "execution_count": 52,
   "metadata": {},
   "outputs": [
    {
     "name": "stdout",
     "output_type": "stream",
     "text": [
      " epoch   |   loss   |   norm  \n"
     ]
    },
    {
     "name": "stderr",
     "output_type": "stream",
     "text": [
      "       0 | 9.95e-01 | 1.49e-01: 100%|██████████| 20/20 [00:00<00:00, 279.85it/s]\n",
      "       1 | 7.66e-01 | 1.45e-01: 100%|██████████| 20/20 [00:00<00:00, 273.06it/s]\n",
      "       2 | 5.89e-01 | 1.18e-01: 100%|██████████| 20/20 [00:00<00:00, 276.61it/s]\n",
      "       3 | 4.89e-01 | 8.32e-02: 100%|██████████| 20/20 [00:00<00:00, 279.17it/s]\n",
      "       4 | 4.34e-01 | 6.80e-02: 100%|██████████| 20/20 [00:00<00:00, 279.14it/s]\n",
      "       5 | 3.96e-01 | 6.00e-02: 100%|██████████| 20/20 [00:00<00:00, 293.67it/s]\n",
      "       6 | 3.67e-01 | 5.74e-02: 100%|██████████| 20/20 [00:00<00:00, 287.73it/s]\n",
      "       7 | 3.42e-01 | 5.63e-02: 100%|██████████| 20/20 [00:00<00:00, 264.55it/s]\n",
      "       8 | 3.19e-01 | 5.54e-02: 100%|██████████| 20/20 [00:00<00:00, 282.62it/s]\n",
      "       9 | 2.97e-01 | 5.78e-02: 100%|██████████| 20/20 [00:00<00:00, 279.93it/s]\n",
      "      10 | 2.71e-01 | 5.91e-02: 100%|██████████| 20/20 [00:00<00:00, 269.30it/s]\n",
      "      11 | 2.47e-01 | 5.89e-02: 100%|██████████| 20/20 [00:00<00:00, 272.08it/s]\n",
      "      12 | 2.21e-01 | 5.93e-02: 100%|██████████| 20/20 [00:00<00:00, 279.30it/s]\n",
      "      13 | 1.98e-01 | 5.80e-02: 100%|██████████| 20/20 [00:00<00:00, 291.63it/s]\n",
      "      14 | 1.76e-01 | 5.83e-02: 100%|██████████| 20/20 [00:00<00:00, 239.09it/s]\n",
      "      15 | 1.55e-01 | 5.86e-02: 100%|██████████| 20/20 [00:00<00:00, 299.10it/s]\n",
      "      16 | 1.38e-01 | 5.52e-02: 100%|██████████| 20/20 [00:00<00:00, 287.37it/s]\n",
      "      17 | 1.21e-01 | 5.38e-02: 100%|██████████| 20/20 [00:00<00:00, 294.07it/s]\n",
      "      18 | 1.09e-01 | 5.44e-02: 100%|██████████| 20/20 [00:00<00:00, 307.37it/s]\n",
      "      19 | 9.80e-02 | 5.30e-02: 100%|██████████| 20/20 [00:00<00:00, 295.40it/s]\n",
      "      20 | 8.90e-02 | 5.03e-02: 100%|██████████| 20/20 [00:00<00:00, 244.51it/s]\n",
      "      21 | 8.14e-02 | 4.88e-02: 100%|██████████| 20/20 [00:00<00:00, 282.01it/s]\n",
      "      22 | 7.56e-02 | 5.23e-02: 100%|██████████| 20/20 [00:00<00:00, 286.16it/s]\n",
      "      23 | 7.08e-02 | 5.28e-02: 100%|██████████| 20/20 [00:00<00:00, 177.68it/s]\n",
      "      24 | 6.66e-02 | 4.98e-02: 100%|██████████| 20/20 [00:00<00:00, 280.09it/s]\n",
      "      25 | 6.32e-02 | 4.93e-02: 100%|██████████| 20/20 [00:00<00:00, 287.38it/s]\n",
      "      26 | 6.04e-02 | 4.61e-02: 100%|██████████| 20/20 [00:00<00:00, 255.00it/s]\n",
      "      27 | 5.80e-02 | 4.54e-02: 100%|██████████| 20/20 [00:00<00:00, 275.71it/s]\n",
      "      28 | 5.62e-02 | 4.67e-02: 100%|██████████| 20/20 [00:00<00:00, 279.32it/s]\n",
      "      29 | 5.47e-02 | 4.83e-02: 100%|██████████| 20/20 [00:00<00:00, 286.45it/s]\n",
      "      30 | 5.30e-02 | 5.00e-02: 100%|██████████| 20/20 [00:00<00:00, 285.62it/s]\n",
      "      31 | 5.14e-02 | 4.88e-02: 100%|██████████| 20/20 [00:00<00:00, 282.41it/s]\n",
      "      32 | 5.00e-02 | 5.45e-02: 100%|██████████| 20/20 [00:00<00:00, 299.40it/s]\n",
      "      33 | 4.86e-02 | 4.74e-02: 100%|██████████| 20/20 [00:00<00:00, 235.93it/s]\n",
      "      34 | 4.74e-02 | 4.83e-02: 100%|██████████| 20/20 [00:00<00:00, 284.67it/s]\n",
      "      35 | 4.63e-02 | 4.70e-02: 100%|██████████| 20/20 [00:00<00:00, 295.36it/s]\n",
      "      36 | 4.54e-02 | 4.80e-02: 100%|██████████| 20/20 [00:00<00:00, 289.38it/s]\n",
      "      37 | 4.47e-02 | 4.75e-02: 100%|██████████| 20/20 [00:00<00:00, 273.05it/s]\n",
      "      38 | 4.41e-02 | 4.74e-02: 100%|██████████| 20/20 [00:00<00:00, 262.99it/s]\n",
      "      39 | 4.37e-02 | 4.95e-02: 100%|██████████| 20/20 [00:00<00:00, 319.04it/s]\n",
      "      40 | 4.32e-02 | 4.85e-02: 100%|██████████| 20/20 [00:00<00:00, 291.46it/s]\n",
      "      41 | 4.29e-02 | 4.77e-02: 100%|██████████| 20/20 [00:00<00:00, 290.04it/s]\n",
      "      42 | 4.24e-02 | 5.19e-02: 100%|██████████| 20/20 [00:00<00:00, 282.94it/s]\n",
      "      43 | 4.21e-02 | 4.90e-02: 100%|██████████| 20/20 [00:00<00:00, 284.55it/s]\n",
      "      44 | 4.15e-02 | 5.00e-02: 100%|██████████| 20/20 [00:00<00:00, 278.66it/s]\n",
      "      45 | 4.11e-02 | 5.12e-02: 100%|██████████| 20/20 [00:00<00:00, 267.96it/s]\n",
      "      46 | 4.08e-02 | 5.07e-02: 100%|██████████| 20/20 [00:00<00:00, 288.71it/s]\n",
      "      47 | 4.04e-02 | 4.62e-02: 100%|██████████| 20/20 [00:00<00:00, 289.33it/s]\n",
      "      48 | 4.03e-02 | 4.79e-02: 100%|██████████| 20/20 [00:00<00:00, 286.19it/s]\n",
      "      49 | 3.95e-02 | 4.83e-02: 100%|██████████| 20/20 [00:00<00:00, 257.67it/s]\n",
      "      50 | 3.92e-02 | 5.08e-02: 100%|██████████| 20/20 [00:00<00:00, 277.22it/s]\n",
      "      51 | 3.90e-02 | 4.79e-02: 100%|██████████| 20/20 [00:00<00:00, 270.85it/s]\n",
      "      52 | 3.87e-02 | 4.58e-02: 100%|██████████| 20/20 [00:00<00:00, 277.94it/s]\n",
      "      53 | 3.87e-02 | 4.99e-02: 100%|██████████| 20/20 [00:00<00:00, 321.95it/s]\n",
      "      54 | 3.86e-02 | 4.84e-02: 100%|██████████| 20/20 [00:00<00:00, 319.86it/s]\n",
      "      55 | 3.84e-02 | 4.90e-02: 100%|██████████| 20/20 [00:00<00:00, 313.72it/s]\n",
      "      56 | 3.83e-02 | 4.80e-02: 100%|██████████| 20/20 [00:00<00:00, 310.47it/s]\n",
      "      57 | 3.83e-02 | 4.68e-02: 100%|██████████| 20/20 [00:00<00:00, 295.95it/s]\n",
      "      58 | 3.83e-02 | 4.70e-02: 100%|██████████| 20/20 [00:00<00:00, 287.84it/s]\n",
      "      59 | 3.82e-02 | 5.02e-02: 100%|██████████| 20/20 [00:00<00:00, 297.32it/s]\n",
      "      60 | 3.82e-02 | 4.45e-02: 100%|██████████| 20/20 [00:00<00:00, 308.40it/s]\n",
      "      61 | 3.82e-02 | 4.89e-02: 100%|██████████| 20/20 [00:00<00:00, 277.44it/s]\n",
      "      62 | 3.81e-02 | 4.72e-02: 100%|██████████| 20/20 [00:00<00:00, 294.02it/s]\n",
      "      63 | 3.80e-02 | 5.15e-02: 100%|██████████| 20/20 [00:00<00:00, 312.79it/s]\n",
      "      64 | 3.80e-02 | 4.56e-02: 100%|██████████| 20/20 [00:00<00:00, 310.31it/s]\n",
      "      65 | 3.79e-02 | 4.55e-02: 100%|██████████| 20/20 [00:00<00:00, 319.09it/s]\n",
      "      66 | 3.79e-02 | 4.99e-02: 100%|██████████| 20/20 [00:00<00:00, 271.78it/s]\n",
      "      67 | 3.79e-02 | 5.20e-02: 100%|██████████| 20/20 [00:00<00:00, 305.54it/s]\n",
      "      68 | 3.79e-02 | 5.24e-02: 100%|██████████| 20/20 [00:00<00:00, 302.93it/s]\n",
      "      69 | 3.78e-02 | 4.76e-02: 100%|██████████| 20/20 [00:00<00:00, 320.13it/s]\n",
      "      70 | 3.78e-02 | 4.94e-02: 100%|██████████| 20/20 [00:00<00:00, 297.19it/s]\n",
      "      71 | 3.78e-02 | 5.10e-02: 100%|██████████| 20/20 [00:00<00:00, 274.79it/s]\n",
      "      72 | 3.77e-02 | 4.97e-02: 100%|██████████| 20/20 [00:00<00:00, 309.56it/s]\n",
      "      73 | 3.77e-02 | 4.80e-02: 100%|██████████| 20/20 [00:00<00:00, 306.44it/s]\n",
      "      74 | 3.77e-02 | 4.87e-02: 100%|██████████| 20/20 [00:00<00:00, 275.02it/s]\n",
      "      75 | 3.78e-02 | 5.16e-02: 100%|██████████| 20/20 [00:00<00:00, 316.91it/s]\n",
      "      76 | 3.77e-02 | 5.05e-02: 100%|██████████| 20/20 [00:00<00:00, 308.27it/s]\n",
      "      77 | 3.76e-02 | 4.89e-02: 100%|██████████| 20/20 [00:00<00:00, 313.95it/s]\n",
      "      78 | 3.77e-02 | 5.07e-02: 100%|██████████| 20/20 [00:00<00:00, 316.22it/s]\n",
      "      79 | 3.75e-02 | 4.73e-02: 100%|██████████| 20/20 [00:00<00:00, 309.46it/s]\n",
      "      80 | 3.77e-02 | 4.64e-02: 100%|██████████| 20/20 [00:00<00:00, 300.57it/s]\n",
      "      81 | 3.76e-02 | 5.19e-02: 100%|██████████| 20/20 [00:00<00:00, 328.86it/s]\n",
      "      82 | 3.76e-02 | 4.76e-02: 100%|██████████| 20/20 [00:00<00:00, 315.07it/s]\n",
      "      83 | 3.76e-02 | 4.79e-02: 100%|██████████| 20/20 [00:00<00:00, 306.37it/s]\n",
      "      84 | 3.75e-02 | 5.39e-02: 100%|██████████| 20/20 [00:00<00:00, 313.32it/s]\n",
      "      85 | 3.76e-02 | 5.16e-02: 100%|██████████| 20/20 [00:00<00:00, 321.25it/s]\n",
      "      86 | 3.76e-02 | 5.21e-02: 100%|██████████| 20/20 [00:00<00:00, 303.85it/s]\n",
      "      87 | 3.75e-02 | 4.89e-02: 100%|██████████| 20/20 [00:00<00:00, 321.32it/s]\n",
      "      88 | 3.76e-02 | 4.80e-02: 100%|██████████| 20/20 [00:00<00:00, 163.93it/s]\n",
      "      89 | 3.75e-02 | 5.00e-02: 100%|██████████| 20/20 [00:00<00:00, 272.21it/s]\n",
      "      90 | 3.75e-02 | 5.28e-02: 100%|██████████| 20/20 [00:00<00:00, 296.30it/s]\n",
      "      91 | 3.76e-02 | 4.93e-02: 100%|██████████| 20/20 [00:00<00:00, 296.41it/s]\n",
      "      92 | 3.75e-02 | 5.47e-02: 100%|██████████| 20/20 [00:00<00:00, 321.19it/s]\n",
      "      93 | 3.76e-02 | 5.17e-02: 100%|██████████| 20/20 [00:00<00:00, 319.94it/s]\n",
      "      94 | 3.76e-02 | 4.96e-02: 100%|██████████| 20/20 [00:00<00:00, 324.01it/s]\n",
      "      95 | 3.75e-02 | 4.58e-02: 100%|██████████| 20/20 [00:00<00:00, 299.21it/s]\n",
      "      96 | 3.77e-02 | 4.98e-02: 100%|██████████| 20/20 [00:00<00:00, 319.96it/s]\n",
      "      97 | 3.76e-02 | 4.91e-02: 100%|██████████| 20/20 [00:00<00:00, 299.75it/s]\n",
      "      98 | 3.74e-02 | 5.17e-02: 100%|██████████| 20/20 [00:00<00:00, 305.01it/s]\n",
      "      99 | 3.75e-02 | 5.37e-02: 100%|██████████| 20/20 [00:00<00:00, 311.51it/s]\n"
     ]
    }
   ],
   "source": [
    "# <1 min\n",
    "w3_, loss_logs3_, norm_logs3_ = SGD(\n",
    "    initial_w=w0,\n",
    "    loss_class=g,\n",
    "    grad_batch_size=N//20,\n",
    "    max_epochs=100,\n",
    "    tolerance=1e-3,\n",
    "    seed=1,\n",
    "    use_line_search=True,\n",
    "    initial_alpha=0.5,\n",
    "    theta=0.9\n",
    ")"
   ]
  },
  {
   "cell_type": "code",
   "execution_count": 58,
   "metadata": {},
   "outputs": [
    {
     "data": {
      "image/png": "[encoded data removed]",
      "text/plain": [
       "<Figure size 640x480 with 1 Axes>"
      ]
     },
     "metadata": {},
     "output_type": "display_data"
    }
   ],
   "source": [
    "# plt.plot(loss_logs, label=\"Batch Newton - S=100%\")\n",
    "plt.plot(loss_logs1, label=\"Batch BFGS - S=10%\")\n",
    "plt.plot(loss_logs1_, label=\"Batch BFGS - S=5%\")\n",
    "plt.plot(loss_logs2, label=\"Batch L-BFGS - S=10% - m=2\")\n",
    "plt.plot(loss_logs2_, label=\"Batch L-BFGS - S=5% - m=2\")\n",
    "plt.plot(loss_logs3, label=\"SGD - S=10%\")\n",
    "plt.plot(loss_logs3_, label=\"SGD - S=5%\")\n",
    "plt.legend()\n",
    "plt.xlabel(\"Iterations\")\n",
    "plt.ylabel(\"Loss\")\n",
    "plt.yscale('log')\n",
    "plt.show()"
   ]
  },
  {
   "cell_type": "markdown",
   "metadata": {},
   "source": [
    "**Conclusion** :\n",
    "- The basic Newton method is too unstable, it is sensitive to the starting point and isn't practical due to the Hessian matrix not being invertible (not even considering the computational cost of evaluating a Hessian matrix when d is high)\n",
    "- BFGS and L-BFGS are powerful variants of the basic Newton method, they're more stable.<br> L-BFGS in particular has the advantage of not having to store the approximated inverse Hessian matrix in memory which could be particularly useful if d is high, because that would be a d² square (possibly dense) matrix. For an image of 100*100 resolution, that would be a 1e8 float matrix...\n",
    "- SGD is decent, but it converges slower in terms of iterations than the Quasi-Newton methods. One would argue that it doesn't approximate the Hessian matrix inverse, so the iterations are cheaper. <br>\n",
    "  But in this particular case, the Quasi-Newton methods are the clear winner.\n",
    "  \n",
    "- For every stochastic version of the method, there is a sweet spot between selecting the batch size, too big may be too slow but more stable, too low may be faster at the beginning but too unstable. <br> \n",
    "  Our previous experiments showed that having a medium batch size (e.g. 128-512, depending on a lot of things of course) is a good compromise between stability and convergence speed"
   ]
  },
  {
   "cell_type": "code",
   "execution_count": 65,
   "metadata": {},
   "outputs": [
    {
     "data": {
      "text/plain": [
       "12550"
      ]
     },
     "execution_count": 65,
     "metadata": {},
     "output_type": "execute_result"
    }
   ],
   "source": [
    "gc.collect()"
   ]
  },
  {
   "cell_type": "markdown",
   "metadata": {},
   "source": [
    "### Extra credit (optional): \n",
    "Choose a dataset with a testing set and compare the testing loss versus the training loss"
   ]
  }
 ],
 "metadata": {
  "kernelspec": {
   "display_name": "venv",
   "language": "python",
   "name": "python3"
  },
  "language_info": {
   "codemirror_mode": {
    "name": "ipython",
    "version": 3
   },
   "file_extension": ".py",
   "mimetype": "text/x-python",
   "name": "python",
   "nbconvert_exporter": "python",
   "pygments_lexer": "ipython3",
   "version": "3.12.2"
  }
 },
 "nbformat": 4,
 "nbformat_minor": 2
}
